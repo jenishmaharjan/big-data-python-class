{
 "cells": [
  {
   "cell_type": "markdown",
   "metadata": {},
   "source": [
    "Homework 5\n",
    "\n",
    "Copy this notebook. Rename it as: YOURNAME-HW5-streams \n",
    "\n",
    "with your name replacing YOURNAME.\n",
    "\n",
    "Upload your completed jupyter notebook to elearning site as your homework submission. You can put this notebook on your github.\n",
    "\n",
    "5.1  Register for a stream of Twitter data\n",
    "\n",
    "5.2  Create a bloom filter classifying two days worth of twitters  ( after removing stop words and urls )\n",
    "\n",
    "5.3  For another days worth of twitter data find the previous twitters that match in the bloom filter\n",
    "(This means get two days of data in one file or directory , use that data for training the bloom filter, capture a different days data in a different file ( or do it in real time)and capture the match output then running the new twitter data through the filter.\n",
    "\n",
    "5.4 Plot a historgram of matches for each twitter in 5.3\n",
    "\n",
    "For the 4-5 grade.- Submit in a separate notebook - YourNAME-Homework5-Supplement\n",
    "\n",
    "1. Use a different machine learning training algorithm\n",
    "2. Make a continous feed where you take two days of data and match the incoming stream ( do this for 5 days windowing the filter data)\n",
    "3. Find new trends in the twitter feed (daily or hourly)\n",
    "4. Or some other streaming exploration of your choosing"
   ]
  },
  {
   "cell_type": "markdown",
   "metadata": {},
   "source": [
    "# Getting Data from Twitter Streaming API\n",
    "\n",
    "The code below follows the implementation from http://adilmoujahid.com/posts/2014/07/twitter-analytics/"
   ]
  },
  {
   "cell_type": "code",
   "execution_count": null,
   "metadata": {},
   "outputs": [],
   "source": [
    "# %load Code/tweetstream.py\n",
    "#Import the necessary methods from tweepy library\n",
    "from tweepy.streaming import StreamListener\n",
    "from tweepy.auth import OAuthHandler\n",
    "from tweepy import Stream\n",
    "\n",
    "#Variables that contains the user credentials to access Twitter API \n",
    "access_token = \"1059593980374142981-t4guYC1q6o8RUpSzw3CIbgyHZ3XOkB\"\n",
    "access_token_secret = \"o2qBxUrAzu2HU5d60bb6vXpeDkJSUD39pSs5bhmnBfJ0K\"\n",
    "consumer_key = \"PeQ7nqZbgkDsLPYwUhZnCVmEc\"\n",
    "consumer_secret = \"StESHDuT5ojw4hkeN6SCS3g6bn2graXr4X1PPUiqtz1oxewsp8\"\n",
    "\n",
    "# This is a basic listener that just prints received tweets to stdout.\n",
    "class StdOutListener(StreamListener):\n",
    "    def on_data(self, data):\n",
    "        \n",
    "        #file=open(\"TweetOut.txt\",\"a\")\n",
    "        #file.write(data)\n",
    "        print(data)\n",
    "        return True\n",
    "\n",
    "    def on_error(self, status):\n",
    "        print (status)\n",
    "\n",
    "\n",
    "if __name__ == '__main__':\n",
    "    # This handles Twitter authetification and the connection to Twitter Streaming API\n",
    "    l = StdOutListener()\n",
    "    auth = OAuthHandler(consumer_key, consumer_secret)\n",
    "    auth.set_access_token(access_token, access_token_secret)\n",
    "    stream = Stream(auth, l)\n",
    "\n",
    "      # This line filter Twitter Streams to capture data by the keywords: 'Tesla', 'Stock'\n",
    "\n",
    "    stream.filter(track=['Tesla', 'SpaceX','Elon','Musk'])"
   ]
  },
  {
   "cell_type": "markdown",
   "metadata": {},
   "source": [
    "Running the tweetstream.py code to get streaming data from twitter streaming API for 3 different time periods. Tweets1.txt stores data from Dec 15 (run for about 2 hours). Tweets2.txt stores data from Dec 16 (run for about 2 hours). Tweets3.txt stores data from Dec 16 (run for abou 1 hour)."
   ]
  },
  {
   "cell_type": "code",
   "execution_count": null,
   "metadata": {},
   "outputs": [],
   "source": [
    "%%cmd\n",
    "python Code/tweetstream.py > tweets1.txt"
   ]
  },
  {
   "cell_type": "code",
   "execution_count": null,
   "metadata": {},
   "outputs": [],
   "source": [
    "%%cmd\n",
    "python Code/tweetstream.py > tweets2.txt"
   ]
  },
  {
   "cell_type": "code",
   "execution_count": null,
   "metadata": {},
   "outputs": [],
   "source": [
    "%%cmd\n",
    "python Code/tweetstream.py > tweets3.txt"
   ]
  },
  {
   "cell_type": "markdown",
   "metadata": {},
   "source": [
    "Getting the tweets from tweets1.txt into dataframe."
   ]
  },
  {
   "cell_type": "code",
   "execution_count": 1,
   "metadata": {},
   "outputs": [
    {
     "name": "stdout",
     "output_type": "stream",
     "text": [
      "1215\n"
     ]
    },
    {
     "data": {
      "text/html": [
       "<div>\n",
       "<style scoped>\n",
       "    .dataframe tbody tr th:only-of-type {\n",
       "        vertical-align: middle;\n",
       "    }\n",
       "\n",
       "    .dataframe tbody tr th {\n",
       "        vertical-align: top;\n",
       "    }\n",
       "\n",
       "    .dataframe thead th {\n",
       "        text-align: right;\n",
       "    }\n",
       "</style>\n",
       "<table border=\"1\" class=\"dataframe\">\n",
       "  <thead>\n",
       "    <tr style=\"text-align: right;\">\n",
       "      <th></th>\n",
       "      <th>text</th>\n",
       "      <th>lang</th>\n",
       "    </tr>\n",
       "  </thead>\n",
       "  <tbody>\n",
       "    <tr>\n",
       "      <th>0</th>\n",
       "      <td>RT @TansuYegen: Elon Musk, 2024’de dünyanın çe...</td>\n",
       "      <td>tr</td>\n",
       "    </tr>\n",
       "    <tr>\n",
       "      <th>1</th>\n",
       "      <td>.@Jason4006 😍😎😉</td>\n",
       "      <td>und</td>\n",
       "    </tr>\n",
       "    <tr>\n",
       "      <th>2</th>\n",
       "      <td>@gwestr @ma_xiaoju Not sure what the connectio...</td>\n",
       "      <td>en</td>\n",
       "    </tr>\n",
       "    <tr>\n",
       "      <th>3</th>\n",
       "      <td>Sale? Interesting I thought there was a backlo...</td>\n",
       "      <td>en</td>\n",
       "    </tr>\n",
       "    <tr>\n",
       "      <th>4</th>\n",
       "      <td>LOL. \"We're gonna need more batteries\"</td>\n",
       "      <td>en</td>\n",
       "    </tr>\n",
       "    <tr>\n",
       "      <th>5</th>\n",
       "      <td>RT @TansuYegen: Elon Musk, 2024’de dünyanın çe...</td>\n",
       "      <td>tr</td>\n",
       "    </tr>\n",
       "    <tr>\n",
       "      <th>6</th>\n",
       "      <td>RT @NASA: A second chance for @AstroHague to f...</td>\n",
       "      <td>en</td>\n",
       "    </tr>\n",
       "    <tr>\n",
       "      <th>7</th>\n",
       "      <td>Elon Musk defunds Jacobin in anger over bad ch...</td>\n",
       "      <td>en</td>\n",
       "    </tr>\n",
       "    <tr>\n",
       "      <th>8</th>\n",
       "      <td>@NobleNoir @Tesla Agreed. Thanks to all the wo...</td>\n",
       "      <td>en</td>\n",
       "    </tr>\n",
       "    <tr>\n",
       "      <th>9</th>\n",
       "      <td>Just ordered some sweet accessories for my @Te...</td>\n",
       "      <td>en</td>\n",
       "    </tr>\n",
       "  </tbody>\n",
       "</table>\n",
       "</div>"
      ],
      "text/plain": [
       "                                                text lang\n",
       "0  RT @TansuYegen: Elon Musk, 2024’de dünyanın çe...   tr\n",
       "1                                 .@Jason4006 😍😎😉  und\n",
       "2  @gwestr @ma_xiaoju Not sure what the connectio...   en\n",
       "3  Sale? Interesting I thought there was a backlo...   en\n",
       "4             LOL. \"We're gonna need more batteries\"   en\n",
       "5  RT @TansuYegen: Elon Musk, 2024’de dünyanın çe...   tr\n",
       "6  RT @NASA: A second chance for @AstroHague to f...   en\n",
       "7  Elon Musk defunds Jacobin in anger over bad ch...   en\n",
       "8  @NobleNoir @Tesla Agreed. Thanks to all the wo...   en\n",
       "9  Just ordered some sweet accessories for my @Te...   en"
      ]
     },
     "execution_count": 1,
     "metadata": {},
     "output_type": "execute_result"
    }
   ],
   "source": [
    "import json\n",
    "import pandas as pd\n",
    "tweets_data_path = 'tweets1.txt'\n",
    "\n",
    "tweets_data = []\n",
    "tweets_file = open(tweets_data_path, \"r\")\n",
    "for line in tweets_file:\n",
    "    try:\n",
    "        tweet = json.loads(line)\n",
    "        tweets_data.append(tweet)\n",
    "    except:\n",
    "        continue\n",
    "        \n",
    "print len(tweets_data)\n",
    "\n",
    "tweets = pd.DataFrame()\n",
    "tweets['text'] = [tweet.get('text','') for tweet in tweets_data]\n",
    "tweets['lang'] = [tweet.get('lang','') for tweet in tweets_data]\n",
    "tweets_by_lang = tweets['lang'].value_counts()\n",
    "tweets.head(10)"
   ]
  },
  {
   "cell_type": "markdown",
   "metadata": {},
   "source": [
    "Filtering Tweets in English language only."
   ]
  },
  {
   "cell_type": "code",
   "execution_count": 2,
   "metadata": {},
   "outputs": [
    {
     "name": "stdout",
     "output_type": "stream",
     "text": [
      "2     @gwestr @ma_xiaoju Not sure what the connectio...\n",
      "3     Sale? Interesting I thought there was a backlo...\n",
      "4                LOL. \"We're gonna need more batteries\"\n",
      "6     RT @NASA: A second chance for @AstroHague to f...\n",
      "7     Elon Musk defunds Jacobin in anger over bad ch...\n",
      "8     @NobleNoir @Tesla Agreed. Thanks to all the wo...\n",
      "9     Just ordered some sweet accessories for my @Te...\n",
      "10    RT @elonmusk: Tesla is releasing all vehicles ...\n",
      "11    RT @elonmusk: Tesla is releasing all vehicles ...\n",
      "12    Mysterious 'UFO' drifts past Elon Musk's Space...\n",
      "Name: text, dtype: object\n"
     ]
    }
   ],
   "source": [
    "\n",
    "tweet_text=tweets.loc[tweets['lang'] == 'en', 'text']\n",
    "\n",
    "print tweet_text.head(10) "
   ]
  },
  {
   "cell_type": "markdown",
   "metadata": {},
   "source": [
    "##### Repeating same for tweets2.txt and tweets3.txt"
   ]
  },
  {
   "cell_type": "code",
   "execution_count": 3,
   "metadata": {},
   "outputs": [
    {
     "name": "stdout",
     "output_type": "stream",
     "text": [
      "1331\n"
     ]
    },
    {
     "data": {
      "text/html": [
       "<div>\n",
       "<style scoped>\n",
       "    .dataframe tbody tr th:only-of-type {\n",
       "        vertical-align: middle;\n",
       "    }\n",
       "\n",
       "    .dataframe tbody tr th {\n",
       "        vertical-align: top;\n",
       "    }\n",
       "\n",
       "    .dataframe thead th {\n",
       "        text-align: right;\n",
       "    }\n",
       "</style>\n",
       "<table border=\"1\" class=\"dataframe\">\n",
       "  <thead>\n",
       "    <tr style=\"text-align: right;\">\n",
       "      <th></th>\n",
       "      <th>text</th>\n",
       "      <th>lang</th>\n",
       "    </tr>\n",
       "  </thead>\n",
       "  <tbody>\n",
       "    <tr>\n",
       "      <th>0</th>\n",
       "      <td>@CaldeiraEntert @Tesla @S_Padival Never</td>\n",
       "      <td>en</td>\n",
       "    </tr>\n",
       "    <tr>\n",
       "      <th>1</th>\n",
       "      <td>RT @gmbankrupt: The depths at which Elon will ...</td>\n",
       "      <td>en</td>\n",
       "    </tr>\n",
       "    <tr>\n",
       "      <th>2</th>\n",
       "      <td>RT @TansuYegen: Elon Musk, 2024’de dünyanın çe...</td>\n",
       "      <td>tr</td>\n",
       "    </tr>\n",
       "    <tr>\n",
       "      <th>3</th>\n",
       "      <td>RT @SpaceX: Dragon completed its first flight ...</td>\n",
       "      <td>en</td>\n",
       "    </tr>\n",
       "    <tr>\n",
       "      <th>4</th>\n",
       "      <td>Tesla shares could surge nearly 27% as it beco...</td>\n",
       "      <td>en</td>\n",
       "    </tr>\n",
       "    <tr>\n",
       "      <th>5</th>\n",
       "      <td>RT @TeslaOpinion: SpaceX's Starlink internet: ...</td>\n",
       "      <td>en</td>\n",
       "    </tr>\n",
       "    <tr>\n",
       "      <th>6</th>\n",
       "      <td>@xSUND0WN get a tesla</td>\n",
       "      <td>tr</td>\n",
       "    </tr>\n",
       "    <tr>\n",
       "      <th>7</th>\n",
       "      <td>@elonmusk just made my first Twitter account t...</td>\n",
       "      <td>en</td>\n",
       "    </tr>\n",
       "    <tr>\n",
       "      <th>8</th>\n",
       "      <td>I’d have lost too much if it was a conviction ...</td>\n",
       "      <td>en</td>\n",
       "    </tr>\n",
       "    <tr>\n",
       "      <th>9</th>\n",
       "      <td>@ma_xiaoju @Tesla @S_Padival This is what we a...</td>\n",
       "      <td>en</td>\n",
       "    </tr>\n",
       "  </tbody>\n",
       "</table>\n",
       "</div>"
      ],
      "text/plain": [
       "                                                text lang\n",
       "0            @CaldeiraEntert @Tesla @S_Padival Never   en\n",
       "1  RT @gmbankrupt: The depths at which Elon will ...   en\n",
       "2  RT @TansuYegen: Elon Musk, 2024’de dünyanın çe...   tr\n",
       "3  RT @SpaceX: Dragon completed its first flight ...   en\n",
       "4  Tesla shares could surge nearly 27% as it beco...   en\n",
       "5  RT @TeslaOpinion: SpaceX's Starlink internet: ...   en\n",
       "6                              @xSUND0WN get a tesla   tr\n",
       "7  @elonmusk just made my first Twitter account t...   en\n",
       "8  I’d have lost too much if it was a conviction ...   en\n",
       "9  @ma_xiaoju @Tesla @S_Padival This is what we a...   en"
      ]
     },
     "execution_count": 3,
     "metadata": {},
     "output_type": "execute_result"
    }
   ],
   "source": [
    "\n",
    "import json\n",
    "import pandas as pd\n",
    "tweets_data_path = 'tweets2.txt'\n",
    "\n",
    "tweets_data = []\n",
    "tweets_file = open(tweets_data_path, \"r\")\n",
    "for line in tweets_file:\n",
    "    try:\n",
    "        tweet = json.loads(line)\n",
    "        tweets_data.append(tweet)\n",
    "    except:\n",
    "        continue\n",
    "        \n",
    "print len(tweets_data)\n",
    "\n",
    "tweets2 = pd.DataFrame()\n",
    "tweets2['text'] = [tweet.get('text','') for tweet in tweets_data]\n",
    "tweets2['lang'] = [tweet.get('lang','') for tweet in tweets_data]\n",
    "tweets_by_lang = tweets2['lang'].value_counts()\n",
    "tweets2.head(10)"
   ]
  },
  {
   "cell_type": "code",
   "execution_count": 4,
   "metadata": {},
   "outputs": [
    {
     "name": "stdout",
     "output_type": "stream",
     "text": [
      "0               @CaldeiraEntert @Tesla @S_Padival Never\n",
      "1     RT @gmbankrupt: The depths at which Elon will ...\n",
      "3     RT @SpaceX: Dragon completed its first flight ...\n",
      "4     Tesla shares could surge nearly 27% as it beco...\n",
      "5     RT @TeslaOpinion: SpaceX's Starlink internet: ...\n",
      "7     @elonmusk just made my first Twitter account t...\n",
      "8     I’d have lost too much if it was a conviction ...\n",
      "9     @ma_xiaoju @Tesla @S_Padival This is what we a...\n",
      "10    RT @joebernard: It’s hard to describe the acce...\n",
      "12    RT @28delayslater: $TSLAQ - parking lots are e...\n",
      "Name: text, dtype: object\n"
     ]
    }
   ],
   "source": [
    "tweet_text=tweets2.loc[tweets2['lang'] == 'en', 'text']\n",
    "\n",
    "print tweet_text.head(10)"
   ]
  },
  {
   "cell_type": "code",
   "execution_count": null,
   "metadata": {},
   "outputs": [],
   "source": []
  },
  {
   "cell_type": "code",
   "execution_count": 5,
   "metadata": {},
   "outputs": [
    {
     "name": "stdout",
     "output_type": "stream",
     "text": [
      "1082\n"
     ]
    },
    {
     "data": {
      "text/html": [
       "<div>\n",
       "<style scoped>\n",
       "    .dataframe tbody tr th:only-of-type {\n",
       "        vertical-align: middle;\n",
       "    }\n",
       "\n",
       "    .dataframe tbody tr th {\n",
       "        vertical-align: top;\n",
       "    }\n",
       "\n",
       "    .dataframe thead th {\n",
       "        text-align: right;\n",
       "    }\n",
       "</style>\n",
       "<table border=\"1\" class=\"dataframe\">\n",
       "  <thead>\n",
       "    <tr style=\"text-align: right;\">\n",
       "      <th></th>\n",
       "      <th>text</th>\n",
       "      <th>lang</th>\n",
       "    </tr>\n",
       "  </thead>\n",
       "  <tbody>\n",
       "    <tr>\n",
       "      <th>0</th>\n",
       "      <td>RT @guapacho: La Tesla Gigafactory 1 ya es la ...</td>\n",
       "      <td>es</td>\n",
       "    </tr>\n",
       "    <tr>\n",
       "      <th>1</th>\n",
       "      <td>RT @moazzamkhan1508: Ordered online and got it...</td>\n",
       "      <td>en</td>\n",
       "    </tr>\n",
       "    <tr>\n",
       "      <th>2</th>\n",
       "      <td>RT @filmdenkare: \"Plüton gezegenlikten çıkarıl...</td>\n",
       "      <td>tr</td>\n",
       "    </tr>\n",
       "    <tr>\n",
       "      <th>3</th>\n",
       "      <td>@FuzeIII Fusée SpaceX :3</td>\n",
       "      <td>fr</td>\n",
       "    </tr>\n",
       "    <tr>\n",
       "      <th>4</th>\n",
       "      <td>Tesla Club Rostov in АЗС ЛУКОЙЛ @ Oktyabrskaya...</td>\n",
       "      <td>und</td>\n",
       "    </tr>\n",
       "    <tr>\n",
       "      <th>5</th>\n",
       "      <td>RT @vincent13031925: Video of Tesla ( China ) ...</td>\n",
       "      <td>en</td>\n",
       "    </tr>\n",
       "    <tr>\n",
       "      <th>6</th>\n",
       "      <td>RT @esrayigitsoy: 🔸 #FezlekeMiDedikoduMu 🔸\\n...</td>\n",
       "      <td>tr</td>\n",
       "    </tr>\n",
       "    <tr>\n",
       "      <th>7</th>\n",
       "      <td>Classic!</td>\n",
       "      <td>en</td>\n",
       "    </tr>\n",
       "    <tr>\n",
       "      <th>8</th>\n",
       "      <td>RT @RationalEtienne: @elonmusk Very nice, Elon...</td>\n",
       "      <td>en</td>\n",
       "    </tr>\n",
       "    <tr>\n",
       "      <th>9</th>\n",
       "      <td>RT @elonmusk: @brandonorselli Buying https://t...</td>\n",
       "      <td>en</td>\n",
       "    </tr>\n",
       "  </tbody>\n",
       "</table>\n",
       "</div>"
      ],
      "text/plain": [
       "                                                text lang\n",
       "0  RT @guapacho: La Tesla Gigafactory 1 ya es la ...   es\n",
       "1  RT @moazzamkhan1508: Ordered online and got it...   en\n",
       "2  RT @filmdenkare: \"Plüton gezegenlikten çıkarıl...   tr\n",
       "3                           @FuzeIII Fusée SpaceX :3   fr\n",
       "4  Tesla Club Rostov in АЗС ЛУКОЙЛ @ Oktyabrskaya...  und\n",
       "5  RT @vincent13031925: Video of Tesla ( China ) ...   en\n",
       "6  RT @esrayigitsoy: 🔸 #FezlekeMiDedikoduMu 🔸\\n...   tr\n",
       "7                                           Classic!   en\n",
       "8  RT @RationalEtienne: @elonmusk Very nice, Elon...   en\n",
       "9  RT @elonmusk: @brandonorselli Buying https://t...   en"
      ]
     },
     "execution_count": 5,
     "metadata": {},
     "output_type": "execute_result"
    }
   ],
   "source": [
    "import json\n",
    "import pandas as pd\n",
    "tweets_data_path = 'tweets3.txt'\n",
    "\n",
    "tweets_data = []\n",
    "tweets_file = open(tweets_data_path, \"r\")\n",
    "for line in tweets_file:\n",
    "    try:\n",
    "        tweet = json.loads(line)\n",
    "        tweets_data.append(tweet)\n",
    "    except:\n",
    "        continue\n",
    "        \n",
    "print len(tweets_data)\n",
    "\n",
    "tweets3 = pd.DataFrame()\n",
    "tweets3['text'] = [tweet.get('text','') for tweet in tweets_data]\n",
    "tweets3['lang'] = [tweet.get('lang','') for tweet in tweets_data]\n",
    "tweets_by_lang = tweets3['lang'].value_counts()\n",
    "tweets3.head(10)"
   ]
  },
  {
   "cell_type": "markdown",
   "metadata": {},
   "source": [
    "The followinng function is used to remove stopwords, and special characters and links from the tweets. The function will return strings containing words in lower case format."
   ]
  },
  {
   "cell_type": "code",
   "execution_count": 6,
   "metadata": {},
   "outputs": [],
   "source": [
    "import json, nltk, re\n",
    "import pandas as pd\n",
    "from nltk.corpus import stopwords\n",
    "from nltk.tokenize import word_tokenize\n",
    "\n",
    "def clean_data(tweets_data_path):\n",
    "    tweets_data = []\n",
    "    stop_words = set(stopwords.words('english'))\n",
    "    tweets_file = open(tweets_data_path, \"r\")\n",
    "    for line in tweets_file:\n",
    "        try:\n",
    "            tweet = json.loads(line)\n",
    "            if tweet[\"lang\"]=='en':\n",
    "                tweet_text = tweet[\"text\"]\n",
    "                #print tweet_text\n",
    "                filter_url = re.sub(r\"http\\S+\", \"\", tweet_text)\n",
    "                #print filter_url\n",
    "                filter_names = re.sub(r\"RT+.*\\:\", \"\", filter_url)\n",
    "                #print filter_names\n",
    "                filter_splchar = re.sub(\"[^A-Z a-z]+\", \"\", filter_names)\n",
    "                filter_stop = [word for word in (filter_splchar.lower()).split() if word not in stop_words]\n",
    "                result = ' '.join(filter_stop)\n",
    "                tweets_data.extend(result.split())       \n",
    "        except:\n",
    "            continue\n",
    "            \n",
    "    return tweets_data"
   ]
  },
  {
   "cell_type": "markdown",
   "metadata": {},
   "source": [
    "Getting the list of words from cleaned tweets from tweets1.txt and tweet2.txt"
   ]
  },
  {
   "cell_type": "code",
   "execution_count": 7,
   "metadata": {},
   "outputs": [
    {
     "name": "stdout",
     "output_type": "stream",
     "text": [
      "[u'gwestr', u'maxiaoju', u'sure', u'connection', u'tesla', u'bitcoin', u'actually', u'btc', u'skeptic', u'sale', u'interesting', u'thought', u'backlog', u'lol', u'gonna', u'need', u'batteries', u'second', u'chance', u'astrohague', u'fly', u'space', u'russian', u'spacewalk', u'check', u'repair', u'soyuz', u'amp', u'spacexs', u'dragon', u'spacec', u'elon', u'musk', u'defunds', u'jacobin', u'anger', u'bad', u'chili', u'dog', u'recommendation', u'noblenoir', u'tesla', u'agreed', u'thanks', u'workers', u'ordered', u'sweet', u'accessories', u'tesla', u'pd', u'modelxd', u'evhooks', u'cant', u'wait', u'get', u'also', u'ho', u'tesla', u'releasing', u'vehicles', u'sale', u'today', u'original', u'customer', u'cant', u'take', u'delivery', u'end', u'yearreminder', u'u', u'tesla', u'releasing', u'vehicles', u'sale', u'today', u'original', u'customer', u'cant', u'take', u'delivery']\n"
     ]
    }
   ],
   "source": [
    "tweets1_path = 'tweets1.txt'\n",
    "tweets1_clean = clean_data(tweets1_path)\n",
    "print tweets1_clean[:80]\n",
    "tweets1_words = set(tweets1_clean)\n",
    "text1_words_file = open('data/tweets1_words.txt', 'w')\n",
    "for item in list(tweets1_words):\n",
    "    text1_words_file.write(\"%s\\n\" % item)"
   ]
  },
  {
   "cell_type": "code",
   "execution_count": 8,
   "metadata": {},
   "outputs": [
    {
     "name": "stdout",
     "output_type": "stream",
     "text": [
      "[u'caldeiraentert', u'tesla', u'spadival', u'never', u'depths', u'elon', u'go', u'joke', u'admirablephoto', u'credit', u'wki', u'dragon', u'completed', u'first', u'flight', u'around', u'world', u'years', u'ago', u'today', u'since', u'dragon', u'visited', u'spacestation', u'times', u'n', u'tesla', u'shares', u'could', u'surge', u'nearly', u'becomes', u'sustainably', u'profitable', u'baird', u'says', u'p', u'license', u'print', u'money', u'competitive', u'advantage', u'reducing', u'communications', u'latencylikely', u'elonmusk', u'made', u'first', u'twitter', u'account', u'follow', u'first', u'tweet', u'let', u'say', u'mrmusk', u'inspiration', u'id', u'lost', u'much', u'conviction', u'buy', u'hold', u'best', u'investment', u'best', u'riskrewardsle', u'maxiaoju', u'tesla', u'spadival', u'waiting', u'right', u'hard', u'describe', u'acceleration', u'performance', u'instant', u'access', u'hp', u'youll']\n"
     ]
    }
   ],
   "source": [
    "tweets2_path = 'tweets2.txt'\n",
    "tweets2_clean = clean_data(tweets2_path)\n",
    "print tweets2_clean[:80]\n",
    "tweets2_words = set(tweets2_clean)\n",
    "text2_words_file = open('data/tweets2_words.txt', 'w')\n",
    "for item in list(tweets2_words):\n",
    "    text2_words_file.write(\"%s\\n\" % item)"
   ]
  },
  {
   "cell_type": "code",
   "execution_count": 9,
   "metadata": {},
   "outputs": [
    {
     "data": {
      "text/html": [
       "<div>\n",
       "<style scoped>\n",
       "    .dataframe tbody tr th:only-of-type {\n",
       "        vertical-align: middle;\n",
       "    }\n",
       "\n",
       "    .dataframe tbody tr th {\n",
       "        vertical-align: top;\n",
       "    }\n",
       "\n",
       "    .dataframe thead th {\n",
       "        text-align: right;\n",
       "    }\n",
       "</style>\n",
       "<table border=\"1\" class=\"dataframe\">\n",
       "  <thead>\n",
       "    <tr style=\"text-align: right;\">\n",
       "      <th></th>\n",
       "      <th>0</th>\n",
       "    </tr>\n",
       "  </thead>\n",
       "  <tbody>\n",
       "    <tr>\n",
       "      <th>tesla</th>\n",
       "      <td>569</td>\n",
       "    </tr>\n",
       "    <tr>\n",
       "      <th>elon</th>\n",
       "      <td>166</td>\n",
       "    </tr>\n",
       "    <tr>\n",
       "      <th>sale</th>\n",
       "      <td>138</td>\n",
       "    </tr>\n",
       "    <tr>\n",
       "      <th>vehicles</th>\n",
       "      <td>138</td>\n",
       "    </tr>\n",
       "    <tr>\n",
       "      <th>releasing</th>\n",
       "      <td>136</td>\n",
       "    </tr>\n",
       "    <tr>\n",
       "      <th>cant</th>\n",
       "      <td>136</td>\n",
       "    </tr>\n",
       "    <tr>\n",
       "      <th>today</th>\n",
       "      <td>135</td>\n",
       "    </tr>\n",
       "    <tr>\n",
       "      <th>delivery</th>\n",
       "      <td>133</td>\n",
       "    </tr>\n",
       "    <tr>\n",
       "      <th>take</th>\n",
       "      <td>130</td>\n",
       "    </tr>\n",
       "    <tr>\n",
       "      <th>u</th>\n",
       "      <td>128</td>\n",
       "    </tr>\n",
       "  </tbody>\n",
       "</table>\n",
       "</div>"
      ],
      "text/plain": [
       "             0\n",
       "tesla      569\n",
       "elon       166\n",
       "sale       138\n",
       "vehicles   138\n",
       "releasing  136\n",
       "cant       136\n",
       "today      135\n",
       "delivery   133\n",
       "take       130\n",
       "u          128"
      ]
     },
     "execution_count": 9,
     "metadata": {},
     "output_type": "execute_result"
    }
   ],
   "source": [
    "final_words1=pd.DataFrame(tweets1_clean)\n",
    "pd.DataFrame(final_words1[0].value_counts()).head(10)"
   ]
  },
  {
   "cell_type": "code",
   "execution_count": 10,
   "metadata": {},
   "outputs": [
    {
     "data": {
      "text/html": [
       "<div>\n",
       "<style scoped>\n",
       "    .dataframe tbody tr th:only-of-type {\n",
       "        vertical-align: middle;\n",
       "    }\n",
       "\n",
       "    .dataframe tbody tr th {\n",
       "        vertical-align: top;\n",
       "    }\n",
       "\n",
       "    .dataframe thead th {\n",
       "        text-align: right;\n",
       "    }\n",
       "</style>\n",
       "<table border=\"1\" class=\"dataframe\">\n",
       "  <thead>\n",
       "    <tr style=\"text-align: right;\">\n",
       "      <th></th>\n",
       "      <th>0</th>\n",
       "    </tr>\n",
       "  </thead>\n",
       "  <tbody>\n",
       "    <tr>\n",
       "      <th>tesla</th>\n",
       "      <td>564</td>\n",
       "    </tr>\n",
       "    <tr>\n",
       "      <th>elonmusk</th>\n",
       "      <td>192</td>\n",
       "    </tr>\n",
       "    <tr>\n",
       "      <th>elon</th>\n",
       "      <td>183</td>\n",
       "    </tr>\n",
       "    <tr>\n",
       "      <th>musk</th>\n",
       "      <td>130</td>\n",
       "    </tr>\n",
       "    <tr>\n",
       "      <th>model</th>\n",
       "      <td>94</td>\n",
       "    </tr>\n",
       "    <tr>\n",
       "      <th>car</th>\n",
       "      <td>74</td>\n",
       "    </tr>\n",
       "    <tr>\n",
       "      <th>get</th>\n",
       "      <td>63</td>\n",
       "    </tr>\n",
       "    <tr>\n",
       "      <th>already</th>\n",
       "      <td>56</td>\n",
       "    </tr>\n",
       "    <tr>\n",
       "      <th>know</th>\n",
       "      <td>55</td>\n",
       "    </tr>\n",
       "    <tr>\n",
       "      <th>right</th>\n",
       "      <td>55</td>\n",
       "    </tr>\n",
       "  </tbody>\n",
       "</table>\n",
       "</div>"
      ],
      "text/plain": [
       "            0\n",
       "tesla     564\n",
       "elonmusk  192\n",
       "elon      183\n",
       "musk      130\n",
       "model      94\n",
       "car        74\n",
       "get        63\n",
       "already    56\n",
       "know       55\n",
       "right      55"
      ]
     },
     "execution_count": 10,
     "metadata": {},
     "output_type": "execute_result"
    }
   ],
   "source": [
    "final_words2=pd.DataFrame(tweets2_clean)\n",
    "pd.DataFrame(final_words2[0].value_counts()).head(10)"
   ]
  },
  {
   "cell_type": "markdown",
   "metadata": {},
   "source": [
    "Now we apply the BloomFilter from pybloom to split the posts of two days. Then we store it in a dictionary with name of the file as key and list of words as values."
   ]
  },
  {
   "cell_type": "code",
   "execution_count": 11,
   "metadata": {},
   "outputs": [],
   "source": [
    "from pybloom import BloomFilter\n",
    "import os\n",
    "import re\n",
    "\n",
    "post_dir = 'data/'\n",
    "# Read all my posts.\n",
    "posts = {post_name: open(post_dir + post_name).read() for post_name in os.listdir(post_dir)}\n",
    "# Create a dictionary of {\"post name\": \"lowercase word set\"}.\n",
    "split_posts = {name: set(re.split(\"\\W+\", contents)) for name, contents in posts.items()}"
   ]
  },
  {
   "cell_type": "code",
   "execution_count": 12,
   "metadata": {},
   "outputs": [
    {
     "name": "stdout",
     "output_type": "stream",
     "text": [
      "tweets1_words.txt set(['limited', 'todays', 'augustine', 'asian', 'prebooked', 'saved', 'worked', 'galactics', 'frankhuron', 'tweet', 'davefjones', 'aut', 'honorific', 'sorry', 'spec', 'rise', 'every', 'affect', 'alvarezdec', 'prize', 'skills', 'companies', 'solution', 'teslaownersw', 'convenience', 'announced', 'euvoteleaverd', 'debuting', 'enjoy', 'force', 'corvette', 'direct', 'chef', 'second', 'street', 'n', 'blue', 'hate', 'selected', 'lights', 'solarcity', 'monty', 'fossil', 'nev', 'new', 'increasing', 'officially', 'fugl', 'shocks', 'niche', 'wiseas', 'reporter', 'never', 'china', 'cult', 'kids', 'luggage', 'employees', 'changed', 'gld', 'weekwhoops', 'reports', 'controversy', 'credit', 'smoke', 'elderberries', 'engineers', 'changes', 'cancellation', 'york', 'secure', 'stray', 'highly', 'moral', 'guests', 'would', 'army', 'played', 'bevvscott', 'asses', 'music', 'yuhh', 'tell', 'musk', 'haha', 'jmu', 'phone', 'connecticut', 'warm', 'jmn', 'plottwist', 'tariff', 'must', 'shoot', 'intake', 'enjoying', 'room', 'rights', 'work', 'eclipse', 'mh', 'roof', 'worth', 'mr', 'weekendpost', 'hinting', 'gloria', 'grimes', 'give', 'organized', 'honey', 'want', 'earthmt', 'anything', 'grainsurgeon', 'end', 'eng', 'provide', 'travel', 'soros', 'feature', 'delayslater', 'amazing', 'nasajohnson', 'interview', 'ordinary', 'audi', 'charging', 'modelowners', 'description', 'beauty', 'earlier', 'wrong', 'fat', 'president', 'las', 'wins', 'maintain', 'green', 'ultimate', 'denholm', 'order', 'wind', 'possib', 'expects', 'keyboard', 'windshield', 'ima', 'fit', 'highlights', 'better', 'production', 'weeks', 'strength', 'fil', 'aston', 'similar', 'boringcompanyday', 'break', 'bang', 'jacobin', 'snowflakes', 'csecurityalerts', 'notified', 'debut', 'l', 'addicted', 'went', 'inventors', 'side', 'bitch', 'teslaamit', 'myamtel', 'laying', 'allan', 'celebrating', 'logo', 'saturday', 'whip', 'rt', 'zoinks', 'roundabouts', 'driving', 'diesel', 'revolting', 'content', 'got', 'rn', 'engineer', 'foto', 'mattstaggs', 'sheer', 'free', 'standard', 'disputes', 'struggle', 'estimate', 'wanted', 'venus', 'coldhrt', 'installs', 'starts', 'timelapse', 'days', 'shush', 'silicon', 'moving', 'already', 'features', 'hook', 'andrewhockings', 'djia', 'another', 'drones', 'thick', 'service', 'lego', 'top', 'girls', 'bitcoin', 'electricvehicle', 'needed', 'kwkm', 'rates', 'elonmusknewsorg', 'tifftv', 'eqc', 'listen', 'segundo', 'yakima', 'took', 'ganfeng', 'thirstystep', 'peril', 'glorified', 'royalsociety', 'project', 'oshawa', 'eldon', 'iron', 'seater', 'lbs', 'egudenas', 'muskss', 'delmoi', 'mind', 'mine', 'mhiesboe', 'spent', 'analysis', 'corny', 'seen', 'seem', 'appreciating', 'socialistvoice', 'subjects', 'luxury', 'doors', 'notabigdeal', 'admkbldwn', 'even', 'gravy', 'object', 'automaker', 'moonings', 'bsa', 'evhooks', 'peers', 'episode', 'dom', 'earthspacex', 'consumed', 'dog', 'definitely', 'tech', 'californiapostmates', 'universetoday', 'responded', 'came', 'wirelessbadger', 'saying', 'meetings', 'retire', 'sage', 'attempts', 'radio', 'earth', 'nevada', 'busy', 'peasants', 'explain', 'busi', 'screening', 'rich', 'danahull', 'folks', 'festivus', 'professionals', 'de', 'watch', 'dc', 'resilient', 'amazon', 'despite', 'nasty', 'considerate', 'unfortunately', 'earl', 'jaguar', 'ever', 'bag', 'bad', 'internships', 'release', 'gigafactory', 'told', 'respond', 'disaster', 'fair', 'testing', 'num', 'result', 'best', 'midrange', 'brazil', 'said', 'capacity', 'glass', 'lots', 'away', 'irs', 'future', 'irl', 'globalist', 'hopkinsmedicine', 'approach', 'terms', 'nature', 'mtsw', 'wi', 'wh', 'mcafee', 'cut', 'news', 'picking', 'suggested', 'cop', 'ill', 'sparkling', 'follo', 'cod', 'receiver', 'contribution', 'megapack', 'inspirationtesla', 'tons', 'comprehension', 'shannonmarieda', 'unionization', 'trust', 'conference', 'sam', 'puts', 'infotainment', 'three', 'subsidy', 'much', 'life', 'relaxing', 'turned', 'buyin', 'generals', 'personally', 'cleevelyev', 'spin', 'tnrv', 'gracious', 'unsold', 'brandnew', 'epaceipace', 'launches', 'slv', 'pungent', 'air', 'stopping', 'voice', 'k', 'launched', 'superchargers', 'mexico', 'accessories', 'cant', 'im', 'superchargera', 'madonna', 'id', 'trusted', 'patent', 'things', 'make', 'beside', 'maxiaoju', 'inventory', 'troyteslike', 'cooli', 'hamster', 'wheel', 'nio', 'fremont', 'swell', 'rain', 'hand', 'truthse', 'maximizing', 'danstringer', 'charlie', 'youre', 'tho', 'thi', 'mother', 'claims', 'left', 'opinions', 'quoted', 'photo', 'teslamodelnews', 'quotes', 'via', 'thanks', 'human', 'falcon', 'tightness', 'yes', 'yet', 'previous', 'nicolas', 'buyers', 'vibration', 'munger', 'sochi', 'board', 'easy', 'save', 'plasma', 'hav', 'gothalion', 'cramer', 'opp', 'reuse', 'ssenmodnarsays', 'breaks', 'possible', 'caps', 'boxes', 'destroy', 'reusable', 'measur', 'endof', 'elserad', 'theyre', 'night', 'security', 'preorders', 'right', 'old', 'creek', 'people', 'cybersecurity', 'born', 'clubs', 'dear', 'advertise', 'purple', 'ice', 'everything', 'summoned', 'denied', 'thealbinogorila', 'christmas', 'core', 'energy', 'shaken', 'chapter', 'jrmypdro', 'dollars', 'months', 'dinner', 'ensure', 'afternoon', 'gingerbread', 'teslatunity', 'whats', 'facility', 'texting', 'titoelbandito', 'ppl', 'stop', 'entrepreneur', 'wrap', 'beth', 'chargers', 'coindesk', 'support', 'initial', 'fight', 'virgin', 'nasainsight', 'towing', 'way', 'jane', 'call', 'wat', 'happy', 'head', 'offering', 'manufacturers', 'manmade', 'sellcan', 'landing', 'back', 'wireless', 'mysterious', 'uncle', 'solar', 'true', 'humiliate', 'congratulations', 'ehabsweis', 'inside', 'morning', 'lays', 'amazingalso', 'doyendon', 'cstim', 'kentabooboo', 'tesla', 'sale', 'critique', 'candle', 'elon', 'awhile', 'annoying', 'check', 'shit', 'tesl', 'smelt', 'techs', 'brianny', 'handmade', 'spacexs', 'tim', 'interested', 'role', 'holding', 'digital', 'test', 'newbaby', 'smell', 'picture', 'delivered', 'models', 'bighill', 'update', 'squ', 'kylebakx', 'professional', 'weekend', 'billion', 'faster', 'disruption', 'salt', 'blushing', 'yacht', 'daily', 'time', 'isrockbeatspaper', 'serious', 'basically', 'concept', 'impulse', 'remarkable', 'rob', 'relieve', 'deliveries', 'grateful', 'battle', 'chair', 'certainly', 'hold', 'catoletters', 'father', 'teslamotorsclub', 'charge', 'marks', 'nainan', 'advantage', 'vegas', 'exact', 'cool', 'perceived', 'dating', 'teslarati', 'dia', 'leave', 'item', 'team', 'guy', 'yall', 'talked', 'says', 'regret', 'tougher', 'gasoline', 'discover', 'sign', 'slowed', 'htt', 'port', 'majors', 'cargo', 'tomcross', 'stands', 'heres', 'ufo', 'andrewhamerling', 'current', 'goes', 'reply', 'contemporaryart', 'understanding', 'water', 'ingenuous', 'elses', 'change', 'wait', 'boy', 'skabooshka', 'brilliant', 'dreed', 'bot', 'exams', 'usually', 'hospitality', 'lowers', 'boringcompany', 'useful', 'majorsnot', 'newabnormal', 'fake', 'drivesafe', 'everybody', 'wealth', 'working', 'visit', 'sports', 'live', 'ayy', 'iphone', 'regen', 'gateke', 'today', 'afford', 'refrain', 'rajatshrimalspacex', 'ignorant', 'adverts', 'effort', 'regardeless', 'fly', 'organizations', 'graphic', 'diarmuid', 'niggas', 'car', 'cap', 'meansome', 'reviews', 'wallet', 'values', 'making', 'goodall', 'spy', 'figure', 'mirrors', 'december', 'awesome', 'fuck', 'heard', 'critic', 'bezos', 'allowed', 'clothing', 'haulers', 'rays', 'winter', 'exceptional', 'sunday', 'dofaquarius', 'assistant', 'plus', 'thisyou', 'taxpayerfunded', 'anime', 'may', 'max', 'fueled', 'birthday', 'designed', 'date', 'suck', 'journals', 'lifting', 'man', 'remember', 'noisedont', 'maybe', 'sp', 'explicit', 'st', 'q', 'truck', 'deposit', 'african', 'sa', 'pulled', 'talk', 'typical', 'imagining', 'approx', 'breaking', 'repair', 'indeed', 'stealershipstsla', 'midnight', 'years', 'brain', 'coll', 'gemroyalty', 'cold', 'still', 'blocked', 'police', 'thank', 'theranos', 'entscheiden', 'platform', 'tweets', 'mail', 'main', 'norway', 'petition', 'maseratihq', 'artisanloaf', 'unveiling', 'views', 'half', 'nov', 'son', 'killed', 'bbcsport', 'wont', 'issresearch', 'name', 'fulldisclosure', 'lies', 'times', 'drop', 'crypto', 'realistic', 'inventi', 'entirely', 'el', 'fired', 'crushing', 'yeah', 'goose', 'unlock', 'ex', 'year', 'eu', 'happen', 'ev', 'plans', 'album', 'living', 'unio', 'opened', 'space', 'factory', 'looking', 'ipfc', 'internet', 'showroom', 'correct', 'electrek', 'theory', 'cars', 'million', 'electrified', 'zuckerberg', 'despised', 'california', 'besides', 'care', 'advance', 'underwear', 'yup', 'hewsonbrian', 'thing', 'place', 'massive', 'think', 'first', 'origin', 'tipps', 'saving', 'zaf', 'coming', 'one', 'simplified', 'long', 'suspended', 'sounds', 'drove', 'open', 'tomorrow', 'size', 'sheep', 'city', 'little', 'sredy', 'stuck', 'amarlevine', 'anyone', 'bulltesla', 'returns', 'white', 'friend', 'gives', 'europetesla', 'mining', 'hug', 'hater', 'short', 'copy', 'wide', 'lmao', 'r', 'amid', 'watchtower', 'russia', 'proactive', 'sai', 'san', 'investors', 'pri', 'changeishappening', 'sad', 'alleg', 'say', 'anger', 'sells', 'saw', 'drewambriz', 'nikola', 'efficient', 'fucking', 'offer', 'ideas', 'zoo', 'equipment', 'take', 'interior', 'performance', 'jeffbezos', 'handing', 'sure', 'multiple', 'normal', 'track', 'price', 'knew', 'imoyou', 'thegreatawakening', 'paid', 'roxie', 'exair', 'nolan', 'freshman', 'tracy', 'america', 'pages', 'quirkyllama', 'especially', 'failure', 'drive', 'wing', 'federal', 'hear', 'typically', 'salv', 'shop', 'rating', 'spacec', 'neiltyson', 'show', 'german', 'citiescommittee', 'cheap', 'bright', 'mashable', 'spacex', 'assemblyive', 'ground', 'aint', 'fibre', 'upgrade', 'enough', 'going', 'black', 'ranking', 'tjmcdoogle', 'get', 'contracts', 'itvnews', 'soon', 'wpipperger', 'cannot', 'richardbranson', 'ita', 'laguna', 'roadster', 'ssb', 'reveal', 'outperform', 'schwer', 'summary', 'miles', 'discussing', 'xmas', 'arrival', 'bbcbreaking', 'cologne', 'demystifying', 'wonder', 'planet', 'staffed', 'cbsnews', 'ways', 'marianalithium', 'review', 'behind', 'import', 'historymaking', 'reading', 'across', 'affordable', 'notice', 'tur', 'jp', 'guitar', 'clayton', 'huskhes', 'spare', 'jets', 'article', 'spirosmargaris', 'come', 'mans', 'yearrem', 'many', 'sketche', 'math', 'cleevelymotors', 'kanyewest', 'etron', 'wheels', 'traded', 'comes', 'capable', 'bricks', 'mikemo', 'nicola', 'narcissistic', 'unusual', 'marc', 'porsche', 'mark', 'mars', 'prototype', 'pinned', 'wants', 'downwind', 'photos', 'nikolateslasays', 'bmw', 'hidden', 'pilot', 'cash', 'passionflix', 'ongoing', 'prius', 'promising', 'cancelled', 'pushin', 'ive', 'secondary', 'jtseo', 'crazyjane', 'bias', 'embrace', 'abcchildsupport', 'kenya', 'technology', 'different', 'kevinclimate', 'pay', 'seeking', 'reminded', 'trip', 'gentlemen', 'food', 'buys', 'sams', 'unionize', 'anbu', 'status', 'finish', 'arctic', 'assist', 'driver', 'drives', 'driven', 'bulletproof', 'running', 'modestmoney', 'wired', 'two', 'changing', 'richhillary', 'renewable', 'driftwood', 'charger', 'ccs', 'without', 'solve', 'model', 'gates', 'money', 'valuable', 'kill', 'hhello', 'staging', 'womans', 'thinking', 'phaseout', 'seems', 'color', 'lets', 'disrupt', 'phaelehfull', 'real', 'doveywan', 'arent', 'around', 'librab', 'desperately', 'rules', 'woohoowhat', 'spaceshiptwo', 'unveil', 'fudsters', 'summ', 'huffpost', 'traffic', 'pdfbt', 'listening', 'vacuum', 'amp', 'ruled', 'terrorize', 'trumpery', 'azealia', 'miracle', 'facing', 'either', 'tower', 'classified', 'taycan', 'nikkei', 'cleantechnica', 'competition', 'specified', 'playin', 'matching', 'provided', 'novaroad', 'moon', 'critical', 'frunkload', 'provides', 'stopped', 'ldlansing', 'business', 'asap', 'selfdriving', 'iconic', 'serbanforyou', 'starship', 'found', 'manufacturer', 'helping', 'stans', 'ok', 'stations', 'othe', 'tjwatson', 'cares', 'hiatus', 'act', 'ow', 'tariffs', 'ladies', 'referenced', 'smackcheck', 'image', 'bbcnews', 'gtgt', 'welches', 'hes', 'removing', 'hey', 'lol', 'start', 'low', 'lot', 'valley', 'tiffany', 'peoplere', 'woodsmanuk', 'complete', 'slavedriver', 'witg', 'podcast', 'buying', 'pull', 'hire', 'october', 'comics', 'rationaletienne', 'dirty', 'abuses', 'agree', 'expect', 'gone', 'cnbc', 'videos', 'ai', 'ah', 'moved', 'sales', 'deep', 'planets', 'girlfriend', 'moves', 'fill', 'incorrect', 'storage', 'field', 'really', 'nasasls', 'shenzhen', 'poor', 'requested', 'regardless', 'students', 'intermed', 'hawthorne', 'push', 'important', 'massachusetts', 'recognise', 'chris', 'kyasla', 'livingntx', 'network', 'building', 'assets', 'tricks', 'u', 'songs', 'starting', 'original', 'forget', 'founder', 'ali', 'month', 'spacecraft', 'gt', 'deadline', 'talks', 'decisions', 'causes', 'rd', 'chain', 'imma', 'subjected', 'opportunities', 'tl', 'th', 'te', 'activities', 'vers', 'woman', 'song', 'far', 'mph', 'sons', 'decide', 'elonmusk', 'labor', 'bubbles', 'ramen', 'steve', 'laun', 'celebrity', 'list', 'large', 'sand', 'djmosfett', 'small', 'quicker', 'instagram', 'fence', 'ipace', 'tec', 'robyn', 'past', 'zero', 'design', 'link', 'tes', 'investment', 'teslasocialc', 'fairchildgarden', 'sub', 'consumers', 'skeptic', 'section', 'version', 'abt', 'scientists', 'learned', 'public', 'full', 'insideevs', 'etchard', 'chili', 'hours', 'smartest', 'tracks', 'kwhbadass', 'trunk', 'equations', 'legend', 'erikvlugt', 'ahead', 'bosshogghazzard', 'smokeddrank', 'persu', 'workonly', 'amount', 'breakdown', 'advertising', 'drlupo', 'pick', 'action', 'cobbo', 'vladiiisays', 'followed', 'family', 'suddenly', 'vin', 'analyzing', 'toys', 'gosh', 'environment', 'likeminded', 'teslainventory', 'eindhoven', 'fragrance', 'taken', 'ethically', 'pixar', 'inquisition', 'diamond', 'knows', 'company', 'line', 'commercialcrewtour', 'mixtape', 'fanboys', 'frunkpuppyfolding', 'stick', 'broke', 'chefoliviah', 'glad', 'town', 'keeping', 'aspirational', 'klm', 'nons', 'morgan', 'learn', 'strategies', 'male', 'history', 'beautiful', 'compare', 'share', 'states', 'minimum', 'numbers', 'purchased', 'tarkesteijn', 'primecreator', 'strandedasset', 'huge', 'needs', 'todaysart', 'imminent', 'acts', 'spacestation', 'manicmarge', 'glowing', 'influencer', 'plant', 'shouldnt', 'okay', 'tried', 'advice', 'seeshall', 'qqq', 'ff', 'waves', 'fh', 'response', 'seca', 'criticize', 'shady', 'register', 'seconds', 'dragon', 'bashing', 'fredericlambert', 'shade', 'banks', 'geographic', 'egg', 'rounded', 'ginder', 'mission', 'trade', 'held', 'tslalosing', 'paper', 'signs', 'teslataxiofseattl', 'watchtowersimon', 'mcdonalds', 'nuovarealta', 'startedif', 'hzl', 'solving', 'actually', 'systems', 'gavztheouch', 'stephen', 'might', 'intraconference', 'fool', 'good', 'return', 'sucking', 'yo', 'elontypical', 'ya', 'demographics', 'anticipated', 'breizh', 'comstock', 'easily', 'always', 'someone', 'deteriorated', 'djinnkitty', 'goofs', 'week', 'ncbirbhan', 'everyone', 'momos', 'fish', 'hard', 'miguelsuarez', 'engaging', 'valueanalyst', 'connect', 'beyond', 'event', 'sarahelizberger', 'autolease', 'perry', 'divide', 'since', 'safety', 'tiresome', 'ass', 'arbitration', 'pathetic', 'guess', 'pleasant', 'extraordinary', 'reason', 'base', 'giveaway', 'imagine', 'put', 'musketerrs', 'owners', 'launch', 'evhivemind', 'lemur', 'modelxd', 'american', 'w', 'bumper', 'feed', 'major', 'samviskovic', 'dont', 'feel', 'number', 'cattesla', 'revolution', 'done', 'firsts', 'miss', 'electriccars', 'passes', 'story', 'heads', 'jet', 'speedoreadingexperience', 'least', 'obligatory', 'paint', 'wonderful', 'mentally', 'servicetezzla', 'store', 'gps', 'selling', 'relationship', 'part', 'signaling', 'zdriver', 'hollywood', 'supercharger', 'flydat', 'king', 'kind', 'b', 'critically', 'allipoo', 'gatorinvestor', 'video', 'subsidies', 'notsellingasharebefore', 'storytelling', 'brianhousand', 'randomly', 'teslas', 'meltdown', 'confirms', 'sell', 'lie', 'built', 'ntxteslaowners', 'mrclatimer', 'also', 'costs', 'generalized', 'marsoneproject', 'club', 'added', 'electric', 'reckon', 'quote', 'eggs', 'salmon', 'plan', 'significant', 'kat', 'companys', 'extremely', 'getreal', 'mobile', 'noone', 'truthaboutspace', 'noblenoir', 'drifts', 'traditional', 'giving', 'clean', 'tubes', 'microsoft', 'lying', 'sector', 'spacemining', 'thomas', 'phenomenon', 'summer', 'hopper', 'minimizing', 'tuesdays', 'find', 'giant', 'northern', 'writes', 'grace', 'bfr', 'unjustly', 'factor', 'iiot', 'begins', 'hit', 'slandering', 'famous', 'feels', 'courage', 'batter', 'competing', 'compliments', 'downwardspiraling', 'withk', 'perfume', 'common', 'x', 'vincent', 'relentless', 'wrote', 'approaching', 'insane', 'nas', 'set', 'art', 'achieved', 'workplacesafety', 'startup', 'scenes', 'see', 'defense', 'dumb', 'sea', 'letsgetit', 'close', 'arj', 'branson', 'retweet', 'tsla', 'movie', 'wow', 'goultralow', 'thephoenixworks', 'fans', 'experi', 'nope', 'lmaaaaooooo', 'europe', 'recently', 'sold', 'fastcharge', 'coffee', 'dividend', 'succubus', 'c', 'last', 'reverse', 'license', 'secrets', 'gustado', 'foreign', 'connection', 'whole', 'baltimore', 'load', 'liked', 'supply', 'battery', 'sweet', 'ubuntu', 'dudes', 'simply', 'likes', 'linux', 'expensive', 'patiently', 'elonbachman', 'finally', 'raise', 'help', 'satire', 'hockeystick', 'whos', 'secret', 'damn', 'beacrazyjar', 'pd', 'bugatti', 'whoa', 'empty', 'kathy', 'flight', 'silenced', 'fire', 'firefighters', 'gas', 'else', 'fund', 'lives', 'disruptive', 'demand', 'prices', 'rogan', 'look', 'timelapsespacex', 'solid', 'errol', 'convo', 'budget', 'admire', 'teslaqbear', 'replaced', 'behavior', 'shift', 'fun', 'fleet', 'theres', 'larger', 'rap', 'transfor', 'demon', 'hoag', 'mises', 'terminator', 'ready', 'admkbldwnthe', 'ria', 'geniusinv', 'elons', 'amo', 'anymore', 'soulcrate', 'read', 'complaints', 'grand', 'resulting', 'higher', 'development', 'used', 'temporary', 'alert', 'couldve', 'uses', 'gonna', 'ssomething', 'idling', 'mstry', 'older', 'anybody', 'safetyvincent', 'obviously', 'person', 'cheer', 'body', 'inspirational', 'spend', 'mom', 'ceo', 'canrocaceller', 'contrarianshort', 'abstractocean', 'world', 'love', 'prince', 'carporn', 'wage', 'retirement', 'cus', 'workers', 'reviewjournal', 'cuz', 'source', 'location', 'crying', 'snap', 'capitaltsla', 'mod', 'easter', 'excited', 'niece', 'customers', 'vendor', 'randyb', 'big', 'couple', 'unlimited', 'game', 'astrohague', 'handmadeby', 'bit', 'djcrimedawg', 'prodnxghtime', 'spine', 'message', 'robertzubrin', 'popular', 'shanedawson', 'logically', 'decompile', 'google', 'often', 'absolutely', 'nasamarshall', 'groggytbear', 'streaming', 'pack', 'curious', 'brent', 'cignetti', 'defunds', 'savage', 'scale', 'per', 'prop', 'connecting', 'market', 'epic', 'vancitychris', 'run', 'bc', 'processing', 'stem', 'bu', 'step', 'become', 'chairman', 'wouldnt', 'netflix', 'techonology', 'dedham', 'range', 'wanna', 'idc', 'block', 'disclosure', 'wowwww', 'dude', 'within', 'prescientinfo', 'nonsense', 'appropriate', 'primarily', 'france', 'rolls', 'electricvehicles', 'omfg', 'ontario', 'spending', 'tingles', 'question', 'fast', 'forward', 'translate', 'invite', 'teslamotors', 'cybersec', 'crank', 'russian', 'injection', 'posted', 'pleaseteamelon', 'sihletshoko', 'gmcanada', 'us', 'um', 'brks', 'un', 'uk', 'doc', 'autonomous', 'selflanding', 'called', 'pivotalcapital', 'ordered', 'metals', 'single', 'ddoubleuchaney', 'sandalwood', 'lemon', 'johncleese', 'thinks', 'occasional', 'application', 'nap', 'backe', 'nice', 'favourite', 'lucid', 'problems', 'liners', 'theswitch', 'boredelonmusk', 'allowing', 'markiplier', 'tonywhat', 'ago', 'lane', 'e', 'age', 'vehicles', 'youtube', 'nasa', 'deansheikh', 'hello', 'code', 'barklonhusk', 'scratch', 'commoner', 'cobalt', 'alien', 'ge', 'edt', 'go', 'potsworth', 'gm', 'huebner', 'concerned', 'send', 'retweets', 'deficit', 'confirmation', 'mainstream', 'outside', 'celebrities', 'wave', 'soyuz', 'facebook', 'teslaownerssv', 'timely', 'entire', 'markbspiegel', 'henrywilliams', 'try', 'tunnel', 'ericidle', 'havent', 'evs', 'someday', 'supercharging', 'toile', 'nixonshead', 'uncomfortable', 'zu', 'believes', 'edison', 'power', 'waning', 'fine', 'uwu', 'networks', 'consistently', 'waiting', 'capital', 'bird', 'freestyle', 'cozy', 'degree', 'teleportation', 'resisting', 'let', 'others', 'invented', 'unitytruthlove', 'iamkeeferz', 'great', 'ula', 'thatd', 'adjusts', 'engine', 'products', 'premiering', 'defeat', 'rajatshrimal', 'opinion', 'makes', 'honor', 'thats', 'apple', 'claim', 'win', 'app', 'private', 'decrease', 'apply', 'use', 'lens', 'usa', 'blockchain', 'usi', 'next', 'uncrewed', 'markyusko', 'bonds', 'ultralinx', 'sammysam', 'cosmo', 'clever', 'journalists', 'upcoming', 'started', 'lilxlotus', 'train', 'jonfavs', 'teslacharts', 'iii', 'portfolios', 'hints', 'customer', 'account', 'f', 'meee', 'challenge', 'oh', 'anywhere', 'rickygervais', 'meet', 'drops', 'didnt', 'industry', 'proof', 'control', 'streamed', 'slin', 'slim', 'tax', 'high', 'dm', 'something', 'publicity', 'stfustacey', 'revi', 'united', 'docking', 'memorize', 'sit', 'stole', 'aff', 'six', 'reinstated', 'mikenoble', 'instead', 'stock', 'profile', 'especial', 'honda', 'db', 'youve', 'elonmuskheres', 'infinituscap', 'sainsburys', 'motherlybisexualno', 'hahahaha', 'engineering', 'boeing', 'sculptures', 'light', 'capsule', 'honestly', 'wadeandersonpt', 'holidays', 'healthcare', 'africans', 'flopsweat', 'move', 'outlook', 'looks', 'cnbcmakeit', 'la', 'drewwilson', 'li', 'nogasallwatts', 'permanent', 'choose', 'holiday', 'spreading', 'topaze', 'dad', 'greater', 'python', 'auto', 'dan', 'mention', 'kiss', 'front', 'day', 'successor', 'stunts', 'sobol', 'fearmusk', 'tnrgold', 'rockets', 'mode', 'truth', 'bentley', 'watchtowerin', 'sthanks', 'administrator', 'related', 'frequency', 'johnnacrider', 'witness', 'transsalamander', 'performs', 'cause', 'red', 'shut', 'ecb', 'hyundai', 'stopstsla', 'completely', 'vacations', 'early', 'sitting', 'quo', 'cristina', 'overtake', 'g', 'could', 'keep', 'creditworthiness', 'retail', 'facilitate', 'south', 'powerful', 'jesus', 'floral', 'deadlines', 'owner', 'scent', 'owning', 'guys', 'jeremycorbyn', 'roche', 'photoshopped', 'nobody', 'border', 'trivia', 'allow', 'dutch', 'hmmmmht', 'sparks', 'fuel', 'local', 'hope', 'watching', 'teslasbut', 'configured', 'enhanced', 'closer', 'tent', 'merry', 'useless', 'avon', 'whispered', 'ch', 'wall', 'uninitiated', 'suspension', 'salman', 'choices', 'knowsss', 'iot', 'ios', 'valerie', 'kevinmkruse', 'heavily', 'wealthy', 'cries', 'satellites', 'jeff', 'crushed', 'community', 'showing', 'taxpayers', 'lose', 'chick', 'arbitrage', 'footage', 'self', 'happysaturday', 'bosses', 'science', 'executives', 'billions', 'doesnt', 'additional', 'housing', 'extended', 'goals', 'ha', 'pl', 'someinfosecguy', 'mailonline', 'myk', 'haddish', 'momma'])\n",
      "tweets2_words.txt set(['ciad', 'todays', 'whoops', 'dynamic', 'onlxn', 'woods', 'solarcellphones', 'hate', 'consider', 'whose', 'buddy', 'rightish', 'tweet', 'bike', 'steezyman', 'slowest', 'spec', 'producthunt', 'updated', 'risk', 'handling', 'every', 'electronics', 'crops', 'timelapsespacex', 'companies', 'wednesday', 'red', 'cooksautorepair', 'heading', 'clothes', 'enjoy', 'force', 'leaders', 'cloudsecurity', 'tires', 'likely', 'street', 'helluva', 'estimated', 'machines', 'blue', 'loaners', 'near', 'liberty', 'lights', 'monty', 'fossil', 'new', 'evet', 'officially', 'shocks', 'coefficient', 'specialist', 'never', 'met', 'china', 'contestto', 'enron', 'enricosalad', 'kids', 'daughter', 'jams', 'ventures', 'k', 'changed', 'credit', 'ilk', 'chrysler', 'pack', 'cancellation', 'criticism', 'fantastic', 'iamhubris', 'gesichtbuch', 'seven', 'brought', 'cons', 'supercharging', 'cocaine', 'spoke', 'would', 'gloss', 'arms', 'insult', 'program', 'call', 'synergie', 'type', 'creates', 'musk', 'holy', 'wary', 'successful', 'infosec', 'prehestoric', 'tf', 'connecticut', 'excellent', 'tradeins', 'hold', 'tariff', 'must', 'dimas', 'word', 'room', 'divorced', 'work', 'gasoline', 'mh', 'roof', 'worth', 'mu', 'wort', 'install', 'mr', 'brake', 'camry', 'root', 'example', 'fortress', 'grimes', 'defer', 'give', 'libbycwatson', 'household', 'jalopnik', 'want', 'keep', 'attract', 'looser', 'absolute', 'motion', 'end', 'recovery', 'aerosmiths', 'complaining', 'travel', 'song', 'finalist', 'megazone', 'delayslater', 'amazing', 'hop', 'interview', 'infamously', 'intoelectric', 'beach', 'charging', 'gretathunberg', 'badly', 'untill', 'zupzles', 'believers', 'insecure', 'confirmed', 'lab', 'squadlinked', 'lay', 'president', 'mesa', 'royce', 'purchase', 'stry', 'third', 'wins', 'maintain', 'green', 'ritesh', 'daysgreenearthrevolution', 'fan', 'wing', 'wind', 'wine', 'frontend', 'decide', 'office', 'welcomed', 'expects', 'luisbaram', 'socialmars', 'elonmusk', 'soconjohn', 'oven', 'ancients', 'elsegewrapt', 'fit', 'tuned', 'fix', 'better', 'production', 'forethoughtmusk', 'prius', 'inventory', 'donors', 'aston', 'joebernard', 'safe', 'finish', 'elonwhat', 'jesus', 'lifelong', 'ther', 'bank', 'debut', 'l', 'detroit', 'skills', 'addicted', 'rocke', 'higher', 'side', 'luck', 'series', 'emeralds', 'pacwatson', 'used', 'reaghanherrin', 'sounds', 'whip', 'paulmhuettner', 'rv', 'roundabouts', 'driving', 'god', 'waive', 'diesel', 'elonmuskwall', 'mrkylefield', 'adapt', 'got', 'gov', 'nakedok', 'saudi', 'foto', 'city', 'californiaenergystorage', 'given', 'free', 'futano', 'deflect', 'soundcloud', 'suvs', 'enormous', 'created', 'starts', 'anointedone', 'days', 'silicon', 'shipped', 'signature', 'aspire', 'arrived', 'onto', 'size', 'already', 'features', 'pawelsucinski', 'nasasocial', 'wast', 'fantasy', 'another', 'comic', 'tyson', 'grads', 'diverting', 'anyone', 'teslaroadtrip', 'service', 'top', 'needed', 'annotates', 'rockin', 'critter', 'murder', 'bfmauto', 'took', 'nasakennedy', 'powerwall', 'task', 'western', 'unscented', 'toronto', 'rightwhat', 'redfaced', 'mostviewed', 'coward', 'second', 'ebay', 'project', 'oshawa', 'guilt', 'friend', 'iron', 'feeling', 'colonizing', 'longy', 'manned', 'entail', 'marsone', 'keithjohnston', 'nadella', 'navigate', 'aapl', 'ram', 'mind', 'mining', 'talking', 'seen', 'mins', 'lattes', 'snow', 'luxury', 'doors', 'rides', 'snowflake', 'even', 'nasaapp', 'shall', 'bruce', 'visionary', 'automaker', 'marin', 'dmed', 'regular', 'startupstreetrobots', 'autopsy', 'episode', 'observation', 'doc', 'flow', 'doe', 'definitely', 'tech', 'consumer', 'consumes', 'inout', 'saying', 'ssoa', 'dickey', 'pric', 'brilliance', 'disturbs', 'siberianodyssey', 'lethal', 'earth', 'nevada', 'apace', 'menu', 'explain', 'sugar', 'rich', 'danahull', 'folks', 'enslave', 'indepth', 'tiles', 'waitshe', 'de', 'watch', 'dc', 'amazon', 'competitive', 'wedding', 'report', 'interrogated', 'dr', 'owlowery', 'nicely', 'ever', 'twice', 'bad', 'bec', 'wannabe', 'told', 'farther', 'playstation', 'traverse', 'egearnews', 'bhuvikal', 'nut', 'testing', 'electrostatic', 'lekar', 'best', 'said', 'capacity', 'lots', 'propulsion', 'away', 'artificial', 'biggovt', 'future', 'humankind', 'approach', 'letting', 'wears', 'nationwide', 'tofakeability', 'wo', 'ignorance', 'wi', 'wh', 'ww', 'louiswei', 'extent', 'downgrade', 'news', 'alanglancey', 'secenforcement', 'received', 'climate', 'monoganie', 'resistant', 'country', 'ill', 'coz', 'knallishcr', 'games', 'planned', 'countri', 'megapack', 'ily', 'tons', 'massive', 'starlink', 'trust', 'hitler', 'san', 'conference', 'fra', 'puts', 'chrome', 'three', 'darnaethedream', 'much', 'interest', 'brianwalton', 'entered', 'kenkremer', 'life', 'jyotsnadevi', 'heinthesayer', 'irvine', 'dave', 'catch', 'worked', 'haters', 'stomped', 'launches', 'air', 'lizard', 'neat', 'dashboard', 'leanonly', 'balance', 'employees', 'launched', 'mailby', 'stink', 'pyramid', 'cont', 'florida', 'ii', 'player', 'cant', 'eighteen', 'im', 'helpchangeachildsworld', 'id', 'hong', 'descent', 'things', 'make', 'threeday', 'craigslist', 'maxiaoju', 'emicimaz', 'possibilitiesapp', 'lithium', 'showing', 'wheel', 'successrupaul', 'satellite', 'nio', 'screw', 'fremont', 'social', 'tops', 'rain', 'kim', 'supper', 'pioneers', 'kia', 'truthse', 'insideev', 'kid', 'butter', 'hopping', 'youre', 'cuppykait', 'tho', 'teamelon', 'thi', 'mother', 'claims', 'alabama', 'phillipliberal', 'pronouncements', 'left', 'yea', 'photo', 'edmonton', 'rotated', 'yeg', 'quotes', 'thanks', 'yes', 'yet', 'thankfully', 'ecoheliguy', 'n', 'board', 'easy', 'spacenews', 'save', 'humanity', 'gave', 'reuse', 'vin', 'breaks', 'operatortoown', 'possible', 'possibly', 'boxer', 'performance', 'govt', 'unique', 'dreams', 'reusable', 'bro', 'ditto', 'gift', 'cooler', 'manual', 'zoom', 'theyre', 'dayteslas', 'officer', 'night', 'security', 'preorders', 'attorney', 'right', 'old', 'people', 'crown', 'dead', 'neve', 'born', 'dear', 'advertise', 'xbox', 'humor', 'comments', 'everything', 'asking', 'orleanssp', 'christmas', 'demonhawk', 'core', 'aayenge', 'knew', 'pls', 'marketing', 'plz', 'burj', 'trccper', 'feckin', 'losing', 'post', 'liye', 'bentleyfebruary', 'maybemusk', 'months', 'hmmyes', 'burbank', 'misleading', 'plus', 'commit', 'efforts', 'automatically', 'primitive', 'whats', 'facility', 'som', 'son', 'entrepreneur', 'wrap', 'reducing', 'giv', 'rivalvoices', 'support', 'flying', 'fight', 'virgin', 'way', 'goddamn', 'music', 'hickslur', 'war', 'launching', 'happy', 'timestamped', 'head', 'form', 'offer', 'fascination', 'paypal', 'landing', 'ford', 'wireless', 'failure', 'heat', 'ocasio', 'solar', 'melanin', 'true', 'reset', 'congratulations', 'builds', 'refueling', 'inside', 'cand', 'tell', 'utilitysized', 'lays', 'smashed', 'emotional', 'cosmos', 'panels', 'enthusiastic', 'crimsonruari', 'futanarifemale', 'later', 'tesla', 'drive', 'proves', 'expertise', 'elon', 'accounting', 'exist', 'trip', 'shit', 'specially', 'nl', 'nc', 'tip', 'spacexs', 'reality', 'interested', 'holding', 'digital', 'test', 'kenyan', 'company', 'nv', 'picture', 'modelx', 'brothers', 'models', 'haha', 'outage', 'update', 'squ', 'detox', 'usmc', 'gets', 'jyotsnavarma', 'longer', 'customerservice', 'fanboys', 'daily', 'time', 'push', 'serious', 'decision', 'remarkable', 'global', 'deliveries', 'leads', 'goldengatebridge', 'manager', 'mile', 'buddys', 'skin', 'battle', 'inverse', 'zone', 'editors', 'teslamotorsclub', 'charge', 'burlington', 'marks', 'outmoded', 'giga', 'brown', 'advantage', 'degrasse', 'cyan', 'joshikvn', 'minute', 'cool', 'impressive', 'tear', 'apartheid', 'teslarati', 'posts', 'gun', 'tabledelete', 'gaspo', 'leave', 'p', 'fakedemand', 'enou', 'team', 'guy', 'says', 'trend', 'boca', 'endof', 'cost', 'mj', 'port', 'majors', 'stands', 'heres', 'contracted', 'shares', 'current', 'goes', 'reply', 'supporting', 'v', 'lefty', 'water', 'upgrade', 'along', 'roaring', 'change', 'wait', 'alto', 'chanos', 'brilliant', 'rethink', 'women', 'suggestion', 'ncaat', 'rafael', 'love', 'extra', 'fake', 'fbi', 'crisis', 'market', 'supercharger', 'troops', 'working', 'australias', 'super', 'dude', 'predictions', 'sports', 'live', 'iphone', 'wondering', 'today', 'olddeveloped', 'sharing', 'club', 'apparent', 'clue', 'upgradable', 'everywhere', 'savior', 'easiest', 'ferra', 'batte', 'car', 'addictedunderwear', 'ciss', 'hubris', 'stature', 'growing', 'making', 'nowmarkbspiegel', 'crazy', 'trump', 'stream', 'uslisted', 'december', 'awesome', 'despot', 'fuck', 'heard', 'bezos', 'moodewji', 'offense', 'hydrogen', 'bankrupt', 'johnforcefc', 'tictoc', 'discussion', 'exceptional', 'scooty', 'chemical', 'till', 'gaynorann', 'dofaquarius', 'nyc', 'thisyou', 'eight', 'map', 'product', 'information', 'may', 'max', 'slush', 'use', 'complicitaly', 'ericdubay', 'applications', 'mac', 'produce', 'improving', 'suck', 'grow', 'man', 'natural', 'remember', 'conscious', 'maybe', 'q', 'cannot', 'truck', 'deposit', 'sm', 'tall', 'pulled', 'talk', 'typical', 'ratioatampt', 'indeed', 'wishing', 'years', 'course', 'ogle', 'fragger', 'cold', 'still', 'blocked', 'satya', 'group', 'thank', 'entscheiden', 'jim', 'hot', 'firenicefly', 'platform', 'anozieudemezue', 'celebrate', 'policy', 'norway', 'texas', 'non', 'finance', 'unveiling', 'views', 'killer', 'thejillgrill', 'jvidyasagar', 'saban', 'half', 'recap', 'nov', 'discuss', 'wont', 'term', 'name', 'chuckled', 'january', 'drop', 'silversurfer', 'engadget', 'retweeetplease', 'rock', 'em', 'fired', 'challenged', 'yeah', 'ex', 'year', 'shortingisfun', 'modelowners', 'happen', 'avoided', 'greatpaulsmith', 'es', 'plans', 'canada', 'living', 'opened', 'space', 'commercialcrew', 'factory', 'resilience', 'looking', 'seriously', 'uncg', 'kent', 'suggesting', 'showroom', 'electrek', 'creating', 'monster', 'cars', 'million', 'pumping', 'zuckerberg', 'california', 'ord', 'techgnostik', 'care', 'advance', 'training', 'midel', 'fa', 'advandermeer', 'wrong', 'chevy', 'thing', 'place', 'aboard', 'sho', 'think', 'first', 'blind', 'comanche', 'toyotafebruary', 'saving', 'vanandtrucknews', 'one', 'americans', 'long', 'directly', 'fwiwmeet', 'impossible', 'message', 'open', 'george', 'engineer', 'earths', 'little', 'sheet', 'quality', 'trillion', 'teslapittsburgh', 'teslaagnostic', 'psychotic', 'cooling', 'alfred', 'white', 'frame', 'speaking', 'slashes', 'eyes', 'inefficient', 'mostly', 'hum', 'freemediahub', 'alan', 'released', 'konradbilinski', 'holder', 'innovators', 'lmao', 'gotta', 'donovanbass', 'automakers', 'optimism', 'r', 'prehisto', 'ontrack', 'watchtower', 'wingandhi', 'ana', 'angel', 'mindfulness', 'michele', 'locations', 'say', 'conspiracy', 'anytime', 'horsepower', 'sells', 'saw', 'numerics', 'nikola', 'offering', 'efficient', 'veteran', 'note', 'intends', 'take', 'online', 'interior', 'wanting', 'blinding', 'channel', 'begin', 'sure', 'investigations', 'price', 'enter', 'thegreatawakening', 'paid', 'insanity', 'courtneyforce', 'beth', 'teslaopinion', 'lawn', 'especially', 'flawlessly', 'montage', 'proud', 'sale', 'order', 'ways', 'ferrari', 'nuclear', 'pennalexander', 'professional', 'salv', 'laws', 'walking', 'shot', 'show', 'german', 'cheap', 'elevate', 'dealerships', 'spacex', 'crashing', 'aint', 'slow', 'interrogations', 'customtesla', 'robo', 'going', 'black', 'stain', 'carolina', 'get', 'godxeno', 'toca', 'freezing', 'truly', 'killers', 'nearly', 'stinger', 'richardbranson', 'innear', 'roadster', 'prime', 'schwer', 'elonspromises', 'worried', 'naked', 'uphow', 'miles', 'bought', 'smokestackfreeevfuelrefineryonm', 'husband', 'doinga', 'reveals', 'pennyworth', 'welcome', 'college', 'parking', 'progress', 'layi', 'wonder', 'momelonmuskwith', 'satisfying', 'federal', 'review', 'cd', 'enough', 'import', 'justified', 'reading', 'across', 'notice', 'infrastructure', 'jobs', 'screen', 'tatodehouston', 'jets', 'article', 'paines', 'come', 'interestin', 'forumotion', 'mans', 'many', 'according', 'dtothetubbs', 'tour', 'planetwhy', 'asymco', 'comes', 'among', 'fuelfreefuelforevergonna', 'color', 'robotics', 'por', 'pos', 'whatley', 'gauntlet', 'narcissistic', 'considering', 'unusual', 'scaniag', 'renaulttrucksco', 'tuning', 'cares', 'porsche', 'mark', 'mongers', 'almighty', 'mars', 'billionaires', 'featuring', 'mary', 'engine', 'newroads', 'spannerless', 'spills', 'wake', 'bmw', 'careful', 'former', 'case', 'janies', 'cash', 'w', 'ignition', 'situation', 'ive', 'eventually', 'rubbing', 'spadival', 'quiet', 'middle', 'good', 'donating', 'litres', 'technology', 'ship', 'worry', 'different', 'gigafactorys', 'dealer', 'ya', 'followers', 'underestimate', 'struggling', 'emojis', 'week', 'valueanalyst', 'hollestellearco', 'arctic', 'assist', 'driver', 'drives', 'weed', 'running', 'wired', 'deff', 'nandaji', 'changing', 'totally', 'renewable', 'costa', 'daytona', 'charger', 'ranch', 'magical', 'without', 'solve', 'spark', 'model', 'nah', 'comment', 'money', 'videotraining', 'compound', 'neon', 'rest', 'groupunicorn', 'kill', 'actor', 'satin', 'blow', 'announcement', 'lightbulbs', 'death', 'thinking', 'thinkinf', 'phaseout', 'seems', 'except', 'bricks', 'lets', 'bryr', 'extensive', 'phaelehfull', 'real', 'around', 'spectacular', 'read', 'colony', 'sums', 'gonna', 'unveil', 'unedited', 'traffic', 'amp', 'glitches', 'disappointed', 'mod', 'buffaloscribe', 'fortune', 'intel', 'pprstrtspcmpy', 'wepowerbuffalo', 'either', 'drainage', 'cowboyartist', 'tower', 'passionate', 'ampsatisfying', 'maximize', 'passers', 'mbulger', 'cleantechnica', 'competition', 'realdonaldtrump', 'wofford', 'cowboys', 'organizing', 'thinks', 'booming', 'provided', 'savitritvs', 'confirm', 'rdutoatl', 'searing', 'luxembourg', 'dealership', 'deficit', 'content', 'willie', 'destroys', 'football', 'business', 'intimate', 'selfdriving', 'leno', 'nails', 'volkswagen', 'negativecarbon', 'broken', 'leadership', 'exciting', 'manufacturer', 'ok', 'oh', 'jeep', 'industry', 'generated', 'stand', 'karax', 'bond', 'road', 'burning', 'whites', 'image', 'determine', 'welches', 'hes', 'hazards', 'hey', 'lol', 'eloned', 'caranddriver', 'low', 'lot', 'imriding', 'valley', 'dtyates', 'hard', 'complete', 'delayed', 'curiously', 'trying', 'buying', 'faster', 'abused', 'pull', 'hire', 'fraud', 'rage', 'wholesale', 'sclany', 'ruse', 'junkscience', 'emissions', 'grasp', 'agree', 'expect', 'wants', 'ac', 'ab', 'ad', 'videos', 'ai', 'describe', 'al', 'deep', 'general', 'ap', 'tshirt', 'tankers', 'az', 'film', 'ice', 'hasnt', 'cleantechnicainterview', 'bored', 'drivers', 'storage', 'field', 'earthen', 'poor', 'congress', 'registra', 'gifts', 'important', 'coverage', 'included', 'finals', 'imminently', 'network', 'building', 'calls', 'wife', 'invest', 'carcollection', 'inevit', 'fraudulent', 'mass', 'nelson', 'hugely', 'husky', 'original', 'forget', 'chinese', 'goa', 'asteroids', 'month', 'thoughtful', 'vwgroup', 'follow', 'ufofalcon', 'crazybismuth', 'causes', 'responsiveness', 'apartment', 'tm', 'likeforlike', 'th', 'dirty', 'alberta', 'siblings', 'te', 'ghana', 'sound', 'woman', 'worse', 'sitting', 'far', 'horror', 'solarworldusa', 'fav', 'induce', 'worst', 'railedhello', 'thebodyshopuk', 'atcosmicperfume', 'condition', 'alien', 'godspeed', 'laun', 'forth', 'celebrity', 'laying', 'large', 'sand', 'saboteur', 'small', 'fence', 'foxnews', 'past', 'zero', 'design', 'value', 'nba', 'tes', 'investment', 'fairchildgarden', 'sue', 'sub', 'continuetslaq', 'version', 'alannapolisvel', 'princembs', 'poshmentorino', 'racing', 'public', 'raton', 'valk', 'full', 'escaping', 'insideevs', 'component', 'cumminsengines', 'hours', 'smartest', 'compressed', 'november', 'strong', 'legend', 'sanfrancisco', 'conviction', 'inspired', 'experience', 'pics', 'amount', 'horrified', 'pick', 'options', 'via', 'shuffle', 'family', 'turkey', 'suddenly', 'africa', 'virgins', 'follower', 'appliances', 'deleware', 'gaas', 'environment', 'eye', 'takes', 'destination', 'finally', 'comparing', 'chanceeverybody', 'taken', 'sarnia', 'flat', 'straightup', 'knows', 'benwikler', 'essenviews', 'tested', 'domination', 'grisly', 'stick', 'mahindraapril', 'producing', 'glad', 'town', 'blemishes', 'include', 'hour', 'science', 'atari', 'surfersolar', 'dec', 'beautiful', 'compare', 'scam', 'scal', 'thenewclmb', 'share', 'accept', 'states', 'ironic', 'sense', 'scat', 'huge', 'needs', 'comfortable', 'rather', 'panthercrazy', 'utilize', 'businessinsider', 'plant', 'galactic', 'intended', 'commuternyc', 'connectivity', 'lighting', 'coming', 'timwjackson', 'fl', 'response', 'carmaker', 'fo', 'lunarluster', 'eindhoven', 'tweeting', 'trevor', 'dragon', 'kidarianagrande', 'bradn', 'giza', 'shade', 'media', 'banks', 'playing', 'help', 'chinesete', 'soon', 'installed', 'isnt', 'embassy', 'signs', 'hell', 'smiling', 'cheated', 'developer', 'moazzamkhan', 'rapidtransit', 'exact', 'tsscimajic', 'actually', 'systems', 'bummer', 'travelling', 'might', 'kyleanotjenner', 'colleague', 'someone', 'somebody', 'yo', 'seeking', 'ceo', 'primary', 'walls', 'milestone', 'foot', 'fanatics', 'always', 'louaaayyy', 'transcendentfr', 'tra', 'stopped', 'turns', 'dif', 'seriouslyelon', 'starkor', 'reactions', 'everyone', 'neil', 'fairing', 'energy', 'thespaceshipco', 'idea', 'oil', 'abledoc', 'really', 'riskrewardsle', 'wflash', 'teak', 'since', 'inducer', 'payload', 'misses', 'safety', 'hood', 'print', 'issue', 'meaningness', 'ass', 'pum', 'reporting', 'grand', 'guess', 'nightskyglowing', 'reason', 'imagine', 'put', 'asi', 'beginning', 'wall', 'thrown', 'owners', 'acura', 'benefits', 'thread', 'launch', 'computers', 'caption', 'spacestation', 'threat', 'leading', 'castle', 'major', 'dont', 'feel', 'number', 'understandable', 'celeb', 'done', 'companyit', 'firsts', 'miss', 'passes', 'story', 'cyberpunkfixer', 'temperature', 'notslabs', 'blossom', 'divorce', 'jamesdeboer', 'least', 'paint', 'exlovers', 'station', 'smile', 'storm', 'brinkinstitute', 'scra', 'store', 'gps', 'catapult', 'selling', 'statement', 'relationship', 'behind', 'immediate', 'atxfightclub', 'part', 'sign', 'convinced', 'hollywood', 'center', 'financing', 'critically', 'double', 'risks', 'lease', 'declare', 'charlotte', 'idled', 'comput', 'overstate', 'teslas', 'orders', 'option', 'sell', 'lie', 'nights', 'securitization', 'check', 'isscasis', 'also', 'costs', 'build', 'play', 'experienced', 'electric', 'frauds', 'depths', 'inability', 'hired', 'charm', 'plan', 'significant', 'nothing', 'extremely', 'janas', 'salary', 'kg', 'dealers', 'ke', 'kk', 'truthaboutspace', 'cover', 'drifts', 'giving', 'clean', 'physics', 'shoutout', 'joining', 'thomas', 'phenomenon', 'gold', 'enphase', 'businesses', 'carefully', 'stores', 'fine', 'find', 'fing', 'mifand', 'giant', 'believe', 'consistently', 'nervous', 'less', 'failed', 'idiots', 'wayne', 'pretty', 'factor', 'hit', 'meanwhile', 'sights', 'sunny', 'trees', 'capsule', 'courage', 'fastest', 'anandasara', 'banner', 'restart', 'resolve', 'sustainably', 'remove', 'perfume', 'banking', 'common', 'sustainable', 'x', 'vincent', 'approaching', 'insane', 'set', 'art', 'dump', 'mrmusk', 'senpairektcr', 'startup', 'see', 'individual', 'sec', 'sea', 'cleverly', 'close', 'vins', 'branson', 'retweet', 'tsla', 'visiting', 'movie', 'wow', 'please', 'fans', 'vindiesel', 'probably', 'experi', 'nope', 'available', 'recently', 'responses', 'intimidated', 'javascript', 'liketesla', 'franchise', 'console', 'c', 'last', 'license', 'secrets', 'foreign', 'became', 'buzz', 'mean', 'rawlinson', 'liked', 'point', 'battery', 'incredi', 'whatever', 'garvpe', 'simply', 'likes', 'configured', 'xiamlegend', 'mission', 'expensive', 'roofing', 'consuming', 'cream', 'raise', 'instrument', 'create', 'jayleno', 'due', 'zucc', 'reduction', 'motorcyclejust', 'pd', 'collected', 'patrolled', 'empty', 'modern', 'ganirudh', 'plantsthen', 'thebuffalonews', 'upstart', 'gas', 'requires', 'mine', 'coeur', 'lives', 'demand', 'mikegordon', 'plants', 'referrals', 'rogan', 'look', 'jmusportsnews', 'straight', 'jessicadharvard', 'admire', 'pace', 'fun', 'fleet', 'khashoggi', 'theres', 'grip', 'motors', 'mugenx', 'teslainvernon', 'audi', 'elons', 'james', 'cummins', 'hypercar', 'propping', 'incars', 'peoples', 'teslafakesneed', 'development', 'arrives', 'dime', 'yesterday', 'cement', 'holidays', 'viewing', 'slye', 'moving', 'koch', 'wheelchairs', 'finebaum', 'wheres', 'recent', 'lower', 'distributiondisaster', 'navigation', 'carpolrey', 'spent', 'analysis', 'obviously', 'person', 'likeforfolo', 'savvy', 'entry', 'cryogenic', 'inducers', 'contrarianshort', 'loaner', 'startups', 'summaries', 'profitable', 'cut', 'tiltnotmachines', 'workers', 'cuz', 'location', 'amazingchevvolt', 'excited', 'customers', 'march', 'stein', 'big', 'couple', 'unlimited', 'game', 'biz', 'moods', 'falcon', 'bit', 'lathrop', 'projects', 'reusability', 'success', 'semi', 'cogs', 'glitters', 'toyota', 'seemaud', 'ignore', 'communications', 'continue', 'two', 'often', 'fucking', 'parrika', 'back', 'phone', 'traits', 'palo', 'kongs', 'curious', 'newsletter', 'irresistible', 'jallen', 'delivered', 'scale', 'absolutely', 'though', 'whove', 'per', 'religion', 'innovation', 'cignetti', 'epic', 'anna', 'limitless', 'run', 'ufo', 'vincents', 'fed', 'bk', 'nasafltdirector', 'bu', 'step', 'lasts', 'refuses', 'wildlife', 'selecti', 'wouldnt', 'netflix', 'graduation', 'simulation', 'range', 'voltronrecordz', 'beans', 'wanna', 'block', 'addict', 'visit', 'abusive', 'services', 'caldeiraentert', 'steven', 'lesson', 'france', 'rolls', 'smells', 'ontario', 'computer', 'spac', 'apparently', 'apartments', 'question', 'fast', 'tonyastylz', 'forward', 'threeeee', 'opens', 'tesladouble', 'inches', 'registered', 'teslamotors', 'boys', 'archaic', 'link', 'factscomment', 'posted', 'info', 'pessimism', 'us', 'ur', 'planet', 'uh', 'uk', 'planes', 'autonomous', 'similar', 'called', 'enchantedbynature', 'uber', 'megamania', 'sometimes', 'ordered', 'defined', 'bigredmachine', 'package', 'char', 'engineering', 'warning', 'testla', 'cafe', 'theyll', 'objection', 'bfmtv', 'occasional', 'tnmadisontaylor', 'electrical', 'explorespaceksc', 'ctuna', 'nice', 'therealalev', 'draw', 'exp', 'correspon', 'problems', 'lucia', 'drag', 'reservation', 'fillyourstockings', 'ludalisl', 'structure', 'ryand', 'ago', 'tcphysicist', 'e', 'vehicles', 'youtube', 'orbit', 'nasa', 'jmartnyt', 'underrated', 'buffalo', 'gt', 'sales', 'kanan', 'steve', 'gf', 'detroitnews', 'unmatched', 'go', 'gm', 'tweeted', 'issues', 'compact', 'itll', 'send', 'exis', 'worldcom', 'dramatically', 'resources', 'lunar', 'pay', 'automotive', 'continues', 'johnpapa', 'grid', 'putting', 'chiphappened', 'drinking', 'wipe', 'ibm', 'deposits', 'magic', 'markbspiegel', 'button', 'jsise', 'mcelarier', 'try', 'race', 'congrats', 'havent', 'evs', 'specad', 'smaller', 'xthose', 'goodies', 'joker', 'muskbrethren', 'carted', 'video', 'picked', 'zu', 'twitters', 'nextjanuary', 'power', 'lehman', 'scottmcolbert', 'tuesdays', 'networks', 'access', 'seconds', 'waiting', 'indian', 'iainb', 'body', 'chose', 'chinas', 'commercial', 'wraps', 'following', 'explore', 'let', 'ubuntu', 'sexy', 'allthis', 'mindset', 'great', 'thatd', 'didnt', 'casino', 'residents', 'pwunion', 'makes', 'maker', 'thats', 'apple', 'scales', 'win', 'app', 'boxy', 'motor', 'sgf', 'confidence', 'refers', 'usa', 'next', 'uncrewed', 'doubt', 'vehicle', 'means', 'subsidies', 'automobile', 'stem', 'upcoming', 'started', 'becomes', 'whoneedstechnology', 'integrate', 'tonawanda', 'baby', 'teslacharts', 'iii', 'hints', 'customer', 'account', 'f', 'tunnel', 'ride', 'sre', 'salar', 'enjoying', 'thin', 'drops', 'potus', 'proof', 'control', 'boudin', 'tap', 'ethanlu', 'process', 'lock', 'billboards', 'tax', 'knovigator', 'high', 'villain', 'something', 'slip', 'wonderful', 'united', 'syndrome', 'destroying', 'holds', 'brian', 'musks', 'instead', 'struggled', 'panic', 'oz', 'gregkable', 'archiearch', 'waitlist', 'farm', 'stop', 'collection', 'fart', 'vineyards', 'nonei', 'winter', 'conducted', 'boeing', 'martins', 'light', 'watson', 'buddendorf', 'chief', 'baird', 'honestly', 'neofeudalism', 'mdad', 'american', 'disrespecting', 'secured', 'transformation', 'ener', 'produces', 'despite', 'including', 'looks', 'mentioned', 'badger', 'perfect', 'spotify', 'le', 'marajuana', 'located', 'competitiv', 'drewwilson', 'sunday', 'winning', 'lt', 'lr', 'choose', 'orange', 'muskhow', 'holiday', 'scotus', 'python', 'auto', 'material', 'actualized', 'hands', 'front', 'republican', 'day', 'worlds', 'february', 'anyth', 'warned', 'registrations', 'colonize', 'firings', 'rockets', 'mode', 'truth', 'stock', 'mikeonthebayou', 'admirablephoto', 'amitshah', 'sthanks', 'ambiance', 'society', 'books', 'johnnacrider', 'popping', 'secretly', 'borderline', 'res', 'aspiring', 'grohmann', 'mate', 'eathwat', 'autopilot', 'memes', 'rea', 'cause', 'blasting', 'announced', 'afford', 'studentlike', 'tzero', 'completely', 'gigafactory', 'steering', 'worldtrendsinfo', 'organic', 'g', 'spill', 'gallons', 'could', 'area', 'ask', 'times', 'chinesetesla', 'felt', 'mein', 'chills', 'south', 'powerful', 'owned', 'alleged', 'bitch', 'scent', 'ancient', 'start', 'ordering', 'cashmere', 'system', 'attack', 'intelligence', 'evansville', 'final', 'foretelling', 'misunderstood', 'sundaymorning', 'gear', 'shorts', 'completed', 'exactly', 'chryslermarch', 'environmental', 'anyones', 'july', 'momen', 'loved', 'photograph', 'yrs', 'ben', 'boring', 'extraordinarily', 'decided', 'loves', 'candles', 'visited', 'referral', 'impala', 'yodel', 'drunk', 'polixenes', 'julian', 'partnership', 'robot', 'netherlandstsla', 'need', 'turn', 'border', 'acceleration', 'robertauers', 'angle', 'min', 'able', 'gravity', 'battles', 'mif', 'alienating', 'waise', 'fuels', 'allow', 'tshirts', 'expires', 'whi', 'pastim', 'cracking', 'awd', 'nobody', 'andymdev', 'stronger', 'questioned', 'looked', 'californiaelonmusk', 'con', 'nailed', 'built', 'bordeaux', 'normally', 'fact', 'encrypted', 'anyway', 'industrialist', 'decade', 'staff', 'partners', 'podcast', 'jay', 'aniljmodi', 'employer', 'jan', 'mahendra', 'notes', 'chrisccollins', 'fuel', 'jag', 'local', 'hope', 'move', 'handle', 'cranks', 'watching', 'beat', 'dope', 'leased', 'companyford', 'community', 'october', 'sues', 'words', 'processes', 'trucks', 'h', 'married', 'taxes', 'calling', 'employee', 'mercedes', 'boyolino', 'cycles', 'view', 'europe', 'btw', 'national', 'freeze', 'legacy', 'fiatchryslerna', 'needcaek', 'gvmt', 'parallels', 'closes', 'annerajb', 'genius', 'state', 'correctly', 'horrible', 'chargepointnet', 'neither', 'youll', 'email', 'speed', 'pants', 'attention', 'ability', 'deapoirierbooks', 'deliver', 'mtsw', 'shanghai', 'job', 'hypothesis', 'joe', 'police', 'weeks', 'instant', 'limits', 'joke', 'taking', 'la', 'drug', 'etc', 'admit', 'trumps', 'interesting', 'expand', 'leaderwe', 'ck', 'nowthisnews', 'ch', 'co', 'wtf', 'cm', 'gone', 'cc', 'ca', 'cnbc', 'ce', 'walk', 'subscribe', 'laugh', 'carbon', 'respect', 'rpm', 'politico', 'pouring', 'tread', 'thanksgiving', 'powered', 'tremendous', 'charts', 'responds', 'yam', 'charactertony', 'fisherm', 'akrnsv', 'waste', 'papertslaqtsla', 'phosphorescent', 'route', 'releasing', 'scrutiny', 'tiare', 'controller', 'laminated', 'bull', 'kimpaquette', 'multi', 'criminal', 'vanilla', 'boxas', 'seketricbarnes', 'marry', 'stunning', 'wki', 'almost', 'vi', 'insanely', 'projectloveday', 'audimarch', 'hardware', 'landfills', 'vs', 'dual', 'partner', 'began', 'celebratetesla', 'helicopters', 'underground', 'fill', 'difficult', 'coached', 'promo', 'eccentric', 'juju', 'iot', 'upon', 'effect', 'robotic', 'single', 'geniuses', 'ryandibble', 'reflection', 'shotgun', 'colour', 'indonesia', 'well', 'object', 'asked', 'thought', 'command', 'oops', 'muscle', 'latest', 'cameo', 'rocket', 'heavily', 'executive', 'obtain', 'smartish', 'batteries', 'seats', 'coordination', 'mysterious', 'web', 'jwilliamsfstmed', 'teslamodel', 'wed', 'jeff', 'nastier', 'mcconnell', 'realize', 'marssociety', 'add', 'forbes', 'combine', 'salespeople', 'exempt', 'sparking', 'parfums', 'resolved', 'government', 'taunt', 'crud', 'know', 'belgium', 'hollow', 'loss', 'necessary', 'like', 'lost', 'safest', 'matte', 'garage', 'whenyou', 'xse', 'edidrive', 'modelalways', 'stockholm', 'overall', 'world', 'keeps', 'billions', 'touchin', 'unresponsive', 'funnel', 'alexa', 'brand', 'volume', 'construction', 'ha', 'record', 'flight', 'compared', 'incredible', 'boom', 'youngterrier', 'cliff', 'status', 'understand'])\n"
     ]
    }
   ],
   "source": [
    "filters = {}\n",
    "for name, words in split_posts.items():\n",
    "    print name, words\n",
    "    filters[name] = BloomFilter(capacity=len(words), error_rate=0.1)\n",
    "    for word in words:\n",
    "        filters[name].add(word)\n",
    "        \n",
    "def search(search_string):\n",
    "    search_terms = re.split(\"\\W+\", search_string)\n",
    "    return [name for name, filter in filters.items() if all(term in filter for term in search_terms)]"
   ]
  },
  {
   "cell_type": "markdown",
   "metadata": {},
   "source": [
    "We then create a new directory which holds the files that contains classified tweets according to the days and then search for the next two days words (we will be using tweets3.txt here) that match with the bloom filter data."
   ]
  },
  {
   "cell_type": "code",
   "execution_count": 25,
   "metadata": {},
   "outputs": [],
   "source": [
    "matched_words = []\n",
    "POST_DIR = 'data/'\n",
    "# Read all my posts.\n",
    "posts = {post_name: open(POST_DIR + post_name).read() for post_name in os.listdir(POST_DIR)}\n",
    "# Create a dictionary of {\"post name\": \"lowercase word set\"}.\n",
    "classify_posts = {name: set(re.split(\"\\W+\", contents.lower())) for name, contents in posts.items()}\n",
    "\n",
    "for name, words in classify_posts.items():\n",
    "       for word in words:\n",
    "        if search(word) == ['tweets2_words.txt']:\n",
    "            matched_words.append(word)"
   ]
  },
  {
   "cell_type": "code",
   "execution_count": 26,
   "metadata": {},
   "outputs": [
    {
     "name": "stdout",
     "output_type": "stream",
     "text": [
      "['ciad', 'whoops', 'dynamic', 'onlxn', 'woods', 'solarcellphones', 'consider', 'whose', 'buddy', 'rightish', 'bike', 'steezyman', 'slowest', 'producthunt', 'updated', 'risk', 'handling', 'electronics', 'crops', 'wednesday', 'cooksautorepair', 'heading', 'clothes', 'leaders', 'cloudsecurity', 'tires', 'likely', 'helluva', 'estimated', 'machines', 'loaners', 'near', 'liberty', 'evet', 'coefficient', 'specialist', 'met', 'contestto', 'enron', 'enricosalad', 'daughter', 'jams', 'ventures', 'ilk', 'chrysler', 'criticism', 'fantastic', 'iamhubris', 'gesichtbuch', 'seven', 'brought', 'cons', 'cocaine', 'spoke', 'gloss', 'insult', 'program', 'synergie', 'type', 'creates', 'holy', 'wary', 'successful', 'infosec', 'prehestoric', 'tf', 'excellent', 'tradeins', 'dimas', 'divorced', 'mu', 'wort', 'install', 'brake', 'camry', 'root', 'example', 'fortress', 'defer', 'libbycwatson', 'household', 'jalopnik', 'attract', 'looser', 'absolute', 'motion', 'recovery', 'aerosmiths', 'complaining', 'finalist', 'megazone', 'infamously', 'intoelectric', 'beach', 'gretathunberg', 'badly', 'untill', 'zupzles', 'believers', 'confirmed', 'lab', 'squadlinked', 'lay', 'mesa', 'royce', 'purchase', 'stry', 'third', 'ritesh', 'daysgreenearthrevolution', 'fan', 'wine', 'frontend', 'office', 'welcomed', 'luisbaram', 'socialmars', 'soconjohn', 'oven', 'ancients', 'elsegewrapt', 'tuned', 'fix', 'forethoughtmusk', 'donors', 'joebernard', 'safe', 'elonwhat', 'lifelong', 'ther', 'bank', 'detroit', 'rocke', 'luck', 'series', 'emeralds', 'pacwatson', 'reaghanherrin', 'paulmhuettner', 'rv', 'god', 'waive', 'elonmuskwall', 'mrkylefield', 'adapt', 'gov', 'nakedok', 'saudi', 'californiaenergystorage', 'given', 'futano', 'deflect', 'soundcloud', 'suvs', 'enormous', 'created', 'anointedone', 'shipped', 'signature', 'aspire', 'arrived', 'onto', 'pawelsucinski', 'nasasocial', 'wast', 'fantasy', 'comic', 'tyson', 'grads', 'diverting', 'teslaroadtrip', 'annotates', 'rockin', 'critter', 'murder', 'bfmauto', 'nasakennedy', 'powerwall', 'task', 'western', 'unscented', 'toronto', 'rightwhat', 'redfaced', 'mostviewed', 'coward', 'ebay', 'guilt', 'feeling', 'colonizing', 'longy', 'manned', 'entail', 'marsone', 'keithjohnston', 'nadella', 'navigate', 'aapl', 'ram', 'talking', 'mins', 'lattes', 'snow', 'rides', 'snowflake', 'nasaapp', 'shall', 'bruce', 'visionary', 'marin', 'dmed', 'regular', 'startupstreetrobots', 'autopsy', 'observation', 'flow', 'doe', 'consumer', 'consumes', 'inout', 'ssoa', 'dickey', 'brilliance', 'disturbs', 'siberianodyssey', 'lethal', 'apace', 'menu', 'sugar', 'enslave', 'indepth', 'tiles', 'waitshe', 'competitive', 'wedding', 'report', 'interrogated', 'dr', 'owlowery', 'nicely', 'bec', 'wannabe', 'farther', 'playstation', 'traverse', 'egearnews', 'bhuvikal', 'nut', 'electrostatic', 'lekar', 'propulsion', 'artificial', 'biggovt', 'humankind', 'letting', 'wears', 'nationwide', 'tofakeability', 'wo', 'ignorance', 'ww', 'louiswei', 'extent', 'downgrade', 'alanglancey', 'secenforcement', 'received', 'climate', 'monoganie', 'resistant', 'country', 'coz', 'knallishcr', 'games', 'planned', 'countri', 'ily', 'starlink', 'hitler', 'fra', 'chrome', 'darnaethedream', 'interest', 'brianwalton', 'entered', 'kenkremer', 'jyotsnadevi', 'heinthesayer', 'irvine', 'dave', 'catch', 'haters', 'stomped', 'lizard', 'neat', 'dashboard', 'leanonly', 'balance', 'mailby', 'stink', 'pyramid', 'cont', 'florida', 'ii', 'player', 'eighteen', 'helpchangeachildsworld', 'hong', 'descent', 'threeday', 'craigslist', 'emicimaz', 'possibilitiesapp', 'lithium', 'successrupaul', 'satellite', 'screw', 'social', 'tops', 'kim', 'supper', 'pioneers', 'kia', 'insideev', 'kid', 'butter', 'hopping', 'cuppykait', 'teamelon', 'alabama', 'phillipliberal', 'pronouncements', 'yea', 'edmonton', 'rotated', 'yeg', 'thankfully', 'ecoheliguy', 'spacenews', 'humanity', 'gave', 'operatortoown', 'possibly', 'boxer', 'govt', 'unique', 'dreams', 'bro', 'ditto', 'gift', 'cooler', 'manual', 'zoom', 'dayteslas', 'officer', 'attorney', 'crown', 'dead', 'neve', 'xbox', 'humor', 'comments', 'asking', 'orleanssp', 'aayenge', 'pls', 'marketing', 'plz', 'burj', 'trccper', 'feckin', 'losing', 'post', 'liye', 'bentleyfebruary', 'maybemusk', 'hmmyes', 'burbank', 'misleading', 'commit', 'efforts', 'automatically', 'primitive', 'som', 'reducing', 'giv', 'rivalvoices', 'flying', 'goddamn', 'hickslur', 'war', 'launching', 'timestamped', 'form', 'fascination', 'paypal', 'ford', 'heat', 'ocasio', 'melanin', 'reset', 'builds', 'refueling', 'cand', 'utilitysized', 'smashed', 'emotional', 'cosmos', 'panels', 'enthusiastic', 'crimsonruari', 'futanarifemale', 'later', 'proves', 'expertise', 'accounting', 'exist', 'specially', 'nl', 'nc', 'tip', 'reality', 'kenyan', 'nv', 'modelx', 'brothers', 'outage', 'detox', 'usmc', 'gets', 'jyotsnavarma', 'longer', 'customerservice', 'decision', 'global', 'leads', 'goldengatebridge', 'manager', 'mile', 'buddys', 'skin', 'inverse', 'zone', 'editors', 'burlington', 'outmoded', 'giga', 'brown', 'degrasse', 'cyan', 'joshikvn', 'minute', 'impressive', 'tear', 'apartheid', 'posts', 'gun', 'tabledelete', 'gaspo', 'p', 'enou', 'trend', 'boca', 'cost', 'mj', 'contracted', 'shares', 'supporting', 'v', 'lefty', 'along', 'roaring', 'alto', 'chanos', 'rethink', 'women', 'suggestion', 'ncaat', 'rafael', 'extra', 'fbi', 'crisis', 'troops', 'australias', 'super', 'predictions', 'wondering', 'sharing', 'apparent', 'clue', 'upgradable', 'everywhere', 'savior', 'easiest', 'ferra', 'batte', 'addictedunderwear', 'ciss', 'hubris', 'stature', 'growing', 'nowmarkbspiegel', 'crazy', 'trump', 'stream', 'despot', 'moodewji', 'offense', 'hydrogen', 'bankrupt', 'johnforcefc', 'tictoc', 'discussion', 'scooty', 'chemical', 'till', 'gaynorann', 'nyc', 'eight', 'map', 'product', 'information', 'slush', 'complicitaly', 'ericdubay', 'applications', 'mac', 'produce', 'improving', 'grow', 'natural', 'sm', 'tall', 'ratioatampt', 'wishing', 'course', 'ogle', 'fragger', 'satya', 'group', 'jim', 'hot', 'firenicefly', 'anozieudemezue', 'celebrate', 'policy', 'texas', 'non', 'finance', 'killer', 'thejillgrill', 'jvidyasagar', 'saban', 'recap', 'discuss', 'term', 'chuckled', 'january', 'silversurfer', 'engadget', 'retweeetplease', 'rock', 'em', 'challenged', 'shortingisfun', 'avoided', 'greatpaulsmith', 'es', 'canada', 'commercialcrew', 'resilience', 'seriously', 'uncg', 'kent', 'creating', 'monster', 'pumping', 'ord', 'techgnostik', 'training', 'midel', 'fa', 'advandermeer', 'chevy', 'aboard', 'sho', 'blind', 'comanche', 'toyotafebruary', 'vanandtrucknews', 'americans', 'directly', 'fwiwmeet', 'impossible', 'george', 'earths', 'sheet', 'quality', 'trillion', 'teslapittsburgh', 'teslaagnostic', 'psychotic', 'cooling', 'alfred', 'frame', 'speaking', 'slashes', 'eyes', 'inefficient', 'mostly', 'hum', 'freemediahub', 'alan', 'released', 'konradbilinski', 'holder', 'innovators', 'gotta', 'donovanbass', 'automakers', 'optimism', 'prehisto', 'ontrack', 'wingandhi', 'ana', 'angel', 'mindfulness', 'michele', 'locations', 'conspiracy', 'anytime', 'horsepower', 'numerics', 'veteran', 'note', 'intends', 'wanting', 'blinding', 'channel', 'begin', 'investigations', 'enter', 'insanity', 'courtneyforce', 'teslaopinion', 'lawn', 'flawlessly', 'montage', 'proud', 'ferrari', 'nuclear', 'pennalexander', 'laws', 'walking', 'shot', 'elevate', 'dealerships', 'crashing', 'slow', 'interrogations', 'customtesla', 'robo', 'stain', 'carolina', 'godxeno', 'toca', 'freezing', 'truly', 'killers', 'nearly', 'stinger', 'innear', 'prime', 'elonspromises', 'worried', 'naked', 'uphow', 'bought', 'smokestackfreeevfuelrefineryonm', 'husband', 'doinga', 'reveals', 'pennyworth', 'welcome', 'college', 'parking', 'progress', 'layi', 'momelonmuskwith', 'satisfying', 'cd', 'justified', 'infrastructure', 'jobs', 'screen', 'tatodehouston', 'paines', 'interestin', 'forumotion', 'according', 'dtothetubbs', 'planetwhy', 'among', 'fuelfreefuelforevergonna', 'robotics', 'por', 'pos', 'whatley', 'gauntlet', 'considering', 'scaniag', 'renaulttrucksco', 'tuning', 'mongers', 'almighty', 'billionaires', 'featuring', 'mary', 'newroads', 'spannerless', 'spills', 'wake', 'careful', 'former', 'case', 'janies', 'ignition', 'situation', 'eventually', 'rubbing', 'spadival', 'quiet', 'middle', 'donating', 'litres', 'ship', 'worry', 'gigafactorys', 'dealer', 'followers', 'underestimate', 'struggling', 'emojis', 'hollestellearco', 'weed', 'deff', 'nandaji', 'totally', 'costa', 'daytona', 'ranch', 'magical', 'spark', 'nah', 'comment', 'videotraining', 'compound', 'neon', 'rest', 'groupunicorn', 'actor', 'satin', 'blow', 'announcement', 'lightbulbs', 'death', 'thinkinf', 'except', 'bryr', 'extensive', 'spectacular', 'colony', 'sums', 'unedited', 'glitches', 'disappointed', 'buffaloscribe', 'fortune', 'intel', 'pprstrtspcmpy', 'wepowerbuffalo', 'drainage', 'cowboyartist', 'passionate', 'ampsatisfying', 'maximize', 'passers', 'mbulger', 'realdonaldtrump', 'wofford', 'cowboys', 'organizing', 'booming', 'savitritvs', 'confirm', 'rdutoatl', 'searing', 'luxembourg', 'dealership', 'willie', 'destroys', 'football', 'intimate', 'leno', 'nails', 'volkswagen', 'broken', 'leadership', 'exciting', 'jeep', 'generated', 'stand', 'karax', 'bond', 'road', 'burning', 'whites', 'determine', 'hazards', 'eloned', 'caranddriver', 'imriding', 'dtyates', 'delayed', 'curiously', 'trying', 'fraud', 'rage', 'wholesale', 'sclany', 'ruse', 'junkscience', 'grasp', 'ac', 'ab', 'ad', 'describe', 'al', 'general', 'ap', 'tshirt', 'tankers', 'az', 'film', 'hasnt', 'cleantechnicainterview', 'bored', 'drivers', 'earthen', 'congress', 'registra', 'gifts', 'coverage', 'included', 'finals', 'imminently', 'calls', 'wife', 'invest', 'carcollection', 'inevit', 'fraudulent', 'mass', 'nelson', 'hugely', 'husky', 'chinese', 'goa', 'asteroids', 'thoughtful', 'vwgroup', 'follow', 'ufofalcon', 'crazybismuth', 'responsiveness', 'apartment', 'tm', 'likeforlike', 'alberta', 'siblings', 'ghana', 'sound', 'worse', 'horror', 'solarworldusa', 'fav', 'induce', 'worst', 'railedhello', 'thebodyshopuk', 'atcosmicperfume', 'condition', 'godspeed', 'forth', 'saboteur', 'foxnews', 'value', 'nba', 'sue', 'continuetslaq', 'alannapolisvel', 'princembs', 'poshmentorino', 'racing', 'raton', 'valk', 'escaping', 'component', 'cumminsengines', 'compressed', 'november', 'strong', 'sanfrancisco', 'conviction', 'inspired', 'experience', 'pics', 'horrified', 'options', 'shuffle', 'turkey', 'africa', 'virgins', 'follower', 'appliances', 'deleware', 'gaas', 'eye', 'takes', 'destination', 'comparing', 'chanceeverybody', 'sarnia', 'flat', 'straightup', 'benwikler', 'essenviews', 'tested', 'domination', 'grisly', 'mahindraapril', 'producing', 'blemishes', 'include', 'hour', 'atari', 'surfersolar', 'dec', 'scam', 'scal', 'thenewclmb', 'accept', 'ironic', 'sense', 'scat', 'comfortable', 'rather', 'panthercrazy', 'utilize', 'businessinsider', 'galactic', 'intended', 'commuternyc', 'connectivity', 'lighting', 'timwjackson', 'fl', 'carmaker', 'fo', 'lunarluster', 'tweeting', 'trevor', 'kidarianagrande', 'bradn', 'giza', 'media', 'playing', 'chinesete', 'installed', 'isnt', 'embassy', 'hell', 'smiling', 'cheated', 'developer', 'moazzamkhan', 'rapidtransit', 'tsscimajic', 'bummer', 'travelling', 'kyleanotjenner', 'colleague', 'somebody', 'primary', 'walls', 'milestone', 'foot', 'fanatics', 'louaaayyy', 'transcendentfr', 'tra', 'turns', 'dif', 'seriouslyelon', 'starkor', 'reactions', 'neil', 'fairing', 'thespaceshipco', 'idea', 'oil', 'abledoc', 'riskrewardsle', 'wflash', 'teak', 'inducer', 'payload', 'misses', 'hood', 'print', 'issue', 'meaningness', 'pum', 'reporting', 'nightskyglowing', 'asi', 'beginning', 'thrown', 'acura', 'benefits', 'thread', 'computers', 'caption', 'threat', 'leading', 'castle', 'understandable', 'celeb', 'companyit', 'cyberpunkfixer', 'temperature', 'notslabs', 'blossom', 'divorce', 'jamesdeboer', 'exlovers', 'station', 'smile', 'storm', 'brinkinstitute', 'scra', 'catapult', 'statement', 'immediate', 'atxfightclub', 'convinced', 'center', 'double', 'risks', 'lease', 'declare', 'charlotte', 'idled', 'comput', 'overstate', 'orders', 'option', 'securitization', 'isscasis', 'build', 'play', 'experienced', 'frauds', 'inability', 'hired', 'charm', 'nothing', 'janas', 'salary', 'kg', 'dealers', 'ke', 'kk', 'cover', 'physics', 'shoutout', 'joining', 'gold', 'enphase', 'businesses', 'carefully', 'stores', 'fing', 'mifand', 'believe', 'nervous', 'less', 'failed', 'wayne', 'pretty', 'meanwhile', 'sights', 'sunny', 'trees', 'fastest', 'anandasara', 'banner', 'restart', 'resolve', 'sustainably', 'remove', 'banking', 'sustainable', 'dump', 'mrmusk', 'individual', 'sec', 'cleverly', 'vins', 'visiting', 'vindiesel', 'probably', 'available', 'responses', 'intimidated', 'javascript', 'liketesla', 'franchise', 'console', 'became', 'buzz', 'mean', 'rawlinson', 'point', 'incredi', 'whatever', 'garvpe', 'xiamlegend', 'roofing', 'consuming', 'cream', 'instrument', 'create', 'jayleno', 'due', 'zucc', 'reduction', 'motorcyclejust', 'collected', 'patrolled', 'modern', 'ganirudh', 'plantsthen', 'thebuffalonews', 'upstart', 'requires', 'coeur', 'mikegordon', 'plants', 'referrals', 'jmusportsnews', 'straight', 'jessicadharvard', 'pace', 'khashoggi', 'grip', 'motors', 'mugenx', 'teslainvernon', 'james', 'cummins', 'hypercar', 'propping', 'incars', 'peoples', 'teslafakesneed', 'arrives', 'dime', 'yesterday', 'cement', 'viewing', 'slye', 'koch', 'wheelchairs', 'finebaum', 'wheres', 'recent', 'lower', 'distributiondisaster', 'navigation', 'carpolrey', 'likeforfolo', 'savvy', 'entry', 'cryogenic', 'inducers', 'loaner', 'startups', 'summaries', 'profitable', 'tiltnotmachines', 'amazingchevvolt', 'march', 'stein', 'biz', 'moods', 'lathrop', 'projects', 'reusability', 'success', 'semi', 'cogs', 'glitters', 'toyota', 'seemaud', 'ignore', 'communications', 'continue', 'parrika', 'traits', 'palo', 'kongs', 'newsletter', 'irresistible', 'jallen', 'though', 'whove', 'religion', 'innovation', 'anna', 'limitless', 'vincents', 'fed', 'bk', 'nasafltdirector', 'lasts', 'refuses', 'wildlife', 'selecti', 'graduation', 'simulation', 'voltronrecordz', 'beans', 'addict', 'abusive', 'services', 'caldeiraentert', 'steven', 'lesson', 'smells', 'computer', 'spac', 'apparently', 'apartments', 'tonyastylz', 'threeeee', 'opens', 'tesladouble', 'inches', 'registered', 'boys', 'archaic', 'factscomment', 'info', 'pessimism', 'ur', 'uh', 'planes', 'enchantedbynature', 'uber', 'megamania', 'sometimes', 'defined', 'bigredmachine', 'package', 'char', 'warning', 'testla', 'cafe', 'theyll', 'objection', 'bfmtv', 'tnmadisontaylor', 'electrical', 'explorespaceksc', 'ctuna', 'therealalev', 'draw', 'exp', 'correspon', 'lucia', 'drag', 'reservation', 'fillyourstockings', 'ludalisl', 'structure', 'ryand', 'tcphysicist', 'orbit', 'jmartnyt', 'underrated', 'buffalo', 'kanan', 'gf', 'detroitnews', 'unmatched', 'tweeted', 'issues', 'compact', 'itll', 'exis', 'worldcom', 'dramatically', 'resources', 'lunar', 'automotive', 'continues', 'johnpapa', 'grid', 'putting', 'chiphappened', 'drinking', 'wipe', 'ibm', 'deposits', 'magic', 'button', 'jsise', 'mcelarier', 'race', 'congrats', 'specad', 'smaller', 'xthose', 'goodies', 'joker', 'muskbrethren', 'carted', 'picked', 'twitters', 'nextjanuary', 'lehman', 'scottmcolbert', 'access', 'indian', 'iainb', 'chose', 'chinas', 'commercial', 'wraps', 'following', 'explore', 'sexy', 'allthis', 'mindset', 'casino', 'residents', 'pwunion', 'maker', 'scales', 'boxy', 'motor', 'sgf', 'confidence', 'refers', 'doubt', 'vehicle', 'means', 'automobile', 'becomes', 'whoneedstechnology', 'integrate', 'tonawanda', 'baby', 'ride', 'sre', 'salar', 'thin', 'potus', 'boudin', 'tap', 'ethanlu', 'process', 'lock', 'billboards', 'knovigator', 'villain', 'slip', 'syndrome', 'destroying', 'holds', 'brian', 'musks', 'struggled', 'panic', 'oz', 'gregkable', 'archiearch', 'waitlist', 'farm', 'collection', 'fart', 'vineyards', 'nonei', 'conducted', 'martins', 'watson', 'buddendorf', 'chief', 'baird', 'neofeudalism', 'mdad', 'disrespecting', 'secured', 'transformation', 'ener', 'produces', 'including', 'mentioned', 'badger', 'perfect', 'spotify', 'le', 'marajuana', 'located', 'competitiv', 'winning', 'lt', 'lr', 'orange', 'muskhow', 'material', 'actualized', 'hands', 'republican', 'worlds', 'february', 'anyth', 'warned', 'registrations', 'colonize', 'firings', 'mikeonthebayou', 'admirablephoto', 'amitshah', 'ambiance', 'society', 'books', 'secretly', 'borderline', 'res', 'aspiring', 'grohmann', 'mate', 'eathwat', 'autopilot', 'memes', 'rea', 'blasting', 'studentlike', 'steering', 'worldtrendsinfo', 'organic', 'spill', 'gallons', 'area', 'ask', 'chinesetesla', 'felt', 'mein', 'chills', 'owned', 'alleged', 'ancient', 'ordering', 'cashmere', 'system', 'attack', 'intelligence', 'evansville', 'final', 'foretelling', 'misunderstood', 'sundaymorning', 'gear', 'shorts', 'completed', 'exactly', 'chryslermarch', 'environmental', 'anyones', 'july', 'momen', 'loved', 'photograph', 'yrs', 'ben', 'boring', 'extraordinarily', 'decided', 'loves', 'candles', 'visited', 'referral', 'impala', 'yodel', 'drunk', 'polixenes', 'julian', 'partnership', 'robot', 'netherlandstsla', 'need', 'turn', 'acceleration', 'robertauers', 'angle', 'min', 'able', 'gravity', 'battles', 'mif', 'alienating', 'waise', 'fuels', 'tshirts', 'expires', 'whi', 'pastim', 'cracking', 'awd', 'andymdev', 'stronger', 'questioned', 'looked', 'californiaelonmusk', 'con', 'nailed', 'bordeaux', 'normally', 'fact', 'encrypted', 'anyway', 'industrialist', 'decade', 'staff', 'partners', 'jay', 'aniljmodi', 'employer', 'jan', 'mahendra', 'notes', 'chrisccollins', 'jag', 'handle', 'cranks', 'beat', 'dope', 'leased', 'companyford', 'sues', 'words', 'processes', 'trucks', 'h', 'married', 'taxes', 'calling', 'employee', 'mercedes', 'boyolino', 'cycles', 'view', 'btw', 'national', 'freeze', 'legacy', 'fiatchryslerna', 'needcaek', 'gvmt', 'parallels', 'closes', 'annerajb', 'genius', 'state', 'correctly', 'horrible', 'chargepointnet', 'neither', 'youll', 'email', 'speed', 'pants', 'attention', 'ability', 'deapoirierbooks', 'deliver', 'shanghai', 'job', 'hypothesis', 'joe', 'instant', 'limits', 'joke', 'taking', 'drug', 'etc', 'admit', 'trumps', 'interesting', 'expand', 'leaderwe', 'ck', 'nowthisnews', 'co', 'wtf', 'cm', 'cc', 'ca', 'ce', 'walk', 'subscribe', 'laugh', 'carbon', 'respect', 'rpm', 'politico', 'pouring', 'tread', 'thanksgiving', 'powered', 'tremendous', 'charts', 'responds', 'yam', 'charactertony', 'fisherm', 'akrnsv', 'waste', 'papertslaqtsla', 'phosphorescent', 'route', 'releasing', 'scrutiny', 'tiare', 'controller', 'laminated', 'bull', 'kimpaquette', 'multi', 'criminal', 'vanilla', 'boxas', 'seketricbarnes', 'marry', 'stunning', 'wki', 'almost', 'vi', 'projectloveday', 'audimarch', 'hardware', 'landfills', 'vs', 'dual', 'partner', 'began', 'celebratetesla', 'helicopters', 'underground', 'difficult', 'coached', 'promo', 'eccentric', 'juju', 'upon', 'effect', 'robotic', 'geniuses', 'ryandibble', 'reflection', 'shotgun', 'colour', 'indonesia', 'well', 'asked', 'command', 'muscle', 'latest', 'cameo', 'rocket', 'executive', 'obtain', 'smartish', 'batteries', 'seats', 'coordination', 'web', 'jwilliamsfstmed', 'teslamodel', 'wed', 'nastier', 'mcconnell', 'realize', 'marssociety', 'add', 'forbes', 'combine', 'salespeople', 'exempt', 'sparking', 'parfums', 'resolved', 'government', 'taunt', 'crud', 'belgium', 'hollow', 'loss', 'necessary', 'like', 'lost', 'safest', 'matte', 'garage', 'whenyou', 'xse', 'edidrive', 'modelalways', 'stockholm', 'overall', 'keeps', 'touchin', 'unresponsive', 'funnel', 'alexa', 'brand', 'volume', 'construction', 'record', 'compared', 'incredible', 'boom', 'youngterrier', 'cliff', 'understand']\n"
     ]
    }
   ],
   "source": [
    "\n",
    "print matched_words"
   ]
  },
  {
   "cell_type": "markdown",
   "metadata": {},
   "source": [
    "We sort the matched words and then plot the top 10 most matched words into a bar chart."
   ]
  },
  {
   "cell_type": "code",
   "execution_count": 16,
   "metadata": {},
   "outputs": [
    {
     "name": "stdout",
     "output_type": "stream",
     "text": [
      "[u'aapl', u'aayenge', u'ab', u'ab', u'ability', u'ability', u'ability', u'able', u'able', u'able', u'able', u'able', u'able', u'able', u'able', u'abledoc', u'abledoc', u'abledoc', u'aboard', u'absolute', u'absolute', u'abusive', u'ac', u'acceleration', u'acceleration', u'acceleration', u'acceleration', u'acceleration', u'acceleration', u'acceleration', u'acceleration', u'acceleration', u'acceleration', u'acceleration', u'acceleration', u'acceleration', u'acceleration', u'acceleration', u'acceleration', u'acceleration', u'acceleration', u'acceleration', u'acceleration', u'acceleration', u'acceleration', u'acceleration', u'accept', u'access', u'access', u'access', u'access', u'access', u'access', u'access', u'access', u'access', u'access', u'access', u'access', u'access', u'access', u'access', u'access', u'access', u'access', u'access', u'access', u'access', u'according', u'according', u'according', u'according', u'according', u'accounting', u'actor', u'actualized', u'acura', u'ad', u'ad', u'ad', u'ad', u'adapt', u'add', u'add', u'add', u'addict', u'addictedunderwear', u'admirablephoto', u'admirablephoto', u'admit', u'advandermeer', u'advandermeer', u'advandermeer', u'advandermeer', u'aerosmiths', u'aerosmiths', u'africa', u'africa', u'akrnsv', u'akrnsv', u'akrnsv', u'al', u'al', u'alabama', u'alan', u'alanglancey', u'alannapolisvel', u'alberta', u'alberta', u'alexa', u'alfred', u'alienating', u'alleged', u'allthis', u'almighty', u'almost', u'almost', u'almost', u'almost', u'almost', u'almost', u'almost', u'almost', u'almost', u'almost', u'almost', u'almost', u'almost', u'almost', u'almost', u'almost', u'almost', u'almost', u'almost', u'almost', u'almost', u'almost', u'almost', u'almost', u'almost', u'almost', u'almost', u'almost', u'almost', u'almost', u'almost', u'almost', u'almost', u'almost', u'almost', u'almost', u'almost', u'almost', u'almost', u'almost', u'almost', u'almost', u'almost', u'almost', u'almost', u'along', u'alto', u'alto', u'amazingchevvolt', u'ambiance', u'americans', u'amitshah', u'among', u'among', u'ampsatisfying', u'ana', u'anandasara', u'ancient', u'ancient', u'ancients', u'andymdev', u'angel', u'angel', u'angel', u'angle', u'aniljmodi', u'aniljmodi', u'aniljmodi', u'anna', u'annerajb', u'annotates', u'announcement', u'anointedone', u'anointedone', u'anointedone', u'anointedone', u'anozieudemezue', u'anozieudemezue', u'anozieudemezue', u'anyones', u'anyth', u'anytime', u'anyway', u'ap', u'apace', u'apartheid', u'apartheid', u'apartheid', u'apartment', u'apartments', u'apartments', u'apparent', u'apparently', u'apparently', u'appliances', u'applications', u'archaic', u'archiearch', u'area', u'arrived', u'arrived', u'arrived', u'arrived', u'arrived', u'arrived', u'arrived', u'arrived', u'arrived', u'arrived', u'arrived', u'arrived', u'arrived', u'arrived', u'arrived', u'arrived', u'arrived', u'arrived', u'arrived', u'arrived', u'arrived', u'arrived', u'arrived', u'arrives', u'artificial', u'asi', u'ask', u'asked', u'asking', u'aspire', u'aspire', u'aspiring', u'asteroids', u'atari', u'atari', u'atari', u'atari', u'atari', u'atari', u'atari', u'atari', u'atari', u'atari', u'atari', u'atari', u'atari', u'atari', u'atari', u'atari', u'atari', u'atari', u'atari', u'atari', u'atari', u'atari', u'atcosmicperfume', u'attack', u'attention', u'attorney', u'attorney', u'attract', u'atxfightclub', u'atxfightclub', u'audimarch', u'australias', u'automakers', u'automatically', u'automobile', u'automotive', u'automotive', u'autopilot', u'autopilot', u'autopilot', u'autopilot', u'autopilot', u'autopsy', u'available', u'available', u'available', u'avoided', u'awd', u'az', u'baby', u'baby', u'badger', u'badly', u'baird', u'balance', u'bank', u'banking', u'bankrupt', u'bankrupt', u'banner', u'banner', u'banner', u'batte', u'batteries', u'battles', u'battles', u'battles', u'battles', u'battles', u'battles', u'battles', u'battles', u'beach', u'beans', u'beat', u'beat', u'beat', u'became', u'becomes', u'began', u'begin', u'beginning', u'belgium', u'believe', u'believe', u'believe', u'believe', u'believers', u'ben', u'benefits', u'benefits', u'benefits', u'benefits', u'benefits', u'benefits', u'benefits', u'bentleyfebruary', u'benwikler', u'bfmauto', u'bfmtv', u'bhuvikal', u'bhuvikal', u'bhuvikal', u'biggovt', u'bigredmachine', u'bike', u'billboards', u'billboards', u'billionaires', u'biz', u'bk', u'blasting', u'blemishes', u'blind', u'blinding', u'blossom', u'blow', u'boca', u'bond', u'bond', u'bond', u'books', u'boom', u'booming', u'bordeaux', u'borderline', u'bored', u'boring', u'boring', u'boring', u'boring', u'boring', u'boring', u'boring', u'boudin', u'bought', u'bought', u'boxas', u'boxer', u'boxy', u'boyolino', u'boys', u'bradn', u'brake', u'brand', u'brand', u'brian', u'brianwalton', u'brianwalton', u'brilliance', u'brinkinstitute', u'bro', u'broken', u'broken', u'brothers', u'brothers', u'brothers', u'brought', u'brought', u'brought', u'brought', u'brought', u'brought', u'brown', u'bruce', u'bryr', u'bryr', u'btw', u'buddendorf', u'buddy', u'buddys', u'buffalo', u'buffalo', u'buffaloscribe', u'buffaloscribe', u'build', u'build', u'build', u'build', u'builds', u'bull', u'bull', u'bummer', u'burbank', u'burj', u'burlington', u'burning', u'burning', u'businesses', u'businessinsider', u'butter', u'button', u'buzz', u'ca', u'ca', u'ca', u'ca', u'cafe', u'cafe', u'caldeiraentert', u'californiaelonmusk', u'californiaenergystorage', u'calling', u'calls', u'calls', u'calls', u'calls', u'cameo', u'camry', u'canada', u'canada', u'canada', u'cand', u'candles', u'candles', u'caption', u'caranddriver', u'carbon', u'carcollection', u'careful', u'carefully', u'carefully', u'carmaker', u'carolina', u'carpolrey', u'carted', u'case', u'case', u'case', u'case', u'cashmere', u'casino', u'castle', u'catapult', u'catch', u'cc', u'cd', u'ce', u'ce', u'ce', u'ce', u'ce', u'ce', u'ce', u'celeb', u'celebrate', u'celebrate', u'celebratetesla', u'cement', u'cement', u'center', u'center', u'center', u'challenged', u'challenged', u'challenged', u'chanceeverybody', u'channel', u'chanos', u'chanos', u'char', u'charactertony', u'chargepointnet', u'chargepointnet', u'chargepointnet', u'chargepointnet', u'charlotte', u'charm', u'charts', u'cheated', u'chemical', u'chemical', u'chevy', u'chief', u'chills', u'chinas', u'chinas', u'chinas', u'chinese', u'chinese', u'chinese', u'chinese', u'chinesete', u'chinesetesla', u'chiphappened', u'chiphappened', u'chose', u'chose', u'chrisccollins', u'chrome', u'chrysler', u'chryslermarch', u'chryslermarch', u'chryslermarch', u'chryslermarch', u'chryslermarch', u'chryslermarch', u'chryslermarch', u'chryslermarch', u'chryslermarch', u'chryslermarch', u'chryslermarch', u'chryslermarch', u'chryslermarch', u'chryslermarch', u'chryslermarch', u'chryslermarch', u'chryslermarch', u'chryslermarch', u'chryslermarch', u'chuckled', u'chuckled', u'chuckled', u'ciad', u'ciad', u'ciss', u'ck', u'cleantechnicainterview', u'cleantechnicainterview', u'cleantechnicainterview', u'cleantechnicainterview', u'cleverly', u'cliff', u'climate', u'climate', u'climate', u'climate', u'climate', u'climate', u'closes', u'closes', u'clothes', u'cloudsecurity', u'clue', u'cm', u'cm', u'cm', u'co', u'coached', u'cocaine', u'cocaine', u'coefficient', u'coeur', u'coeur', u'cogs', u'colleague', u'collected', u'collection', u'college', u'college', u'colonize', u'colonizing', u'colony', u'colour', u'comanche', u'combine', u'comfortable', u'comfortable', u'comfortable', u'comfortable', u'comfortable', u'comic', u'command', u'command', u'comment', u'comments', u'comments', u'commercial', u'commercialcrew', u'commercialcrew', u'commercialcrew', u'commit', u'communications', u'communications', u'commuternyc', u'compact', u'companyford', u'companyit', u'compared', u'compared', u'comparing', u'competitiv', u'competitive', u'competitive', u'competitive', u'complaining', u'completed', u'completed', u'completed', u'complicitaly', u'component', u'compound', u'compressed', u'comput', u'computer', u'computer', u'computers', u'con', u'condition', u'conducted', u'confidence', u'confirm', u'confirm', u'confirmed', u'congrats', u'congrats', u'congress', u'connectivity', u'cons', u'consider', u'consider', u'considering', u'console', u'console', u'console', u'console', u'console', u'console', u'console', u'console', u'console', u'console', u'console', u'console', u'console', u'console', u'console', u'console', u'console', u'console', u'console', u'console', u'console', u'console', u'conspiracy', u'construction', u'construction', u'construction', u'construction', u'construction', u'construction', u'construction', u'construction', u'construction', u'construction', u'construction', u'construction', u'construction', u'construction', u'construction', u'construction', u'construction', u'construction', u'construction', u'consumer', u'consumer', u'consumes', u'consumes', u'consumes', u'consumes', u'consumes', u'consuming', u'cont', u'contestto', u'continue', u'continue', u'continue', u'continue', u'continue', u'continue', u'continue', u'continue', u'continue', u'continues', u'continuetslaq', u'contracted', u'controller', u'conviction', u'convinced', u'convinced', u'cooksautorepair', u'cooksautorepair', u'cooler', u'cooling', u'coordination', u'correctly', u'correspon', u'cosmos', u'cost', u'cost', u'costa', u'costa', u'costa', u'costa', u'costa', u'costa', u'countri', u'country', u'course', u'course', u'courtneyforce', u'cover', u'coverage', u'coward', u'cowboyartist', u'cowboys', u'coz', u'cracking', u'craigslist', u'cranks', u'crashing', u'crazy', u'crazybismuth', u'crazybismuth', u'crazybismuth', u'cream', u'cream', u'create', u'created', u'creates', u'creates', u'creates', u'creates', u'creates', u'creates', u'creates', u'creating', u'creating', u'creating', u'criminal', u'crimsonruari', u'crisis', u'criticism', u'criticism', u'criticism', u'critter', u'crops', u'crops', u'crown', u'crown', u'crud', u'cryogenic', u'ctuna', u'ctuna', u'cummins', u'cummins', u'cummins', u'cumminsengines', u'cumminsengines', u'cumminsengines', u'cuppykait', u'curiously', u'curiously', u'customerservice', u'customtesla', u'cyan', u'cyberpunkfixer', u'cycles', u'darnaethedream', u'dashboard', u'dashboard', u'dashboard', u'dashboard', u'daughter', u'dave', u'daysgreenearthrevolution', u'dayteslas', u'daytona', u'dead', u'dealer', u'dealer', u'dealer', u'dealers', u'dealership', u'dealerships', u'deapoirierbooks', u'death', u'death', u'dec', u'dec', u'dec', u'dec', u'dec', u'dec', u'dec', u'decade', u'decided', u'decision', u'declare', u'defer', u'deff', u'defined', u'deflect', u'degrasse', u'delayed', u'deleware', u'deliver', u'deliver', u'deliver', u'deliver', u'deliver', u'deliver', u'deliver', u'deposits', u'descent', u'describe', u'describe', u'describe', u'describe', u'describe', u'describe', u'describe', u'describe', u'describe', u'describe', u'describe', u'describe', u'describe', u'describe', u'describe', u'describe', u'describe', u'describe', u'describe', u'despot', u'destination', u'destroying', u'destroys', u'determine', u'detox', u'detroit', u'detroitnews', u'developer', u'dickey', u'dif', u'difficult', u'dimas', u'dime', u'directly', u'disappointed', u'disappointed', u'discuss', u'discussion', u'disrespecting', u'distributiondisaster', u'disturbs', u'ditto', u'diverting', u'divorce', u'divorced', u'divorced', u'divorced', u'divorced', u'divorced', u'divorced', u'divorced', u'divorced', u'divorced', u'divorced', u'divorced', u'divorced', u'divorced', u'divorced', u'divorced', u'divorced', u'divorced', u'divorced', u'divorced', u'divorced', u'divorced', u'divorced', u'divorced', u'divorced', u'divorced', u'divorced', u'divorced', u'divorced', u'divorced', u'divorced', u'divorced', u'divorced', u'divorced', u'divorced', u'divorced', u'divorced', u'divorced', u'divorced', u'divorced', u'divorced', u'divorced', u'divorced', u'dmed', u'doe', u'doinga', u'domination', u'donating', u'donors', u'donovanbass', u'donovanbass', u'donovanbass', u'donovanbass', u'dope', u'double', u'doubt', u'downgrade', u'dr', u'drag', u'drag', u'drag', u'drag', u'drag', u'drag', u'drag', u'drag', u'drag', u'drainage', u'dramatically', u'draw', u'dreams', u'dreams', u'drinking', u'drivers', u'drug', u'drunk', u'dtothetubbs', u'dtyates', u'dual', u'dual', u'due', u'due', u'due', u'due', u'due', u'due', u'due', u'dump', u'dynamic', u'earthen', u'earths', u'earths', u'easiest', u'eathwat', u'ebay', u'eccentric', u'ecoheliguy', u'ecoheliguy', u'edidrive', u'edidrive', u'edidrive', u'editors', u'edmonton', u'edmonton', u'effect', u'efforts', u'egearnews', u'eight', u'eighteen', u'electrical', u'electrical', u'electronics', u'electrostatic', u'elevate', u'eloned', u'elonmuskwall', u'elonspromises', u'elonwhat', u'elsegewrapt', u'em', u'email', u'embassy', u'emeralds', u'emeralds', u'emeralds', u'emicimaz', u'emojis', u'emotional', u'employee', u'employee', u'employer', u'enchantedbynature', u'encrypted', u'ener', u'engadget', u'engadget', u'engadget', u'engadget', u'engadget', u'enormous', u'enou', u'enphase', u'enphase', u'enphase', u'enphase', u'enricosalad', u'enricosalad', u'enricosalad', u'enron', u'enslave', u'entail', u'enter', u'enter', u'enter', u'entered', u'entered', u'entered', u'enthusiastic', u'entry', u'environmental', u'ericdubay', u'es', u'es', u'escaping', u'essenviews', u'estimated', u'etc', u'etc', u'ethanlu', u'evansville', u'evansville', u'eventually', u'everywhere', u'evet', u'exactly', u'exactly', u'example', u'example', u'excellent', u'except', u'exciting', u'exciting', u'executive', u'exempt', u'exempt', u'exis', u'exist', u'exlovers', u'exp', u'expand', u'experience', u'experience', u'experience', u'experience', u'experience', u'experience', u'experience', u'experienced', u'expertise', u'expires', u'explore', u'explorespaceksc', u'extensive', u'extent', u'extra', u'extraordinarily', u'eye', u'eye', u'eyes', u'eyes', u'eyes', u'fa', u'fact', u'factscomment', u'failed', u'fairing', u'fan', u'fanatics', u'fantastic', u'fantasy', u'farm', u'fart', u'farther', u'fascination', u'fastest', u'fav', u'fbi', u'featuring', u'february', u'feckin', u'fed', u'fed', u'feeling', u'felt', u'ferra', u'ferrari', u'fiatchryslerna', u'fiatchryslerna', u'fiatchryslerna', u'fiatchryslerna', u'fillyourstockings', u'film', u'final', u'finalist', u'finals', u'finance', u'finebaum', u'fing', u'firenicefly', u'firings', u'fisherm', u'fix', u'fix', u'fl', u'flat', u'flawlessly', u'florida', u'flow', u'flying', u'fo', u'fo', u'fo', u'fo', u'follow', u'follow', u'follow', u'follow', u'follower', u'followers', u'following', u'foot', u'foot', u'foot', u'foot', u'foot', u'foot', u'football', u'forbes', u'ford', u'foretelling', u'forethoughtmusk', u'form', u'form', u'former', u'former', u'forth', u'fortress', u'fortune', u'fortune', u'forumotion', u'foxnews', u'fra', u'fragger', u'frame', u'franchise', u'fraud', u'fraud', u'frauds', u'fraudulent', u'freemediahub', u'freeze', u'freezing', u'frontend', u'fuelfreefuelforevergonna', u'fuelfreefuelforevergonna', u'fuels', u'funnel', u'futanarifemale', u'futano', u'fwiwmeet', u'gaas', u'galactic', u'gallons', u'gallons', u'games', u'games', u'games', u'ganirudh', u'garage', u'garage', u'garage', u'garage', u'garage', u'garvpe', u'garvpe', u'garvpe', u'gaspo', u'gaspo', u'gauntlet', u'gauntlet', u'gave', u'gaynorann', u'gear', u'general', u'general', u'general', u'generated', u'generated', u'genius', u'genius', u'geniuses', u'george', u'george', u'gesichtbuch', u'gets', u'gf', u'gf', u'gf', u'ghana', u'gift', u'gift', u'gifts', u'giga', u'gigafactorys', u'giv', u'given', u'given', u'giza', u'glitches', u'glitters', u'glitters', u'global', u'gloss', u'goa', u'goa', u'goa', u'god', u'god', u'god', u'goddamn', u'godspeed', u'godspeed', u'godspeed', u'godxeno', u'gold', u'gold', u'goldengatebridge', u'goldengatebridge', u'goldengatebridge', u'goodies', u'gotta', u'gotta', u'gov', u'government', u'government', u'govt', u'grads', u'grads', u'graduation', u'grasp', u'gravity', u'greatpaulsmith', u'gregkable', u'gretathunberg', u'grid', u'grip', u'grisly', u'grohmann', u'group', u'groupunicorn', u'groupunicorn', u'grow', u'growing', u'growing', u'guilt', u'guilt', u'gun', u'gun', u'gvmt', u'gvmt', u'h', u'h', u'h', u'h', u'h', u'h', u'h', u'handle', u'handle', u'handle', u'handle', u'handle', u'handle', u'handle', u'handling', u'hands', u'hardware', u'hasnt', u'hasnt', u'haters', u'hazards', u'heading', u'heat', u'heat', u'heinthesayer', u'helicopters', u'hell', u'hell', u'hell', u'hell', u'hell', u'hell', u'hell', u'hell', u'hell', u'hell', u'hell', u'hell', u'hell', u'hell', u'hell', u'hell', u'hell', u'hell', u'hell', u'hell', u'hell', u'helluva', u'helpchangeachildsworld', u'hickslur', u'hired', u'hitler', u'hmmyes', u'holder', u'holder', u'holds', u'hollestellearco', u'hollestellearco', u'hollow', u'holy', u'holy', u'holy', u'hong', u'hong', u'hong', u'hong', u'hood', u'hopping', u'horrible', u'horrified', u'horror', u'horror', u'horsepower', u'hot', u'hot', u'hour', u'hour', u'hour', u'household', u'hubris', u'hugely', u'hum', u'humanity', u'humanity', u'humanity', u'humanity', u'humankind', u'humor', u'husband', u'husband', u'husky', u'hydrogen', u'hydrogen', u'hypercar', u'hypothesis', u'hypothesis', u'iainb', u'iainb', u'iamhubris', u'ibm', u'idea', u'idea', u'idled', u'ignition', u'ignorance', u'ignore', u'ignore', u'ii', u'ilk', u'ily', u'immediate', u'imminently', u'imminently', u'impala', u'impossible', u'impressive', u'improving', u'imriding', u'imriding', u'inability', u'incars', u'incars', u'incars', u'inches', u'include', u'included', u'including', u'including', u'incredi', u'incredible', u'indepth', u'indian', u'indian', u'individual', u'indonesia', u'induce', u'inducer', u'inducers', u'industrialist', u'industrialist', u'inefficient', u'inevit', u'infamously', u'infamously', u'infamously', u'info', u'information', u'information', u'information', u'information', u'information', u'information', u'information', u'information', u'information', u'information', u'information', u'information', u'information', u'information', u'information', u'information', u'information', u'information', u'information', u'information', u'information', u'information', u'information', u'information', u'information', u'information', u'information', u'information', u'information', u'information', u'information', u'information', u'information', u'information', u'information', u'information', u'information', u'information', u'information', u'information', u'information', u'information', u'infosec', u'infrastructure', u'infrastructure', u'innear', u'innovation', u'innovation', u'innovators', u'inout', u'insanity', u'insanity', u'insanity', u'insanity', u'insanity', u'insanity', u'insanity', u'insideev', u'insideev', u'insideev', u'inspired', u'install', u'install', u'install', u'installed', u'instant', u'instant', u'instant', u'instant', u'instant', u'instant', u'instant', u'instant', u'instant', u'instant', u'instant', u'instant', u'instant', u'instant', u'instant', u'instant', u'instant', u'instant', u'instant', u'instant', u'instant', u'instrument', u'insult', u'integrate', u'intel', u'intelligence', u'intended', u'intends', u'interest', u'interestin', u'interesting', u'interesting', u'interrogated', u'interrogations', u'intimate', u'intimate', u'intimidated', u'intoelectric', u'inverse', u'inverse', u'invest', u'invest', u'invest', u'invest', u'invest', u'invest', u'invest', u'invest', u'investigations', u'investigations', u'ironic', u'irresistible', u'irvine', u'irvine', u'isnt', u'isnt', u'isscasis', u'issue', u'issues', u'itll', u'itll', u'jag', u'jallen', u'jallen', u'jallen', u'jallen', u'jallen', u'jallen', u'jallen', u'jalopnik', u'james', u'jamesdeboer', u'jams', u'jan', u'janas', u'janies', u'janies', u'january', u'javascript', u'jay', u'jay', u'jay', u'jay', u'jayleno', u'jeep', u'jessicadharvard', u'jim', u'jmartnyt', u'jmusportsnews', u'job', u'job', u'job', u'job', u'jobs', u'jobs', u'jobs', u'jobs', u'jobs', u'jobs', u'jobs', u'jobs', u'jobs', u'joe', u'joe', u'joe', u'joebernard', u'joebernard', u'joebernard', u'joebernard', u'joebernard', u'joebernard', u'joebernard', u'joebernard', u'joebernard', u'joebernard', u'joebernard', u'joebernard', u'joebernard', u'joebernard', u'joebernard', u'joebernard', u'joebernard', u'joebernard', u'joebernard', u'joebernard', u'joebernard', u'johnforcefc', u'johnpapa', u'joining', u'joke', u'joke', u'joke', u'joke', u'joker', u'joshikvn', u'jsise', u'juju', u'julian', u'july', u'junkscience', u'justified', u'jvidyasagar', u'jvidyasagar', u'jvidyasagar', u'jwilliamsfstmed', u'jyotsnadevi', u'jyotsnadevi', u'jyotsnadevi', u'jyotsnavarma', u'jyotsnavarma', u'jyotsnavarma', u'kanan', u'karax', u'karax', u'ke', u'keeps', u'keithjohnston', u'keithjohnston', u'keithjohnston', u'kenkremer', u'kent', u'kenyan', u'kg', u'kg', u'kg', u'kg', u'kg', u'khashoggi', u'kia', u'kia', u'kia', u'kia', u'kia', u'kia', u'kia', u'kia', u'kia', u'kid', u'kid', u'kid', u'kidarianagrande', u'killer', u'killers', u'killers', u'killers', u'killers', u'killers', u'kim', u'kimpaquette', u'kk', u'knallishcr', u'knovigator', u'koch', u'kongs', u'kongs', u'konradbilinski', u'konradbilinski', u'kyleanotjenner', u'lab', u'laminated', u'laminated', u'landfills', u'lasts', u'later', u'later', u'later', u'later', u'later', u'latest', u'lathrop', u'lattes', u'lattes', u'laugh', u'laugh', u'launching', u'lawn', u'laws', u'laws', u'lay', u'layi', u'le', u'le', u'le', u'leaders', u'leadership', u'leaderwe', u'leading', u'leading', u'leads', u'leanonly', u'lease', u'leased', u'lefty', u'legacy', u'legacy', u'lehman', u'lekar', u'leno', u'leno', u'leno', u'leno', u'less', u'less', u'less', u'less', u'lesson', u'lesson', u'lesson', u'lethal', u'lethal', u'lethal', u'letting', u'libbycwatson', u'liberty', u'lifelong', u'lightbulbs', u'lighting', u'like', u'like', u'like', u'like', u'like', u'like', u'like', u'like', u'like', u'like', u'like', u'like', u'like', u'like', u'like', u'like', u'like', u'like', u'like', u'like', u'like', u'like', u'like', u'like', u'like', u'like', u'like', u'like', u'like', u'like', u'like', u'like', u'like', u'like', u'like', u'like', u'likeforfolo', u'likeforlike', u'likely', u'liketesla', u'liketesla', u'limitless', u'limits', u'lithium', u'lithium', u'lithium', u'lithium', u'lithium', u'litres', u'litres', u'litres', u'litres', u'litres', u'liye', u'lizard', u'loaner', u'loaners', u'loaners', u'located', u'locations', u'lock', u'longer', u'longer', u'longy', u'looked', u'looked', u'looked', u'looser', u'losing', u'loss', u'loss', u'lost', u'lost', u'lost', u'lost', u'lost', u'louaaayyy', u'louiswei', u'loved', u'loved', u'loved', u'loved', u'loves', u'lower', u'lr', u'lt', u'lucia', u'luck', u'ludalisl', u'luisbaram', u'luisbaram', u'lunar', u'lunar', u'lunarluster', u'lunarluster', u'luxembourg', u'mac', u'machines', u'magic', u'magical', u'mahendra', u'mahendra', u'mahendra', u'mahindraapril', u'mahindraapril', u'mahindraapril', u'mahindraapril', u'mahindraapril', u'mahindraapril', u'mahindraapril', u'mahindraapril', u'mahindraapril', u'mahindraapril', u'mahindraapril', u'mahindraapril', u'mahindraapril', u'mahindraapril', u'mahindraapril', u'mahindraapril', u'mahindraapril', u'mahindraapril', u'mahindraapril', u'mahindraapril', u'mailby', u'mailby', u'maker', u'manager', u'manned', u'manual', u'map', u'marajuana', u'march', u'marin', u'marin', u'marin', u'marketing', u'marketing', u'married', u'married', u'married', u'married', u'married', u'married', u'married', u'married', u'married', u'married', u'married', u'married', u'married', u'married', u'married', u'married', u'married', u'married', u'married', u'married', u'married', u'married', u'married', u'married', u'married', u'married', u'married', u'married', u'married', u'married', u'married', u'married', u'married', u'married', u'married', u'married', u'married', u'married', u'married', u'married', u'married', u'married', u'marry', u'marsone', u'marssociety', u'martins', u'mary', u'mass', u'mass', u'mass', u'mass', u'mate', u'material', u'matte', u'maximize', u'maximize', u'maximize', u'maybemusk', u'mbulger', u'mbulger', u'mcconnell', u'mcelarier', u'mdad', u'mean', u'mean', u'mean', u'mean', u'meaningness', u'means', u'means', u'means', u'means', u'means', u'means', u'means', u'meanwhile', u'meanwhile', u'meanwhile', u'meanwhile', u'meanwhile', u'media', u'media', u'media', u'media', u'megamania', u'megamania', u'megamania', u'megamania', u'megazone', u'mein', u'melanin', u'memes', u'mentioned', u'menu', u'menu', u'mercedes', u'mesa', u'mesa', u'mesa', u'mesa', u'mesa', u'mesa', u'met', u'met', u'michele', u'middle', u'midel', u'mif', u'mifand', u'mikegordon', u'mikeonthebayou', u'mile', u'mile', u'milestone', u'min', u'mindfulness', u'mindset', u'mins', u'mins', u'mins', u'mins', u'mins', u'minute', u'misleading', u'misses', u'misunderstood', u'mj', u'moazzamkhan', u'moazzamkhan', u'moazzamkhan', u'moazzamkhan', u'modelalways', u'modelx', u'modelx', u'modelx', u'modern', u'momelonmuskwith', u'momen', u'mongers', u'monoganie', u'monster', u'montage', u'moodewji', u'moods', u'mostly', u'mostviewed', u'motion', u'motion', u'motor', u'motor', u'motor', u'motorcyclejust', u'motors', u'mrkylefield', u'mrmusk', u'mu', u'mugenx', u'multi', u'murder', u'muscle', u'muscle', u'muskbrethren', u'muskbrethren', u'muskbrethren', u'muskbrethren', u'muskhow', u'musks', u'musks', u'musks', u'musks', u'musks', u'musks', u'musks', u'musks', u'musks', u'musks', u'musks', u'musks', u'musks', u'musks', u'musks', u'musks', u'musks', u'musks', u'musks', u'musks', u'musks', u'musks', u'musks', u'musks', u'musks', u'musks', u'musks', u'musks', u'musks', u'musks', u'musks', u'musks', u'musks', u'nadella', u'nadella', u'nah', u'nailed', u'nails', u'nails', u'naked', u'nakedok', u'nandaji', u'nandaji', u'nandaji', u'nasaapp', u'nasafltdirector', u'nasakennedy', u'nasasocial', u'nastier', u'national', u'national', u'national', u'national', u'national', u'nationwide', u'natural', u'navigate', u'navigate', u'navigation', u'navigation', u'nba', u'nba', u'nba', u'nba', u'nba', u'nc', u'nc', u'ncaat', u'ncaat', u'near', u'nearly', u'nearly', u'nearly', u'nearly', u'nearly', u'nearly', u'nearly', u'nearly', u'nearly', u'nearly', u'nearly', u'nearly', u'nearly', u'nearly', u'nearly', u'nearly', u'nearly', u'nearly', u'nearly', u'nearly', u'nearly', u'nearly', u'nearly', u'nearly', u'nearly', u'nearly', u'nearly', u'nearly', u'nearly', u'neat', u'necessary', u'need', u'need', u'need', u'need', u'need', u'need', u'need', u'need', u'need', u'need', u'need', u'need', u'need', u'need', u'need', u'needcaek', u'neil', u'neil', u'neither', u'nelson', u'neofeudalism', u'neon', u'nervous', u'netherlandstsla', u'neve', u'newroads', u'newroads', u'newroads', u'newsletter', u'nextjanuary', u'nextjanuary', u'nextjanuary', u'nextjanuary', u'nextjanuary', u'nextjanuary', u'nextjanuary', u'nextjanuary', u'nextjanuary', u'nextjanuary', u'nextjanuary', u'nextjanuary', u'nextjanuary', u'nextjanuary', u'nextjanuary', u'nextjanuary', u'nextjanuary', u'nextjanuary', u'nextjanuary', u'nextjanuary', u'nicely', u'nightskyglowing', u'nightskyglowing', u'nightskyglowing', u'nl', u'non', u'non', u'non', u'non', u'nonei', u'normally', u'normally', u'note', u'note', u'note', u'note', u'note', u'note', u'note', u'note', u'note', u'note', u'note', u'note', u'note', u'note', u'note', u'note', u'note', u'note', u'note', u'note', u'note', u'note', u'note', u'note', u'note', u'note', u'note', u'note', u'note', u'note', u'note', u'note', u'note', u'note', u'note', u'note', u'note', u'note', u'note', u'note', u'note', u'note', u'note', u'note', u'note', u'note', u'notes', u'nothing', u'nothing', u'nothing', u'notslabs', u'november', u'nowmarkbspiegel', u'nowthisnews', u'nuclear', u'nuclear', u'numerics', u'nut', u'nv', u'nv', u'nyc', u'objection', u'observation', u'obtain', u'ocasio', u'offense', u'offense', u'office', u'officer', u'ogle', u'oil', u'oil', u'onlxn', u'onto', u'ontrack', u'opens', u'opens', u'operatortoown', u'optimism', u'optimism', u'optimism', u'option', u'options', u'orange', u'orbit', u'orbit', u'ord', u'ordering', u'ordering', u'ordering', u'orders', u'organic', u'organizing', u'orleanssp', u'outage', u'outmoded', u'oven', u'oven', u'oven', u'overall', u'overstate', u'owlowery', u'owned', u'oz', u'oz', u'p', u'p', u'p', u'p', u'p', u'pace', u'package', u'pacwatson', u'paines', u'paines', u'palo', u'palo', u'panels', u'panels', u'panic', u'panthercrazy', u'pants', u'papertslaqtsla', u'parallels', u'parallels', u'parfums', u'parfums', u'parking', u'parking', u'parking', u'parking', u'parking', u'parrika', u'parrika', u'partner', u'partners', u'partnership', u'passers', u'passionate', u'passionate', u'pastim', u'patrolled', u'paulmhuettner', u'paulmhuettner', u'pawelsucinski', u'pawelsucinski', u'payload', u'paypal', u'pennalexander', u'pennyworth', u'peoples', u'peoples', u'peoples', u'perfect', u'pessimism', u'pessimism', u'pessimism', u'phillipliberal', u'phosphorescent', u'photograph', u'photograph', u'photograph', u'photograph', u'physics', u'physics', u'picked', u'picked', u'pics', u'pics', u'pioneers', u'planes', u'planetwhy', u'planned', u'plants', u'plants', u'plantsthen', u'play', u'play', u'play', u'player', u'player', u'player', u'player', u'player', u'playing', u'playstation', u'pls', u'pls', u'plz', u'point', u'policy', u'politico', u'polixenes', u'por', u'pos', u'poshmentorino', u'poshmentorino', u'possibilitiesapp', u'possibly', u'post', u'post', u'posts', u'potus', u'potus', u'pouring', u'powered', u'powered', u'powered', u'powered', u'powerwall', u'powerwall', u'pprstrtspcmpy', u'predictions', u'predictions', u'prehestoric', u'prehisto', u'pretty', u'primary', u'primary', u'prime', u'prime', u'primitive', u'princembs', u'print', u'print', u'probably', u'probably', u'probably', u'probably', u'probably', u'probably', u'probably', u'probably', u'probably', u'probably', u'probably', u'probably', u'probably', u'probably', u'probably', u'probably', u'probably', u'probably', u'probably', u'probably', u'probably', u'probably', u'probably', u'probably', u'probably', u'probably', u'probably', u'probably', u'probably', u'probably', u'probably', u'probably', u'probably', u'probably', u'probably', u'probably', u'probably', u'probably', u'probably', u'probably', u'probably', u'probably', u'probably', u'probably', u'probably', u'probably', u'process', u'processes', u'produce', u'produce', u'produce', u'produce', u'produce', u'produce', u'produces', u'producing', u'product', u'product', u'product', u'product', u'product', u'product', u'product', u'producthunt', u'profitable', u'program', u'program', u'program', u'progress', u'projectloveday', u'projects', u'promo', u'promo', u'pronouncements', u'propping', u'propulsion', u'proud', u'proud', u'proud', u'proud', u'proves', u'psychotic', u'psychotic', u'pum', u'pumping', u'purchase', u'putting', u'putting', u'pwunion', u'pyramid', u'quality', u'questioned', u'questioned', u'questioned', u'quiet', u'quiet', u'race', u'race', u'race', u'race', u'race', u'race', u'race', u'race', u'race', u'racing', u'rafael', u'rage', u'railedhello', u'ram', u'ranch', u'rapidtransit', u'rather', u'rather', u'ratioatampt', u'raton', u'rawlinson', u'rdutoatl', u'rea', u'rea', u'reactions', u'reactions', u'reactions', u'reactions', u'reactions', u'reaghanherrin', u'realdonaldtrump', u'realdonaldtrump', u'realdonaldtrump', u'reality', u'realize', u'recap', u'recap', u'recap', u'received', u'received', u'recent', u'recent', u'record', u'record', u'record', u'recovery', u'redfaced', u'reducing', u'reducing', u'reduction', u'referral', u'referrals', u'referrals', u'refers', u'reflection', u'refueling', u'refuses', u'refuses', u'refuses', u'registered', u'registra', u'registrations', u'regular', u'regular', u'released', u'released', u'releasing', u'releasing', u'releasing', u'releasing', u'releasing', u'releasing', u'releasing', u'releasing', u'releasing', u'releasing', u'releasing', u'releasing', u'releasing', u'releasing', u'releasing', u'religion', u'remove', u'remove', u'renaulttrucksco', u'renaulttrucksco', u'renaulttrucksco', u'report', u'report', u'report', u'reporting', u'reporting', u'republican', u'requires', u'requires', u'requires', u'requires', u'requires', u'res', u'reservation', u'reset', u'residents', u'residents', u'resilience', u'resilience', u'resilience', u'resilience', u'resilience', u'resistant', u'resistant', u'resolve', u'resolve', u'resolve', u'resolved', u'resources', u'respect', u'responds', u'responses', u'responsiveness', u'rest', u'rest', u'rest', u'rest', u'restart', u'rethink', u'retweeetplease', u'reusability', u'reveals', u'reveals', u'reveals', u'ride', u'ride', u'ride', u'rides', u'rightish', u'rightwhat', u'risk', u'riskrewardsle', u'risks', u'ritesh', u'rivalvoices', u'road', u'road', u'road', u'road', u'roaring', u'roaring', u'roaring', u'roaring', u'roaring', u'roaring', u'roaring', u'roaring', u'robertauers', u'robertauers', u'robertauers', u'robertauers', u'robertauers', u'robertauers', u'robo', u'robot', u'robotic', u'robotics', u'rock', u'rock', u'rock', u'rock', u'rock', u'rock', u'rocke', u'rocke', u'rocket', u'rocket', u'rockin', u'roofing', u'root', u'rotated', u'route', u'royce', u'rpm', u'rubbing', u'ruse', u'rv', u'rv', u'ryand', u'ryandibble', u'ryandibble', u'ryandibble', u'ryandibble', u'ryandibble', u'ryandibble', u'ryandibble', u'saban', u'saban', u'saboteur', u'safe', u'safest', u'salar', u'salary', u'salary', u'salary', u'salespeople', u'salespeople', u'sanfrancisco', u'sanfrancisco', u'sanfrancisco', u'sarnia', u'satellite', u'satin', u'satisfying', u'satya', u'satya', u'saudi', u'savior', u'savitritvs', u'savitritvs', u'savitritvs', u'savvy', u'scal', u'scales', u'scam', u'scaniag', u'scaniag', u'scat', u'sclany', u'scooty', u'scottmcolbert', u'scottmcolbert', u'scottmcolbert', u'scra', u'screen', u'screw', u'scrutiny', u'searing', u'seats', u'seats', u'seats', u'seats', u'seats', u'seats', u'seats', u'seats', u'seats', u'seats', u'sec', u'sec', u'sec', u'sec', u'secenforcement', u'secretly', u'secured', u'securitization', u'securitization', u'seemaud', u'seketricbarnes', u'selecti', u'semi', u'semi', u'sense', u'sense', u'series', u'series', u'seriously', u'seriouslyelon', u'services', u'seven', u'sexy', u'sexy', u'sgf', u'shall', u'shall', u'shanghai', u'shanghai', u'shanghai', u'shanghai', u'shanghai', u'shanghai', u'shanghai', u'shanghai', u'shanghai', u'shanghai', u'shanghai', u'shanghai', u'shanghai', u'shanghai', u'shares', u'sharing', u'sheet', u'ship', u'shipped', u'sho', u'shortingisfun', u'shorts', u'shorts', u'shot', u'shotgun', u'shotgun', u'shoutout', u'shoutout', u'shoutout', u'shoutout', u'shoutout', u'shuffle', u'siberianodyssey', u'siberianodyssey', u'siblings', u'sights', u'signature', u'silversurfer', u'simulation', u'simulation', u'situation', u'situation', u'skin', u'skin', u'slashes', u'slip', u'slow', u'slowest', u'slowest', u'slowest', u'slowest', u'slowest', u'slowest', u'slowest', u'slowest', u'slowest', u'slush', u'slye', u'sm', u'smaller', u'smartish', u'smashed', u'smells', u'smile', u'smile', u'smile', u'smile', u'smiling', u'smokestackfreeevfuelrefineryonm', u'snow', u'snow', u'snowflake', u'social', u'social', u'socialmars', u'society', u'soconjohn', u'solarcellphones', u'solarworldusa', u'solarworldusa', u'solarworldusa', u'solarworldusa', u'som', u'somebody', u'sometimes', u'sometimes', u'sound', u'sound', u'soundcloud', u'spac', u'spac', u'spac', u'spacenews', u'spadival', u'spadival', u'spadival', u'spadival', u'spadival', u'spadival', u'spadival', u'spadival', u'spadival', u'spadival', u'spadival', u'spadival', u'spadival', u'spadival', u'spadival', u'spadival', u'spadival', u'spadival', u'spadival', u'spadival', u'spadival', u'spadival', u'spadival', u'spannerless', u'spark', u'sparking', u'sparking', u'speaking', u'specad', u'specad', u'specialist', u'specially', u'spectacular', u'speed', u'speed', u'spill', u'spill', u'spills', u'spoke', u'spotify', u'squadlinked', u'sre', u'ssoa', u'staff', u'stain', u'stain', u'stand', u'starkor', u'starlink', u'startups', u'startups', u'startupstreetrobots', u'startupstreetrobots', u'state', u'statement', u'station', u'station', u'station', u'stature', u'steering', u'steezyman', u'steezyman', u'steezyman', u'stein', u'steven', u'stinger', u'stinger', u'stinger', u'stinger', u'stinger', u'stinger', u'stinger', u'stinger', u'stink', u'stockholm', u'stomped', u'stores', u'stores', u'storm', u'straight', u'straight', u'straightup', u'stream', u'strong', u'stronger', u'structure', u'structure', u'struggled', u'struggling', u'struggling', u'stry', u'studentlike', u'stunning', u'stunning', u'subscribe', u'success', u'successful', u'successrupaul', u'sue', u'sues', u'sugar', u'suggestion', u'summaries', u'sums', u'sundaymorning', u'sunny', u'super', u'supper', u'supper', u'supporting', u'surfersolar', u'surfersolar', u'sustainable', u'sustainably', u'suvs', u'syndrome', u'synergie', u'system', u'tabledelete', u'tabledelete', u'takes', u'takes', u'taking', u'taking', u'talking', u'talking', u'tall', u'tall', u'tall', u'tall', u'tall', u'tankers', u'tap', u'task', u'tatodehouston', u'taunt', u'taxes', u'tcphysicist', u'teak', u'teamelon', u'tear', u'techgnostik', u'temperature', u'term', u'teslaagnostic', u'tesladouble', u'teslafakesneed', u'teslafakesneed', u'teslainvernon', u'teslamodel', u'teslaopinion', u'teslapittsburgh', u'teslaroadtrip', u'tested', u'tested', u'testla', u'texas', u'tf', u'thankfully', u'thanksgiving', u'thanksgiving', u'thebodyshopuk', u'thebuffalonews', u'thebuffalonews', u'thejillgrill', u'thejillgrill', u'thenewclmb', u'ther', u'therealalev', u'thespaceshipco', u'thespaceshipco', u'thespaceshipco', u'thespaceshipco', u'thespaceshipco', u'thespaceshipco', u'thespaceshipco', u'thespaceshipco', u'thespaceshipco', u'thespaceshipco', u'theyll', u'thin', u'thinkinf', u'third', u'though', u'though', u'though', u'thoughtful', u'thread', u'threat', u'threeday', u'threeeee', u'thrown', u'thrown', u'tiare', u'tictoc', u'tictoc', u'tiles', u'till', u'tiltnotmachines', u'tiltnotmachines', u'timestamped', u'timwjackson', u'tip', u'tires', u'tm', u'tnmadisontaylor', u'toca', u'toca', u'tofakeability', u'tofakeability', u'tonawanda', u'tonyastylz', u'tops', u'toronto', u'totally', u'touchin', u'toyota', u'toyotafebruary', u'toyotafebruary', u'toyotafebruary', u'toyotafebruary', u'toyotafebruary', u'toyotafebruary', u'toyotafebruary', u'toyotafebruary', u'toyotafebruary', u'toyotafebruary', u'toyotafebruary', u'toyotafebruary', u'toyotafebruary', u'toyotafebruary', u'toyotafebruary', u'toyotafebruary', u'toyotafebruary', u'toyotafebruary', u'toyotafebruary', u'tra', u'tradeins', u'training', u'traits', u'traits', u'traits', u'transcendentfr', u'transformation', u'transformation', u'travelling', u'traverse', u'trccper', u'trccper', u'tread', u'trees', u'tremendous', u'trend', u'trevor', u'trevor', u'trillion', u'troops', u'trucks', u'truly', u'truly', u'truly', u'truly', u'trump', u'trump', u'trump', u'trump', u'trump', u'trumps', u'trying', u'trying', u'trying', u'tshirt', u'tshirts', u'tsscimajic', u'tuned', u'tuned', u'tuning', u'turkey', u'turn', u'turns', u'tweeted', u'tweeting', u'twitters', u'twitters', u'twitters', u'type', u'tyson', u'uber', u'ufofalcon', u'ufofalcon', u'uh', u'uh', u'uncg', u'underestimate', u'underground', u'underrated', u'understand', u'understand', u'understandable', u'unedited', u'unique', u'unmatched', u'unresponsive', u'unscented', u'untill', u'updated', u'upgradable', u'uphow', u'upon', u'upstart', u'upstart', u'upstart', u'upstart', u'ur', u'ur', u'usmc', u'utilitysized', u'utilitysized', u'utilitysized', u'utilitysized', u'utilitysized', u'utilitysized', u'utilitysized', u'utilize', u'v', u'v', u'valk', u'value', u'value', u'value', u'vanandtrucknews', u'vanandtrucknews', u'vanandtrucknews', u'vanilla', u'vanilla', u'vanilla', u'vanilla', u'vanilla', u'vanilla', u'vanilla', u'vanilla', u'vanilla', u'vanilla', u'vanilla', u'vehicle', u'vehicle', u'vehicle', u'vehicle', u'ventures', u'veteran', u'vi', u'vi', u'videotraining', u'view', u'view', u'viewing', u'villain', u'vincents', u'vindiesel', u'vineyards', u'vins', u'virgins', u'visionary', u'visited', u'visiting', u'volkswagen', u'voltronrecordz', u'volume', u'volume', u'volume', u'volume', u'volume', u'volume', u'volume', u'volume', u'volume', u'volume', u'volume', u'volume', u'volume', u'volume', u'vs', u'vs', u'vs', u'vs', u'vwgroup', u'waise', u'waitlist', u'waitshe', u'waive', u'waive', u'wake', u'walk', u'walking', u'walls', u'wannabe', u'wannabe', u'wannabe', u'wanting', u'war', u'war', u'war', u'warned', u'warning', u'wary', u'wast', u'waste', u'watson', u'wayne', u'wears', u'web', u'wed', u'wedding', u'wedding', u'wedding', u'wednesday', u'weed', u'welcome', u'welcomed', u'well', u'well', u'well', u'well', u'well', u'well', u'well', u'well', u'well', u'wepowerbuffalo', u'western', u'wflash', u'wflash', u'wflash', u'whatever', u'whatley', u'wheelchairs', u'whenyou', u'wheres', u'whi', u'whites', u'whites', u'wholesale', u'whoneedstechnology', u'whoops', u'whose', u'whove', u'wife', u'wife', u'wife', u'wife', u'wife', u'wife', u'wife', u'wildlife', u'willie', u'wine', u'wine', u'wine', u'wine', u'wingandhi', u'winning', u'wipe', u'wishing', u'wki', u'wki', u'wki', u'wo', u'wofford', u'wofford', u'women', u'women', u'women', u'wondering', u'wondering', u'woods', u'words', u'words', u'words', u'worldcom', u'worlds', u'worldtrendsinfo', u'worried', u'worry', u'worry', u'worry', u'worse', u'worst', u'worst', u'wort', u'wraps', u'wtf', u'ww', u'xbox', u'xiamlegend', u'xse', u'xthose', u'yam', u'yea', u'yeg', u'yeg', u'yesterday', u'yodel', u'youll', u'youll', u'youll', u'youll', u'youll', u'youll', u'youll', u'youll', u'youll', u'youll', u'youll', u'youll', u'youll', u'youll', u'youll', u'youll', u'youll', u'youll', u'youll', u'youll', u'youngterrier', u'yrs', u'zone', u'zone', u'zone', u'zoom', u'zucc', u'zupzles']\n"
     ]
    }
   ],
   "source": [
    "match_words = [x for x in tweets2_clean if x in matched_words]\n",
    "sort_match = sorted(match_words)\n",
    "print sort_match"
   ]
  },
  {
   "cell_type": "code",
   "execution_count": 17,
   "metadata": {},
   "outputs": [
    {
     "data": {
      "text/plain": [
       "note           46\n",
       "probably       46\n",
       "almost         45\n",
       "divorced       42\n",
       "married        42\n",
       "information    42\n",
       "like           36\n",
       "musks          33\n",
       "nearly         29\n",
       "spadival       23\n",
       "Name: 0, dtype: int64"
      ]
     },
     "execution_count": 17,
     "metadata": {},
     "output_type": "execute_result"
    }
   ],
   "source": [
    "m = pd.DataFrame(sort_match)\n",
    "match = m[0].value_counts().head(10)\n",
    "match"
   ]
  },
  {
   "cell_type": "code",
   "execution_count": 19,
   "metadata": {},
   "outputs": [
    {
     "data": {
      "image/png": "[encoded data removed]",
      "text/plain": [
       "<Figure size 1080x720 with 1 Axes>"
      ]
     },
     "metadata": {},
     "output_type": "display_data"
    }
   ],
   "source": [
    "import matplotlib.pyplot as plt\n",
    "ax = match.plot(x=0, y=1, kind=\"bar\", figsize=(15, 10), fontsize=15)\n",
    "ax.set_title('Matched Words Frequency', fontsize=25)\n",
    "ax.set_ylabel(\"Frequency\", fontsize=25)\n",
    "ax.set_xlabel(\"Words\", fontsize=25)\n",
    "plt.show()"
   ]
  },
  {
   "cell_type": "code",
   "execution_count": null,
   "metadata": {},
   "outputs": [],
   "source": []
  }
 ],
 "metadata": {
  "kernelspec": {
   "display_name": "Python 2",
   "language": "python",
   "name": "python2"
  },
  "language_info": {
   "codemirror_mode": {
    "name": "ipython",
    "version": 2
   },
   "file_extension": ".py",
   "mimetype": "text/x-python",
   "name": "python",
   "nbconvert_exporter": "python",
   "pygments_lexer": "ipython2",
   "version": "2.7.15"
  }
 },
 "nbformat": 4,
 "nbformat_minor": 1
}
