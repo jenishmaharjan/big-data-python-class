{
 "cells": [
  {
   "cell_type": "markdown",
   "metadata": {},
   "source": [
    "# Tutorial: Difference between Lists and Tuples\n",
    "\n",
    "The following content and code excerpts have been derived from the following sources.\n",
    "1. Python Tutorial from Tutorialspoint. https://www.tutorialspoint.com/python/\n",
    "2. How to Loop with indexes in Python. http://treyhunner.com/2016/04/how-to-loop-with-indexes-in-python/\n",
    "3. Python.org Tutorials. https://docs.python.org/2/tutorial/index.html\n",
    "4. Learnpython.org. https://www.learnpython.org\n",
    "5. Introductin to Python Programming https://github.com/jrjohansson/scientific-python-lectures/blob/master/Lecture-1-Introduction-to-Python-Programming.ipynb\n",
    "6. Iterating with Python Lambdas. https://caisbalderas.com/blog/iterating-with-python-lambdas/\n",
    "7. Proper way to copy lists. http://henry.precheur.org/python/copy_list.html\n",
    " "
   ]
  },
  {
   "cell_type": "markdown",
   "metadata": {},
   "source": [
    "## Creation and Assignment of Lists and Tuples"
   ]
  },
  {
   "cell_type": "markdown",
   "metadata": {},
   "source": [
    "\"Lists are what they seem - a list of values. Each one of them is numbered, starting from zero - the first one is numbered zero, the second 1, the third 2, etc. You can remove values from the list, and add new values to the end.\"\n",
    "\n",
    "Lists are assigned using square brackets and values are separate with commas\n",
    "\n",
    "Syntax for Lists in Python is [  . . .  ]"
   ]
  },
  {
   "cell_type": "code",
   "execution_count": 19,
   "metadata": {},
   "outputs": [
    {
     "name": "stdout",
     "output_type": "stream",
     "text": [
      "<type 'list'>\n",
      "[1, 2, 3]\n"
     ]
    }
   ],
   "source": [
    "b = [1, 2, 3] #lists use square brackets for assignment\n",
    "\n",
    "print(type(b))\n",
    "print(b)"
   ]
  },
  {
   "cell_type": "markdown",
   "metadata": {},
   "source": [
    "\"Tuples are just like lists, but you can't change their values. The values that you give it first up, are the values that you are stuck with for the rest of the program. Again, each value is numbered starting from zero, for easy reference.\"\n",
    "\n",
    "Tuples are assigned using rounded parantheses and values are separated with commas\n",
    "\n",
    "Syntax for Lists in Python is ( . . . )"
   ]
  },
  {
   "cell_type": "code",
   "execution_count": 26,
   "metadata": {},
   "outputs": [
    {
     "name": "stdout",
     "output_type": "stream",
     "text": [
      "<type 'tuple'>\n",
      "(1, 2, 3)\n",
      "<type 'tuple'>\n",
      "('a', 'b', 'c')\n"
     ]
    }
   ],
   "source": [
    "a = (1,2,3) #tuples use rounded parantheses for assignment\n",
    "t = 'a','b','c' #Paranthesis are not compulsory to define tuples, but using paranthesis is recommended\n",
    "print(type(a))\n",
    "print(a)\n",
    "print(type(t))\n",
    "print(t)\n"
   ]
  },
  {
   "cell_type": "markdown",
   "metadata": {},
   "source": [
    "### Special Case for Tuples - Creating singleton or Empty tuples"
   ]
  },
  {
   "cell_type": "markdown",
   "metadata": {},
   "source": [
    "\"A special problem is the construction of tuples containing 0 or 1 items: the syntax has some extra quirks to accommodate these. Empty tuples are constructed by an empty pair of parentheses; a tuple with one item is constructed by following a value with a comma (it is not sufficient to enclose a single value in parentheses). Ugly, but effective.\""
   ]
  },
  {
   "cell_type": "code",
   "execution_count": 44,
   "metadata": {},
   "outputs": [
    {
     "name": "stdout",
     "output_type": "stream",
     "text": [
      "0\n",
      "<type 'tuple'>\n",
      "\n",
      "1\n",
      "('hello',)\n",
      "<type 'tuple'>\n"
     ]
    }
   ],
   "source": [
    "empty = ()\n",
    "singleton = 'hello',    # <-- note trailing comma\n",
    "print(len(empty))\n",
    "print(type(empty))\n",
    "print\n",
    "print(len(singleton))\n",
    "print(singleton)\n",
    "print(type(singleton))\n"
   ]
  },
  {
   "cell_type": "markdown",
   "metadata": {},
   "source": [
    "Lists can store numbers characters, strings or mixed set of data"
   ]
  },
  {
   "cell_type": "code",
   "execution_count": 21,
   "metadata": {},
   "outputs": [
    {
     "name": "stdout",
     "output_type": "stream",
     "text": [
      "['x', 'y', 'z']\n",
      "['abc', 'cdf', 'efg']\n",
      "[1, 2, (5-1j), 'nepal', 25, 'm']\n"
     ]
    }
   ],
   "source": [
    "a = ['x','y','z'] #Lists can store any characters\n",
    "b =['abc','cdf','efg'] #lists can store strings\n",
    "c = [1, 2, 5-1j, 'nepal',25, 'm'] #lists can store a mixed set of datatypes too\n",
    "\n",
    "print(a)\n",
    "print(b)\n",
    "print(c)"
   ]
  },
  {
   "cell_type": "code",
   "execution_count": 23,
   "metadata": {},
   "outputs": [
    {
     "ename": "NameError",
     "evalue": "name 'x' is not defined",
     "output_type": "error",
     "traceback": [
      "\u001b[1;31m\u001b[0m",
      "\u001b[1;31mNameError\u001b[0mTraceback (most recent call last)",
      "\u001b[1;32m<ipython-input-23-f8e48035200e>\u001b[0m in \u001b[0;36m<module>\u001b[1;34m()\u001b[0m\n\u001b[1;32m----> 1\u001b[1;33m \u001b[0ma\u001b[0m \u001b[1;33m=\u001b[0m \u001b[1;33m[\u001b[0m\u001b[0mx\u001b[0m\u001b[1;33m,\u001b[0m\u001b[1;36m5\u001b[0m\u001b[1;33m,\u001b[0m\u001b[0mz\u001b[0m\u001b[1;33m]\u001b[0m \u001b[1;31m#characters must be defined inside quotation marks, otherwise it will be considered a variable\u001b[0m\u001b[1;33m\u001b[0m\u001b[0m\n\u001b[0m\u001b[0;32m      2\u001b[0m \u001b[0ma\u001b[0m \u001b[1;31m#since x has not been assigned earlier, this will throw an error\u001b[0m\u001b[1;33m\u001b[0m\u001b[0m\n",
      "\u001b[1;31mNameError\u001b[0m: name 'x' is not defined"
     ]
    }
   ],
   "source": [
    "a = [x,5,z] #characters must be defined inside quotation marks, otherwise it will be considered a variable\n",
    "a #since x has not been assigned earlier, this will throw an error"
   ]
  },
  {
   "cell_type": "markdown",
   "metadata": {},
   "source": [
    "Tuples can also store numbers, characters, strings or mixed set of data."
   ]
  },
  {
   "cell_type": "code",
   "execution_count": 22,
   "metadata": {},
   "outputs": [
    {
     "name": "stdout",
     "output_type": "stream",
     "text": [
      "('x', 'y', 'z')\n",
      "('abc', 'cdf', 'efg')\n",
      "(1, 2, 'x', (1-2j))\n"
     ]
    }
   ],
   "source": [
    "a = ('x','y','z') #tuples can store any characters\n",
    "b =('abc','cdf','efg') #tuples can store strings\n",
    "c = (1, 2, 'x', 1-2j) #tuples can store a mixed set of datatypes too\n",
    "\n",
    "print(a)\n",
    "print(b)\n",
    "print(c)"
   ]
  },
  {
   "cell_type": "code",
   "execution_count": 24,
   "metadata": {},
   "outputs": [
    {
     "ename": "NameError",
     "evalue": "name 'x' is not defined",
     "output_type": "error",
     "traceback": [
      "\u001b[1;31m\u001b[0m",
      "\u001b[1;31mNameError\u001b[0mTraceback (most recent call last)",
      "\u001b[1;32m<ipython-input-24-6a86548650d9>\u001b[0m in \u001b[0;36m<module>\u001b[1;34m()\u001b[0m\n\u001b[1;32m----> 1\u001b[1;33m \u001b[0ma\u001b[0m \u001b[1;33m=\u001b[0m \u001b[1;33m(\u001b[0m\u001b[0mx\u001b[0m\u001b[1;33m,\u001b[0m\u001b[1;36m5\u001b[0m\u001b[1;33m,\u001b[0m\u001b[0mz\u001b[0m\u001b[1;33m)\u001b[0m \u001b[1;31m#characters must be defined inside quotation marks, otherwise it will be considered a variable\u001b[0m\u001b[1;33m\u001b[0m\u001b[0m\n\u001b[0m\u001b[0;32m      2\u001b[0m \u001b[0ma\u001b[0m \u001b[1;31m#since x has not been assigned earlier, this will throw an error\u001b[0m\u001b[1;33m\u001b[0m\u001b[0m\n",
      "\u001b[1;31mNameError\u001b[0m: name 'x' is not defined"
     ]
    }
   ],
   "source": [
    "a = (x,5,z) #characters must be defined inside quotation marks, otherwise it will be considered a variable\n",
    "a #since x has not been assigned earlier, this will throw an error\n"
   ]
  },
  {
   "cell_type": "markdown",
   "metadata": {},
   "source": [
    "## Accessing items in Lists and Tuples"
   ]
  },
  {
   "cell_type": "markdown",
   "metadata": {},
   "source": [
    "You recall values from lists and tuples in exactly the same way. \n",
    "\n",
    "It is very important to note that the indexing in Lists and  Tuples start from 0."
   ]
  },
  {
   "cell_type": "code",
   "execution_count": 29,
   "metadata": {},
   "outputs": [
    {
     "name": "stdout",
     "output_type": "stream",
     "text": [
      "The third cat is Kitty\n",
      "The third month is March\n"
     ]
    }
   ],
   "source": [
    "cats = ['Tom', 'Snappy', 'Kitty', 'Jessie', 'Chester']  #list\n",
    "months = ('January','February','March','April','May','June','July','August','September','October','November','  December') #tuple\n",
    "\n",
    "print('The third cat is ' + cats[2])\n",
    "print('The third month is '+ months[2])"
   ]
  },
  {
   "cell_type": "markdown",
   "metadata": {},
   "source": [
    "It is possible to access elements of Lists and Tuples in a range. The range can be defined is defined using square brackets for bot lists and tuples.\n",
    "\n",
    "Syntax:\n",
    "tuple_or_list_name[start:end:step]"
   ]
  },
  {
   "cell_type": "code",
   "execution_count": 35,
   "metadata": {},
   "outputs": [
    {
     "name": "stdout",
     "output_type": "stream",
     "text": [
      "The first 3 months are as follows:\n",
      "('January', 'February')\n",
      "The first 3 cats are as follows:\n",
      "['Tom', 'Snappy']\n",
      "\n",
      "('January', 'February', 'March', 'April', 'May', 'June', 'July', 'August', 'September', 'October', 'November', '  December')\n"
     ]
    }
   ],
   "source": [
    "print('The first 3 months are as follows:')\n",
    "print(months[0:2:1]) #months is a tuple here\n",
    "\n",
    "print('The first 3 cats are as follows:')\n",
    "print(cats[0:2])#if the step value is not mentioned, the default step value is considered as 1\n",
    "\n",
    "print\n",
    "\n",
    "print(months[:]) \n",
    "#if the start value is not mentioned it refers to the begining of the list or the tuple\n",
    "#if the end value if not mentioned it refers to the end of the list or the tuple\n",
    "#if both are not mentioned it basically means the complete list or tuple\n",
    "\n",
    "\n"
   ]
  },
  {
   "cell_type": "markdown",
   "metadata": {},
   "source": [
    "In the above examples, the 'slices' of lists and tuples that we have obtained can be understood as the subsets of the lists or the tuples. And the slices themselves are of the tupleType. Therefore, we can not concatenate the them with stringTypes."
   ]
  },
  {
   "cell_type": "code",
   "execution_count": 43,
   "metadata": {},
   "outputs": [
    {
     "name": "stdout",
     "output_type": "stream",
     "text": [
      "('January', 'March', 'May', 'July', 'September', 'November')\n",
      "<type 'tuple'>\n",
      "\n",
      "['Tom', 'Snappy', 'Kitty']\n",
      "<type 'list'>\n",
      "\n"
     ]
    },
    {
     "ename": "TypeError",
     "evalue": "cannot concatenate 'str' and 'tuple' objects",
     "output_type": "error",
     "traceback": [
      "\u001b[1;31m\u001b[0m",
      "\u001b[1;31mTypeError\u001b[0mTraceback (most recent call last)",
      "\u001b[1;32m<ipython-input-43-866a47ae44e3>\u001b[0m in \u001b[0;36m<module>\u001b[1;34m()\u001b[0m\n\u001b[0;32m      6\u001b[0m \u001b[1;32mprint\u001b[0m\u001b[1;33m(\u001b[0m\u001b[1;34m''\u001b[0m\u001b[1;33m)\u001b[0m \u001b[1;31m#this line is also for printing an empty line\u001b[0m\u001b[1;33m\u001b[0m\u001b[0m\n\u001b[0;32m      7\u001b[0m \u001b[1;31m#the following code will generate error as we are trying to concatenate stringType with TupleType\u001b[0m\u001b[1;33m\u001b[0m\u001b[1;33m\u001b[0m\u001b[0m\n\u001b[1;32m----> 8\u001b[1;33m \u001b[1;32mprint\u001b[0m\u001b[1;33m(\u001b[0m\u001b[1;34m'The odd months are '\u001b[0m\u001b[1;33m+\u001b[0m \u001b[0mmonths\u001b[0m\u001b[1;33m[\u001b[0m\u001b[1;36m0\u001b[0m\u001b[1;33m:\u001b[0m\u001b[1;36m11\u001b[0m\u001b[1;33m:\u001b[0m\u001b[1;36m2\u001b[0m\u001b[1;33m]\u001b[0m\u001b[1;33m)\u001b[0m\u001b[1;33m\u001b[0m\u001b[0m\n\u001b[0m",
      "\u001b[1;31mTypeError\u001b[0m: cannot concatenate 'str' and 'tuple' objects"
     ]
    }
   ],
   "source": [
    "print(months[0:11:2])\n",
    "print(type(months[0:11:2]))\n",
    "print  #this line is for printing an empty line\n",
    "print(cats[:3])\n",
    "print(type(cats[:3]))\n",
    "print('') #this line is also for printing an empty line\n",
    "#the following code will generate error as we are trying to concatenate stringType with TupleType\n",
    "print('The odd months are '+ months[0:11:2])"
   ]
  },
  {
   "cell_type": "markdown",
   "metadata": {},
   "source": [
    "## Actions on Lists and Tuples"
   ]
  },
  {
   "cell_type": "markdown",
   "metadata": {},
   "source": [
    "##### The major difference between Tuples and Lists is that Tuples are immutable while Lists are mutable."
   ]
  },
  {
   "cell_type": "markdown",
   "metadata": {},
   "source": [
    "This basically means that the elements in Tuples cannot be changed. And thus the elements in tuples CANNOT be updated or removed. Hence, there are no actions that are associated with the data type Tuples. \n",
    "\n",
    "However the tuple type objects can call two functions - COUNT and INDEX."
   ]
  },
  {
   "cell_type": "code",
   "execution_count": 47,
   "metadata": {},
   "outputs": [
    {
     "name": "stdout",
     "output_type": "stream",
     "text": [
      "('i occurs the following times in the tuple: ', 3)\n",
      "\n",
      "('p occurs the following times in the tuple: ', 0)\n"
     ]
    }
   ],
   "source": [
    "vowels = ('a', 'e', 'i', 'o', 'i', 'o', 'e', 'i', 'u') # vowels tuple\n",
    "count = vowels.count('i')  # count element 'i'\n",
    "print('i occurs the following times in the tuple: ', count)\n",
    "print\n",
    "count = vowels.count('p') # # count element 'p'\n",
    "print('p occurs the following times in the tuple: ', count)"
   ]
  },
  {
   "cell_type": "code",
   "execution_count": 48,
   "metadata": {},
   "outputs": [
    {
     "name": "stdout",
     "output_type": "stream",
     "text": [
      "('The index of e:', 1)\n",
      "\n",
      "('The index of i:', 2)\n"
     ]
    }
   ],
   "source": [
    "index = vowels.index('e') #indexing element e\n",
    "print('The index of e:', index)\n",
    "\n",
    "print\n",
    "\n",
    "index = vowels.index('i') #indexing element i\n",
    "print('The index of i:', index)\n",
    "# only the first index of the element is printed"
   ]
  },
  {
   "cell_type": "markdown",
   "metadata": {},
   "source": [
    "It is also not possible to delete or remove an element from a tuple. However, del statement can be used to remove or delete an entire tuple."
   ]
  },
  {
   "cell_type": "code",
   "execution_count": 50,
   "metadata": {},
   "outputs": [
    {
     "name": "stdout",
     "output_type": "stream",
     "text": [
      "('physics', 'chemistry', 1997, 2000)\n",
      "After deleting tup : \n"
     ]
    },
    {
     "ename": "NameError",
     "evalue": "name 'tup' is not defined",
     "output_type": "error",
     "traceback": [
      "\u001b[1;31m\u001b[0m",
      "\u001b[1;31mNameError\u001b[0mTraceback (most recent call last)",
      "\u001b[1;32m<ipython-input-50-d77d02d08d83>\u001b[0m in \u001b[0;36m<module>\u001b[1;34m()\u001b[0m\n\u001b[0;32m      3\u001b[0m \u001b[1;32mdel\u001b[0m \u001b[0mtup\u001b[0m\u001b[1;33m\u001b[0m\u001b[0m\n\u001b[0;32m      4\u001b[0m \u001b[1;32mprint\u001b[0m \u001b[1;34m\"After deleting tup : \"\u001b[0m\u001b[1;33m\u001b[0m\u001b[0m\n\u001b[1;32m----> 5\u001b[1;33m \u001b[1;32mprint\u001b[0m \u001b[0mtup\u001b[0m \u001b[1;31m#throws an error because no such tuple exists\u001b[0m\u001b[1;33m\u001b[0m\u001b[0m\n\u001b[0m",
      "\u001b[1;31mNameError\u001b[0m: name 'tup' is not defined"
     ]
    }
   ],
   "source": [
    "tup = ('physics', 'chemistry', 1997, 2000)\n",
    "print tup\n",
    "del tup\n",
    "print \"After deleting tup : \"\n",
    "print tup #throws an error because no such tuple exists"
   ]
  },
  {
   "cell_type": "markdown",
   "metadata": {},
   "source": [
    "### Actions on List Type Objects"
   ]
  },
  {
   "cell_type": "markdown",
   "metadata": {},
   "source": [
    "As mentioned earlier, Lists are mutable. This means that the elements of a List type object can be changed or elements can be added and deleted."
   ]
  },
  {
   "cell_type": "markdown",
   "metadata": {},
   "source": [
    "##### Append() and Insert()\n",
    "\n",
    "The append() method adds a single item to the existing list. It doesn't return a new list; rather it modifies the original list. You can also add \n",
    "\n",
    "The syntax of append() method is:\n",
    "\n",
    "list.append(item)"
   ]
  },
  {
   "cell_type": "code",
   "execution_count": 52,
   "metadata": {},
   "outputs": [
    {
     "name": "stdout",
     "output_type": "stream",
     "text": [
      "('Updated animal list: ', ['cat', 'dog', 'rabbit', 'tiger'])\n"
     ]
    }
   ],
   "source": [
    "animal = ['cat', 'dog', 'rabbit']\n",
    "\n",
    "animal.append('tiger') # adding new element to the list\n",
    "\n",
    "print('Updated animal list: ', animal) #Updated animal List"
   ]
  },
  {
   "cell_type": "code",
   "execution_count": 24,
   "metadata": {},
   "outputs": [
    {
     "name": "stdout",
     "output_type": "stream",
     "text": [
      "('Updated animal list: ', ['cat', 'dog', 'rabbit', ['tiger', 'fox']])\n",
      "\n",
      "It is important to note that the list wild_animal is added to the animal list as a single element.\n",
      "Only one element of type List has been added to the existing list\n"
     ]
    }
   ],
   "source": [
    "animal = ['cat', 'dog', 'rabbit']\n",
    "wild_animal = ['tiger', 'fox']\n",
    "\n",
    "animal.append(wild_animal) # adding wild_animal list to animal list\n",
    "\n",
    "print('Updated animal list: ', animal)\n",
    "print\n",
    "print('It is important to note that the list wild_animal is added to the animal list as a single element.')\n",
    "print('Only one element of type List has been added to the existing list')"
   ]
  },
  {
   "cell_type": "markdown",
   "metadata": {},
   "source": [
    "We can insert items into lists using insert function."
   ]
  },
  {
   "cell_type": "code",
   "execution_count": 27,
   "metadata": {},
   "outputs": [
    {
     "name": "stdout",
     "output_type": "stream",
     "text": [
      "('Updated animal list: ', ['cat', 'dog', 'wildcat', 'wildcat', 'rabbit', ['tiger', 'fox']])\n"
     ]
    }
   ],
   "source": [
    "animal.insert(2,'wildcat') #inserts wildcat at index 2\n",
    "print('Updated animal list: ', animal)"
   ]
  },
  {
   "cell_type": "markdown",
   "metadata": {},
   "source": [
    "##### Extend()\n",
    "\n",
    "If in the above case, we want to add the elements of the list wild_animal to the existing animal list, then we have to use the extend() function. The extend() extends the list by adding all items of a list (passed as an argument) to the end. We can also add elements of a tuple or a set data type to an existing list.\n",
    "\n",
    "Syntax:\n",
    "list1.extend(list2)"
   ]
  },
  {
   "cell_type": "code",
   "execution_count": 58,
   "metadata": {},
   "outputs": [
    {
     "name": "stdout",
     "output_type": "stream",
     "text": [
      "('Language List: ', ['French', 'English', 'German', 'Spanish', 'Portuguese'])\n"
     ]
    }
   ],
   "source": [
    "# language list\n",
    "language = ['French', 'English', 'German']\n",
    "\n",
    "# another list of language\n",
    "language1 = ['Spanish', 'Portuguese']\n",
    "\n",
    "language.extend(language1)\n",
    "\n",
    "# Extended List\n",
    "print('Language List: ', language)"
   ]
  },
  {
   "cell_type": "code",
   "execution_count": 61,
   "metadata": {},
   "outputs": [
    {
     "name": "stdout",
     "output_type": "stream",
     "text": [
      "('New Language List: ', ['French', 'English', 'German', 'Spanish', 'Portuguese'])\n"
     ]
    }
   ],
   "source": [
    "# language list\n",
    "language = ['French', 'English', 'German']\n",
    "\n",
    "# language tuple\n",
    "language_tuple = ('Spanish', 'Portuguese')\n",
    "\n",
    "# appending element of a tuple to an existing list\n",
    "language.extend(language_tuple)\n",
    "\n",
    "print('New Language List: ', language)"
   ]
  },
  {
   "cell_type": "markdown",
   "metadata": {},
   "source": [
    "We can also add the elements of a list to anthor list by using the operator +="
   ]
  },
  {
   "cell_type": "code",
   "execution_count": 63,
   "metadata": {},
   "outputs": [
    {
     "name": "stdout",
     "output_type": "stream",
     "text": [
      "[1, 2, 3, 4]\n"
     ]
    }
   ],
   "source": [
    "a = [1, 2]\n",
    "b = [3, 4]\n",
    "\n",
    "a += b\n",
    "print(a)"
   ]
  },
  {
   "cell_type": "markdown",
   "metadata": {},
   "source": [
    "##### Insert()\n",
    "\n",
    "The insert() method inserts the element to the list at the given index.\n",
    "\n",
    "Syntax:\n",
    "list.insert(index, element)"
   ]
  },
  {
   "cell_type": "code",
   "execution_count": 64,
   "metadata": {},
   "outputs": [
    {
     "name": "stdout",
     "output_type": "stream",
     "text": [
      "('Updated List: ', ['a', 'e', 'i', 'o', 'u'])\n"
     ]
    }
   ],
   "source": [
    "# vowel list\n",
    "vowel = ['a', 'e', 'i', 'u']\n",
    "\n",
    "# inserting element to list at 4th position\n",
    "vowel.insert(3, 'o')\n",
    "\n",
    "print('Updated List: ', vowel)"
   ]
  },
  {
   "cell_type": "markdown",
   "metadata": {},
   "source": [
    "##### Remove()\n",
    "\n",
    "The remove() method searches for the given element in the list and removes the first matching element.\n",
    "\n",
    "Sytax: list.remove(element)"
   ]
  },
  {
   "cell_type": "code",
   "execution_count": 67,
   "metadata": {},
   "outputs": [
    {
     "name": "stdout",
     "output_type": "stream",
     "text": [
      "('Updated animal list: ', ['cat', 'dog', 'guinea pig'])\n",
      "\n",
      "('Update animla1 list: ', ['cat', 'fox', 'dog', 'dog', 'cat'])\n"
     ]
    },
    {
     "ename": "ValueError",
     "evalue": "list.remove(x): x not in list",
     "output_type": "error",
     "traceback": [
      "\u001b[1;31m\u001b[0m",
      "\u001b[1;31mValueError\u001b[0mTraceback (most recent call last)",
      "\u001b[1;32m<ipython-input-67-c7a3b9d93172>\u001b[0m in \u001b[0;36m<module>\u001b[1;34m()\u001b[0m\n\u001b[0;32m     12\u001b[0m \u001b[1;32mprint\u001b[0m\u001b[1;33m(\u001b[0m\u001b[1;34m'Update animla1 list: '\u001b[0m\u001b[1;33m,\u001b[0m\u001b[0manimal1\u001b[0m\u001b[1;33m)\u001b[0m\u001b[1;33m\u001b[0m\u001b[0m\n\u001b[0;32m     13\u001b[0m \u001b[1;33m\u001b[0m\u001b[0m\n\u001b[1;32m---> 14\u001b[1;33m \u001b[0manimal\u001b[0m\u001b[1;33m.\u001b[0m\u001b[0mremove\u001b[0m\u001b[1;33m(\u001b[0m\u001b[1;34m'wildcat'\u001b[0m\u001b[1;33m)\u001b[0m \u001b[1;31m#removing non existing element will cause error\u001b[0m\u001b[1;33m\u001b[0m\u001b[0m\n\u001b[0m\u001b[0;32m     15\u001b[0m \u001b[1;32mprint\u001b[0m\u001b[1;33m(\u001b[0m\u001b[1;34m'Updated animal list: '\u001b[0m\u001b[1;33m,\u001b[0m\u001b[0manimal\u001b[0m\u001b[1;33m)\u001b[0m\u001b[1;33m\u001b[0m\u001b[0m\n\u001b[0;32m     16\u001b[0m \u001b[1;33m\u001b[0m\u001b[0m\n",
      "\u001b[1;31mValueError\u001b[0m: list.remove(x): x not in list"
     ]
    }
   ],
   "source": [
    "animal = ['cat', 'dog', 'rabbit', 'guinea pig']\n",
    "\n",
    "# 'rabbit' element is removed\n",
    "animal.remove('rabbit')\n",
    "\n",
    "#Updated Animal List\n",
    "print('Updated animal list: ', animal)\n",
    "\n",
    "print\n",
    "animal1 = ['cat','dog','fox','dog','dog','cat']\n",
    "animal1.remove('dog') #removing repititive elements from a list will remove only one of them\n",
    "print('Updated animla1 list: ',animal1)\n",
    "\n",
    "animal.remove('wildcat') #removing non existing element will cause error\n",
    "print('Updated animal list: ',animal)\n",
    "\n"
   ]
  },
  {
   "cell_type": "markdown",
   "metadata": {},
   "source": [
    "##### Pop()\n",
    "\n",
    "The pop() method removes and returns the element at the given index (passed as an argument) from the list.\n",
    "\n",
    "Syntax:\n",
    "list.pop(index)"
   ]
  },
  {
   "cell_type": "code",
   "execution_count": 68,
   "metadata": {},
   "outputs": [
    {
     "name": "stdout",
     "output_type": "stream",
     "text": [
      "('Return Value: ', 'French')\n",
      "('Updated List: ', ['Python', 'Java', 'C++', 'C'])\n"
     ]
    }
   ],
   "source": [
    "language = ['Python', 'Java', 'C++', 'French', 'C']\n",
    "\n",
    "# Return value from pop()\n",
    "# When 3 is passed\n",
    "return_value = language.pop(3)\n",
    "print('Return Value: ', return_value)\n",
    "\n",
    "# Updated List\n",
    "print('Updated List: ', language)\n",
    "\n"
   ]
  },
  {
   "cell_type": "code",
   "execution_count": 69,
   "metadata": {},
   "outputs": [
    {
     "name": "stdout",
     "output_type": "stream",
     "text": [
      "When index is not passed:\n",
      "('Return Value: ', 'C')\n",
      "('Updated List: ', ['Python', 'Java', 'C++', 'Ruby'])\n",
      "\n",
      "When -1 is passed:\n",
      "('Return Value: ', 'Ruby')\n",
      "('Updated List: ', ['Python', 'Java', 'C++'])\n",
      "\n",
      "When -3 is passed:\n",
      "('Return Value: ', 'Python')\n",
      "('Updated List: ', ['Java', 'C++'])\n"
     ]
    }
   ],
   "source": [
    "# programming language list\n",
    "language = ['Python', 'Java', 'C++', 'Ruby', 'C']\n",
    "\n",
    "# When index is not passed\n",
    "print('When index is not passed:') \n",
    "print('Return Value: ', language.pop())\n",
    "print('Updated List: ', language)\n",
    "\n",
    "# When -1 is passed\n",
    "# Pops Last Element\n",
    "print('\\nWhen -1 is passed:') \n",
    "print('Return Value: ', language.pop(-1))\n",
    "print('Updated List: ', language)\n",
    "\n",
    "# When -3 is passed\n",
    "# Pops Third Last Element\n",
    "print('\\nWhen -3 is passed:') \n",
    "print('Return Value: ', language.pop(-3))\n",
    "print('Updated List: ', language)"
   ]
  },
  {
   "cell_type": "markdown",
   "metadata": {},
   "source": [
    "##### Reverse()\n",
    "\n",
    "The reverse() method reverses the elements of a given list.\n",
    " \n",
    "Syntax:\n",
    "list.reverse()"
   ]
  },
  {
   "cell_type": "code",
   "execution_count": 70,
   "metadata": {},
   "outputs": [
    {
     "name": "stdout",
     "output_type": "stream",
     "text": [
      "('Original List:', ['Windows', 'macOS', 'Linux'])\n",
      "('Updated List:', ['Linux', 'macOS', 'Windows'])\n"
     ]
    }
   ],
   "source": [
    "os = ['Windows', 'macOS', 'Linux']\n",
    "print('Original List:', os)\n",
    "\n",
    "# List Reverse\n",
    "os.reverse()\n",
    "\n",
    "# updated list\n",
    "print('Updated List:', os)"
   ]
  },
  {
   "cell_type": "markdown",
   "metadata": {},
   "source": [
    "Reversing a lis using SLICING operators\n",
    "\n",
    "Syntax: reversed_list = os[start:stop:step] "
   ]
  },
  {
   "cell_type": "code",
   "execution_count": 73,
   "metadata": {},
   "outputs": [
    {
     "name": "stdout",
     "output_type": "stream",
     "text": [
      "('Original List:', ['Windows', 'macOS', 'Linux'])\n",
      "('Updated List:', ['Linux', 'macOS', 'Windows'])\n"
     ]
    }
   ],
   "source": [
    "os = ['Windows', 'macOS', 'Linux']\n",
    "print('Original List:', os)\n",
    "\n",
    "reversed_list = os[::-1]\n",
    "\n",
    "print('Updated List:', reversed_list)"
   ]
  },
  {
   "cell_type": "markdown",
   "metadata": {},
   "source": [
    "Printing Elements in Reversed Order\n",
    "\n",
    "reveresed() is a function that allows accessing a list in reverse order"
   ]
  },
  {
   "cell_type": "code",
   "execution_count": 72,
   "metadata": {},
   "outputs": [
    {
     "name": "stdout",
     "output_type": "stream",
     "text": [
      "Linux\n",
      "macOS\n",
      "Windows\n"
     ]
    }
   ],
   "source": [
    "for o in reversed(os):\n",
    "    print(o)"
   ]
  },
  {
   "cell_type": "markdown",
   "metadata": {},
   "source": [
    "##### sort(), copy() and clear()\n",
    "\n",
    "Sort() can be used to sort the elements of a list.\n",
    "\n",
    "Syntax:\n",
    "list.sort(key=..., reverse=...)"
   ]
  },
  {
   "cell_type": "code",
   "execution_count": 76,
   "metadata": {},
   "outputs": [
    {
     "name": "stdout",
     "output_type": "stream",
     "text": [
      "('Sorted list:', ['a', 'e', 'i', 'o', 'u'])\n",
      "('Sorted list (in Descending):', ['u', 'o', 'i', 'e', 'a'])\n"
     ]
    }
   ],
   "source": [
    "vowels = ['e', 'a', 'u', 'o', 'i']\n",
    "vowels.sort()\n",
    "\n",
    "print('Sorted list:', vowels) #sorts the ASCII values\n",
    "\n",
    "vowels.sort(reverse=True) #sort in reverse order\n",
    "print('Sorted list (in Descending):', vowels)"
   ]
  },
  {
   "cell_type": "markdown",
   "metadata": {},
   "source": [
    "Copy() can be used to copy one list to another and clear() can be used to remove all items from a list."
   ]
  },
  {
   "cell_type": "code",
   "execution_count": 82,
   "metadata": {},
   "outputs": [
    {
     "ename": "AttributeError",
     "evalue": "'list' object has no attribute 'copy'",
     "output_type": "error",
     "traceback": [
      "\u001b[1;31m\u001b[0m",
      "\u001b[1;31mAttributeError\u001b[0mTraceback (most recent call last)",
      "\u001b[1;32m<ipython-input-82-88bfa74e3e4f>\u001b[0m in \u001b[0;36m<module>\u001b[1;34m()\u001b[0m\n\u001b[0;32m      1\u001b[0m \u001b[0mold_list\u001b[0m \u001b[1;33m=\u001b[0m \u001b[1;33m[\u001b[0m\u001b[1;34m'cat'\u001b[0m\u001b[1;33m,\u001b[0m \u001b[1;36m0\u001b[0m\u001b[1;33m,\u001b[0m \u001b[1;36m6.7\u001b[0m\u001b[1;33m]\u001b[0m\u001b[1;33m\u001b[0m\u001b[0m\n\u001b[1;32m----> 2\u001b[1;33m \u001b[0mnew_list\u001b[0m \u001b[1;33m=\u001b[0m \u001b[0mold_list\u001b[0m\u001b[1;33m.\u001b[0m\u001b[0mcopy\u001b[0m\u001b[1;33m(\u001b[0m\u001b[1;33m)\u001b[0m\u001b[1;33m\u001b[0m\u001b[0m\n\u001b[0m\u001b[0;32m      3\u001b[0m \u001b[0mnew_list\u001b[0m\u001b[1;33m.\u001b[0m\u001b[0mappend\u001b[0m\u001b[1;33m(\u001b[0m\u001b[1;34m'dog'\u001b[0m\u001b[1;33m)\u001b[0m\u001b[1;33m\u001b[0m\u001b[0m\n\u001b[0;32m      4\u001b[0m \u001b[1;33m\u001b[0m\u001b[0m\n\u001b[0;32m      5\u001b[0m \u001b[1;31m#same thing can be achieved using the = operator\u001b[0m\u001b[1;33m\u001b[0m\u001b[1;33m\u001b[0m\u001b[0m\n",
      "\u001b[1;31mAttributeError\u001b[0m: 'list' object has no attribute 'copy'"
     ]
    }
   ],
   "source": [
    "old_list = ['cat', 0, 6.7]\n",
    "new_list = old_list.copy() #NEED TO UNDERSTAND THIS ERROR (NOTE FOR SELF)\n",
    "new_list.append('dog')\n",
    "\n",
    "#same thing can be achieved using the = operator\n",
    "newer_list = old_list\n",
    "\n",
    "# Printing new and old list\n",
    "print(new_list)\n",
    "print(newer_list)"
   ]
  },
  {
   "cell_type": "markdown",
   "metadata": {},
   "source": [
    "Clear() can be used to remove all elements from the list"
   ]
  },
  {
   "cell_type": "code",
   "execution_count": 83,
   "metadata": {},
   "outputs": [
    {
     "ename": "AttributeError",
     "evalue": "'list' object has no attribute 'clear'",
     "output_type": "error",
     "traceback": [
      "\u001b[1;31m\u001b[0m",
      "\u001b[1;31mAttributeError\u001b[0mTraceback (most recent call last)",
      "\u001b[1;32m<ipython-input-83-59af470159c4>\u001b[0m in \u001b[0;36m<module>\u001b[1;34m()\u001b[0m\n\u001b[1;32m----> 1\u001b[1;33m \u001b[1;32mprint\u001b[0m\u001b[1;33m(\u001b[0m\u001b[0mlen\u001b[0m\u001b[1;33m(\u001b[0m\u001b[0mold_list\u001b[0m\u001b[1;33m.\u001b[0m\u001b[0mclear\u001b[0m\u001b[1;33m(\u001b[0m\u001b[1;33m)\u001b[0m\u001b[1;33m)\u001b[0m\u001b[1;33m)\u001b[0m\u001b[1;33m\u001b[0m\u001b[0m\n\u001b[0m\u001b[0;32m      2\u001b[0m \u001b[1;32mprint\u001b[0m\u001b[1;33m(\u001b[0m\u001b[0mold_list\u001b[0m\u001b[1;33m)\u001b[0m\u001b[1;33m\u001b[0m\u001b[0m\n",
      "\u001b[1;31mAttributeError\u001b[0m: 'list' object has no attribute 'clear'"
     ]
    }
   ],
   "source": [
    "print(len(old_list.clear()))\n",
    "print(old_list)"
   ]
  },
  {
   "cell_type": "markdown",
   "metadata": {},
   "source": [
    "## For Loop with Lists and Tuples "
   ]
  },
  {
   "cell_type": "markdown",
   "metadata": {},
   "source": [
    "A for loop is used to run through the elements of a list or a tuple.\n",
    "\n"
   ]
  },
  {
   "cell_type": "code",
   "execution_count": 19,
   "metadata": {},
   "outputs": [
    {
     "name": "stdout",
     "output_type": "stream",
     "text": [
      "bread has been added to the cart\n",
      "jam has been added to the cart\n",
      "butter has been added to the cart\n",
      "\n",
      "Sunday\n",
      "Monday\n",
      "Tuesday\n",
      "Wednesday\n",
      "Thursday\n",
      "Friday\n",
      "Saturday\n"
     ]
    }
   ],
   "source": [
    "#Iterationg through a list using for Loop\n",
    "shopping = ['bread','jam','butter']\n",
    "for item in shopping:\n",
    "    print(item + ' has been added to the cart')\n",
    "    \n",
    "print\n",
    "\n",
    "#Iterating through a tuple using for loop\n",
    "days_in_a_week = ('Sunday','Monday','Tuesday','Wednesday','Thursday','Friday','Saturday')\n",
    "for a_day in days_in_a_week:\n",
    "    print (a_day)"
   ]
  },
  {
   "cell_type": "code",
   "execution_count": 21,
   "metadata": {},
   "outputs": [
    {
     "name": "stdout",
     "output_type": "stream",
     "text": [
      "The square of 1 is 1\n",
      "The square of 2 is 4\n",
      "The square of 3 is 9\n",
      "The square of 4 is 16\n",
      "The square of 5 is 25\n",
      "\n",
      "The half of 2 is 1\n",
      "The half of 4 is 2\n",
      "The half of 6 is 3\n",
      "The half of 8 is 4\n",
      "The half of 10 is 5\n"
     ]
    }
   ],
   "source": [
    "#Iterating through a List without a name that is defined inside the loop only\n",
    "for num in [1,2,3,4,5]: \n",
    "    print ('The square of '+ str(num) + ' is '+ str(num**2))\n",
    "\n",
    "print\n",
    "\n",
    "#Iterating through a tuple without a name that is defined inside the loop only\n",
    "for even_num in (2,4,6,8,10): \n",
    "    print ('The half of '+ str(even_num) + ' is '+ str(even_num/2))"
   ]
  },
  {
   "cell_type": "markdown",
   "metadata": {},
   "source": [
    "We can also loop using the indices of the Lists"
   ]
  },
  {
   "cell_type": "code",
   "execution_count": 23,
   "metadata": {},
   "outputs": [
    {
     "name": "stdout",
     "output_type": "stream",
     "text": [
      "Adam\n",
      "Eve\n",
      "Jack\n",
      "Jill\n",
      "red\n",
      "black\n",
      "green\n",
      "blue\n"
     ]
    }
   ],
   "source": [
    "names = ['Adam','Eve','Jack','Jill']\n",
    "i=0\n",
    "for i  in range (0, 4):\n",
    "    print (names[i])  \n",
    "    i = i + 1\n",
    "    \n",
    "colors = ('red','black','green','blue')\n",
    "k = 0\n",
    "for k in range (0,4):\n",
    "    print (colors[k])"
   ]
  },
  {
   "cell_type": "markdown",
   "metadata": {},
   "source": [
    "## If Statement with Lists and Tuples"
   ]
  },
  {
   "cell_type": "markdown",
   "metadata": {},
   "source": [
    "We can compare the elements of lists and tuples using their indices with IF Statement."
   ]
  },
  {
   "cell_type": "code",
   "execution_count": 28,
   "metadata": {},
   "outputs": [
    {
     "name": "stdout",
     "output_type": "stream",
     "text": [
      "Yum!!!\n",
      "Yum!!!\n",
      "Yuck!!\n"
     ]
    }
   ],
   "source": [
    "shopping_list = ['bread','jam','marmite']\n",
    "\n",
    "for item in shopping_list:\n",
    "    if item == 'marmite':\n",
    "        print('Yuck!!')\n",
    "    else:\n",
    "        print('Yum!!!')"
   ]
  },
  {
   "cell_type": "code",
   "execution_count": 30,
   "metadata": {},
   "outputs": [
    {
     "name": "stdout",
     "output_type": "stream",
     "text": [
      "Bread is awesome\n"
     ]
    }
   ],
   "source": [
    "if shopping_list[0] == 'bread': #using index to compare the element inside IF statement\n",
    "    print('Bread is awesome') \n",
    "else:\n",
    "    print('Jam and Marmite are awesome as well! Oh wait, Marmite is not.')"
   ]
  },
  {
   "cell_type": "markdown",
   "metadata": {},
   "source": [
    "The usage of If Statement and Tuples is similar."
   ]
  },
  {
   "cell_type": "code",
   "execution_count": 31,
   "metadata": {},
   "outputs": [
    {
     "name": "stdout",
     "output_type": "stream",
     "text": [
      "Waiting for Friday!\n",
      "Waiting for Friday!\n",
      "Waiting for Friday!\n",
      "Waiting for Friday!\n",
      "Thank God!\n"
     ]
    }
   ],
   "source": [
    "weekdays = ('Monday','Tuesday','Wednesday','Thursday','Friday')\n",
    "for day in weekdays:\n",
    "    if day == 'Friday':\n",
    "        print('Thank God!')\n",
    "    else:\n",
    "        print('Waiting for Friday!')"
   ]
  },
  {
   "cell_type": "markdown",
   "metadata": {},
   "source": [
    "### While Loops with Lists and Tuples\n",
    "\n",
    "If we wanted to mimic the behavior of our traditional C-style for loop in Python, we could use a while loop."
   ]
  },
  {
   "cell_type": "code",
   "execution_count": 32,
   "metadata": {},
   "outputs": [
    {
     "name": "stdout",
     "output_type": "stream",
     "text": [
      "red\n",
      "green\n",
      "blue\n",
      "purple\n"
     ]
    }
   ],
   "source": [
    "colors = [\"red\", \"green\", \"blue\", \"purple\"]\n",
    "i = 0\n",
    "while i < len(colors):\n",
    "    print(colors[i])\n",
    "    i += 1"
   ]
  },
  {
   "cell_type": "code",
   "execution_count": 33,
   "metadata": {},
   "outputs": [
    {
     "name": "stdout",
     "output_type": "stream",
     "text": [
      "red\n",
      "green\n",
      "blue\n",
      "purple\n"
     ]
    }
   ],
   "source": [
    "colors = [\"red\", \"green\", \"blue\", \"purple\"]\n",
    "while i in range(len(colors)):\n",
    "    print(colors[i])"
   ]
  },
  {
   "cell_type": "code",
   "execution_count": 37,
   "metadata": {},
   "outputs": [
    {
     "name": "stdout",
     "output_type": "stream",
     "text": [
      "President 1: Washington\n",
      "President 2: Adams\n",
      "President 3: Jefferson\n",
      "President 4: Madison\n",
      "President 5: Monroe\n",
      "President 6: Adams\n",
      "President 7: Jackson\n"
     ]
    }
   ],
   "source": [
    "#when we have to use indices.. same format can be applied to for loop as well\n",
    "presidents = [\"Washington\", \"Adams\", \"Jefferson\", \"Madison\", \"Monroe\", \"Adams\", \"Jackson\"]\n",
    "i =0\n",
    "while i in range(len(presidents)):\n",
    "    print(\"President {}: {}\".format(i + 1, presidents[i]))\n",
    "    i+=1"
   ]
  },
  {
   "cell_type": "markdown",
   "metadata": {},
   "source": [
    "## MORE on Looping with Lists and Tuples\n",
    "\n",
    "Python’s built-in enumerate function allows us to loop over a list and retrieve both the index and the value of each item in the list. The enumerate function gives us an iterable where each element is a tuple that contains the index of the item and the original item value.\n",
    "\n",
    "This function is meant for solving the task of:\n",
    "1. Accessing each item in a list (or another iterable)\n",
    "2. Also getting the index of each item accessed"
   ]
  },
  {
   "cell_type": "code",
   "execution_count": 38,
   "metadata": {},
   "outputs": [
    {
     "name": "stdout",
     "output_type": "stream",
     "text": [
      "20.0% red\n",
      "30.0% green\n",
      "10.0% blue\n",
      "40.0% purple\n"
     ]
    }
   ],
   "source": [
    "colors = [\"red\", \"green\", \"blue\", \"purple\"]\n",
    "ratios = [0.2, 0.3, 0.1, 0.4]\n",
    "for i, color in enumerate(colors): #works in the same way with tuples\n",
    "    ratio = ratios[i]\n",
    "    print(\"{}% {}\".format(ratio * 100, color))"
   ]
  },
  {
   "cell_type": "markdown",
   "metadata": {},
   "source": [
    "We can use zip function to iterate over mulitple lists at the same time"
   ]
  },
  {
   "cell_type": "code",
   "execution_count": 42,
   "metadata": {},
   "outputs": [
    {
     "name": "stdout",
     "output_type": "stream",
     "text": [
      "20.0% red\n",
      "30.0% green\n",
      "10.0% blue\n",
      "40.0% purple\n"
     ]
    }
   ],
   "source": [
    "colors = (\"red\", \"green\", \"blue\", \"purple\") \n",
    "ratios = (0.2, 0.3, 0.1, 0.4)\n",
    "for color, ratio in zip(colors, ratios):#works in the same way for lists\n",
    "    print(\"{}% {}\".format(ratio * 100, color))"
   ]
  },
  {
   "cell_type": "markdown",
   "metadata": {},
   "source": [
    "## Lists and Tuples with Lambda"
   ]
  },
  {
   "cell_type": "code",
   "execution_count": 46,
   "metadata": {},
   "outputs": [
    {
     "name": "stdout",
     "output_type": "stream",
     "text": [
      "[2, 3, 4, 5, 6]\n",
      "[10, 15, 20, 25, 30]\n"
     ]
    }
   ],
   "source": [
    "x = [2, 3, 4, 5, 6]\n",
    "y = []\n",
    "for v in x:\n",
    "    y += [v * 5]\n",
    "print x\n",
    "print y"
   ]
  },
  {
   "cell_type": "markdown",
   "metadata": {},
   "source": [
    "Above result can be obtained using lamda operator and the map function"
   ]
  },
  {
   "cell_type": "code",
   "execution_count": 48,
   "metadata": {},
   "outputs": [
    {
     "name": "stdout",
     "output_type": "stream",
     "text": [
      "[10, 15, 20, 25, 30]\n"
     ]
    }
   ],
   "source": [
    "y = map(lambda v : v * 5, x)\n",
    "print y"
   ]
  },
  {
   "cell_type": "code",
   "execution_count": 52,
   "metadata": {},
   "outputs": [
    {
     "name": "stdout",
     "output_type": "stream",
     "text": [
      "[5, 10, 15, 20, 25]\n"
     ]
    }
   ],
   "source": [
    "x = (1,2,3,4,5) #TUPLE\n",
    "y = map(lambda v : v * 5, x) \n",
    "print y #same action on a tuple yields a List as the map function returns a List"
   ]
  },
  {
   "cell_type": "markdown",
   "metadata": {},
   "source": [
    "More complex operations can be achieved using Lambdas"
   ]
  },
  {
   "cell_type": "code",
   "execution_count": 56,
   "metadata": {},
   "outputs": [
    {
     "name": "stdout",
     "output_type": "stream",
     "text": [
      "[3, 5]\n",
      "[15, 25]\n"
     ]
    }
   ],
   "source": [
    "x = [2, 3, 4, 5, 6]\n",
    "y = map(lambda v : v * 5, filter(lambda u : u % 2, x))\n",
    "\n",
    "print (filter(lambda u: u % 2, x))\n",
    "#select the odd numbers number from the list x, and then multiply it by 5\n",
    "print y"
   ]
  },
  {
   "cell_type": "code",
   "execution_count": null,
   "metadata": {},
   "outputs": [],
   "source": []
  }
 ],
 "metadata": {
  "kernelspec": {
   "display_name": "Python 2",
   "language": "python",
   "name": "python2"
  },
  "language_info": {
   "codemirror_mode": {
    "name": "ipython",
    "version": 2
   },
   "file_extension": ".py",
   "mimetype": "text/x-python",
   "name": "python",
   "nbconvert_exporter": "python",
   "pygments_lexer": "ipython2",
   "version": "2.7.15"
  }
 },
 "nbformat": 4,
 "nbformat_minor": 2
}
