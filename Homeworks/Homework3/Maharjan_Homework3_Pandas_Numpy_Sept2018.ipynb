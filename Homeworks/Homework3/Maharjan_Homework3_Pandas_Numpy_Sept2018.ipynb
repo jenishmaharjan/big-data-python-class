{
 "cells": [
  {
   "cell_type": "markdown",
   "metadata": {},
   "source": [
    "# Homework 3  - Tryout pandas and numpy"
   ]
  },
  {
   "cell_type": "markdown",
   "metadata": {},
   "source": [
    "## Homework 3.1\n",
    "\n",
    "### 3.1.a\n",
    "Load the data from: http://opendata.dc.gov/datasets that I have include in this github   \n",
    "into a dataframe.  ( The file has been is available in directory ./data/ccp_current_csv.csv )"
   ]
  },
  {
   "cell_type": "code",
   "execution_count": 1,
   "metadata": {},
   "outputs": [
    {
     "data": {
      "text/html": [
       "<div>\n",
       "<style scoped>\n",
       "    .dataframe tbody tr th:only-of-type {\n",
       "        vertical-align: middle;\n",
       "    }\n",
       "\n",
       "    .dataframe tbody tr th {\n",
       "        vertical-align: top;\n",
       "    }\n",
       "\n",
       "    .dataframe thead th {\n",
       "        text-align: right;\n",
       "    }\n",
       "</style>\n",
       "<table border=\"1\" class=\"dataframe\">\n",
       "  <thead>\n",
       "    <tr style=\"text-align: right;\">\n",
       "      <th></th>\n",
       "      <th>STREET</th>\n",
       "      <th>QUADRANT</th>\n",
       "      <th>FROMINTERSECTION</th>\n",
       "      <th>TOINTERSECTION</th>\n",
       "      <th>NOOFBLOCKS</th>\n",
       "      <th>WORKDESCRIPTION</th>\n",
       "      <th>YEARBUDGETED</th>\n",
       "      <th>PERCENTCOMPLETED</th>\n",
       "      <th>STATUS</th>\n",
       "      <th>MILES</th>\n",
       "      <th>...</th>\n",
       "      <th>YCOORD</th>\n",
       "      <th>LATITUDE</th>\n",
       "      <th>LONGITUDE</th>\n",
       "      <th>PROJECTNOTE</th>\n",
       "      <th>PROJECTNAME</th>\n",
       "      <th>PROJECTMGR</th>\n",
       "      <th>PROJECTID</th>\n",
       "      <th>TEAMREP</th>\n",
       "      <th>EMAIL</th>\n",
       "      <th>CONTACTPHONE</th>\n",
       "    </tr>\n",
       "  </thead>\n",
       "  <tbody>\n",
       "    <tr>\n",
       "      <th>0</th>\n",
       "      <td>13th St</td>\n",
       "      <td>NW</td>\n",
       "      <td>Kennedy St</td>\n",
       "      <td>Longfellow St</td>\n",
       "      <td>1</td>\n",
       "      <td>Pavement Resurface/restoration</td>\n",
       "      <td>2004</td>\n",
       "      <td>100</td>\n",
       "      <td>Completed</td>\n",
       "      <td>0.07</td>\n",
       "      <td>...</td>\n",
       "      <td>143205.11981</td>\n",
       "      <td>38.956747</td>\n",
       "      <td>-77.029694</td>\n",
       "      <td>NaN</td>\n",
       "      <td>FedAid</td>\n",
       "      <td>Paul Stephenson</td>\n",
       "      <td>5834</td>\n",
       "      <td>O. Hill</td>\n",
       "      <td>NaN</td>\n",
       "      <td>202-671-4591</td>\n",
       "    </tr>\n",
       "    <tr>\n",
       "      <th>1</th>\n",
       "      <td>S St</td>\n",
       "      <td>NW</td>\n",
       "      <td>North Capitol St</td>\n",
       "      <td>3rd St</td>\n",
       "      <td>3</td>\n",
       "      <td>Regular Cover</td>\n",
       "      <td>1999</td>\n",
       "      <td>100</td>\n",
       "      <td>Completed</td>\n",
       "      <td>0.33</td>\n",
       "      <td>...</td>\n",
       "      <td>138468.90256</td>\n",
       "      <td>38.914085</td>\n",
       "      <td>-77.012411</td>\n",
       "      <td>NaN</td>\n",
       "      <td>NaN</td>\n",
       "      <td>NaN</td>\n",
       "      <td>2467</td>\n",
       "      <td>NaN</td>\n",
       "      <td>NaN</td>\n",
       "      <td>NaN</td>\n",
       "    </tr>\n",
       "    <tr>\n",
       "      <th>2</th>\n",
       "      <td>Rhode Island Ave</td>\n",
       "      <td>NE</td>\n",
       "      <td>Brentwood Rd (W)</td>\n",
       "      <td>Brentwood Rd (M)</td>\n",
       "      <td>1</td>\n",
       "      <td>Pavement Resurface/restoration</td>\n",
       "      <td>2004</td>\n",
       "      <td>100</td>\n",
       "      <td>Completed</td>\n",
       "      <td>0.09</td>\n",
       "      <td>...</td>\n",
       "      <td>139574.10659</td>\n",
       "      <td>38.924041</td>\n",
       "      <td>-76.987221</td>\n",
       "      <td>NaN</td>\n",
       "      <td>Fedral Aid Citywide Pavement Restoration</td>\n",
       "      <td>Mohamed Abdullahi</td>\n",
       "      <td>5486</td>\n",
       "      <td>Said Cherifi</td>\n",
       "      <td>said.cherifi@dc.gov</td>\n",
       "      <td>202-671-4611</td>\n",
       "    </tr>\n",
       "    <tr>\n",
       "      <th>3</th>\n",
       "      <td>Mill Rd</td>\n",
       "      <td>NW</td>\n",
       "      <td>27th St</td>\n",
       "      <td>Cul De Sac</td>\n",
       "      <td>1</td>\n",
       "      <td>Pavement Resurface/restoration</td>\n",
       "      <td>2004</td>\n",
       "      <td>100</td>\n",
       "      <td>Completed</td>\n",
       "      <td>0.07</td>\n",
       "      <td>...</td>\n",
       "      <td>138132.90198</td>\n",
       "      <td>38.911046</td>\n",
       "      <td>-77.054077</td>\n",
       "      <td>POKA-2003-B-0048-JJ</td>\n",
       "      <td>Citywide Pavement Restoration Contract (Local ...</td>\n",
       "      <td>Maduabuchi Udeh</td>\n",
       "      <td>5796</td>\n",
       "      <td>Michael Jelen</td>\n",
       "      <td>Michael.Jelen@dc.gov</td>\n",
       "      <td>202-671-4542</td>\n",
       "    </tr>\n",
       "    <tr>\n",
       "      <th>4</th>\n",
       "      <td>Rhode Island Ave</td>\n",
       "      <td>NE</td>\n",
       "      <td>Brentwood Rd (M)</td>\n",
       "      <td>14th St  Evarts St  Montan</td>\n",
       "      <td>2</td>\n",
       "      <td>Pavement Resurface/restoration</td>\n",
       "      <td>2005</td>\n",
       "      <td>100</td>\n",
       "      <td>Completed</td>\n",
       "      <td>0.16</td>\n",
       "      <td>...</td>\n",
       "      <td>139657.25318</td>\n",
       "      <td>38.924790</td>\n",
       "      <td>-76.985068</td>\n",
       "      <td>NaN</td>\n",
       "      <td>NaN</td>\n",
       "      <td>NaN</td>\n",
       "      <td>8237</td>\n",
       "      <td>NaN</td>\n",
       "      <td>NaN</td>\n",
       "      <td>NaN</td>\n",
       "    </tr>\n",
       "    <tr>\n",
       "      <th>5</th>\n",
       "      <td>Mellon St</td>\n",
       "      <td>SE</td>\n",
       "      <td>5th St</td>\n",
       "      <td>Martin Luther King Jr Ave</td>\n",
       "      <td>1</td>\n",
       "      <td>Pavement Resurface/restoration</td>\n",
       "      <td>2005</td>\n",
       "      <td>100</td>\n",
       "      <td>Completed</td>\n",
       "      <td>0.20</td>\n",
       "      <td>...</td>\n",
       "      <td>130948.25958</td>\n",
       "      <td>38.846337</td>\n",
       "      <td>-76.998463</td>\n",
       "      <td>NaN</td>\n",
       "      <td>CIP_2004-2009</td>\n",
       "      <td>FY-05</td>\n",
       "      <td>4175</td>\n",
       "      <td>NaN</td>\n",
       "      <td>NaN</td>\n",
       "      <td>NaN</td>\n",
       "    </tr>\n",
       "    <tr>\n",
       "      <th>6</th>\n",
       "      <td>Nebraska Ave</td>\n",
       "      <td>NW</td>\n",
       "      <td>Northampton St</td>\n",
       "      <td>Oliver St</td>\n",
       "      <td>1</td>\n",
       "      <td>Pavement Resurface/restoration</td>\n",
       "      <td>2004</td>\n",
       "      <td>100</td>\n",
       "      <td>Completed</td>\n",
       "      <td>0.07</td>\n",
       "      <td>...</td>\n",
       "      <td>144260.95520</td>\n",
       "      <td>38.966246</td>\n",
       "      <td>-77.061675</td>\n",
       "      <td>NaN</td>\n",
       "      <td>Citywide Pavement Restoration</td>\n",
       "      <td>Paul Stephenson</td>\n",
       "      <td>5296</td>\n",
       "      <td>M. Howard and O. hill</td>\n",
       "      <td>NaN</td>\n",
       "      <td>202-671-4591</td>\n",
       "    </tr>\n",
       "    <tr>\n",
       "      <th>7</th>\n",
       "      <td>Military Rd</td>\n",
       "      <td>NW</td>\n",
       "      <td>30th St</td>\n",
       "      <td>Broad Branch Rd</td>\n",
       "      <td>4</td>\n",
       "      <td>Pavement Resurface/restoration</td>\n",
       "      <td>2004</td>\n",
       "      <td>100</td>\n",
       "      <td>Completed</td>\n",
       "      <td>0.35</td>\n",
       "      <td>...</td>\n",
       "      <td>143680.41824</td>\n",
       "      <td>38.961016</td>\n",
       "      <td>-77.062994</td>\n",
       "      <td>NaN</td>\n",
       "      <td>FedAid_6YR_CIP</td>\n",
       "      <td>Paul Stephenson</td>\n",
       "      <td>4762</td>\n",
       "      <td>O. Hill</td>\n",
       "      <td>NaN</td>\n",
       "      <td>202-671-4591</td>\n",
       "    </tr>\n",
       "    <tr>\n",
       "      <th>8</th>\n",
       "      <td>Nebraska Ave</td>\n",
       "      <td>NW</td>\n",
       "      <td>Oliver St</td>\n",
       "      <td>Utah Ave</td>\n",
       "      <td>1</td>\n",
       "      <td>Pavement Resurface/restoration</td>\n",
       "      <td>2005</td>\n",
       "      <td>100</td>\n",
       "      <td>Completed</td>\n",
       "      <td>0.04</td>\n",
       "      <td>...</td>\n",
       "      <td>144332.34858</td>\n",
       "      <td>38.966889</td>\n",
       "      <td>-77.061126</td>\n",
       "      <td>NaN</td>\n",
       "      <td>Citywide Pavement Restoratin</td>\n",
       "      <td>paul Stephenson</td>\n",
       "      <td>7867</td>\n",
       "      <td>M. Howard and O. Hill</td>\n",
       "      <td>NaN</td>\n",
       "      <td>202-671-4591</td>\n",
       "    </tr>\n",
       "    <tr>\n",
       "      <th>9</th>\n",
       "      <td>16th St</td>\n",
       "      <td>NW</td>\n",
       "      <td>Alaska Ave</td>\n",
       "      <td>Primrose Rd</td>\n",
       "      <td>13</td>\n",
       "      <td>Reconstruction</td>\n",
       "      <td>1999</td>\n",
       "      <td>100</td>\n",
       "      <td>Completed</td>\n",
       "      <td>0.97</td>\n",
       "      <td>...</td>\n",
       "      <td>145993.53492</td>\n",
       "      <td>38.981864</td>\n",
       "      <td>-77.036344</td>\n",
       "      <td>Reconstruction of 16th St. from Alaska to Prim...</td>\n",
       "      <td>Recons of 16TH St. from Alaska to Prime Rose  ...</td>\n",
       "      <td>Eskender  Konjit</td>\n",
       "      <td>2349</td>\n",
       "      <td>Porter Curtis</td>\n",
       "      <td>Porter.Curtis@Dc.gov</td>\n",
       "      <td>202-671-4581</td>\n",
       "    </tr>\n",
       "  </tbody>\n",
       "</table>\n",
       "<p>10 rows × 27 columns</p>\n",
       "</div>"
      ],
      "text/plain": [
       "             STREET QUADRANT  FROMINTERSECTION              TOINTERSECTION  \\\n",
       "0           13th St       NW        Kennedy St               Longfellow St   \n",
       "1              S St       NW  North Capitol St                      3rd St   \n",
       "2  Rhode Island Ave       NE  Brentwood Rd (W)            Brentwood Rd (M)   \n",
       "3           Mill Rd       NW           27th St                  Cul De Sac   \n",
       "4  Rhode Island Ave       NE  Brentwood Rd (M)  14th St  Evarts St  Montan   \n",
       "5         Mellon St       SE            5th St   Martin Luther King Jr Ave   \n",
       "6      Nebraska Ave       NW    Northampton St                   Oliver St   \n",
       "7       Military Rd       NW           30th St             Broad Branch Rd   \n",
       "8      Nebraska Ave       NW         Oliver St                    Utah Ave   \n",
       "9           16th St       NW        Alaska Ave                 Primrose Rd   \n",
       "\n",
       "   NOOFBLOCKS                 WORKDESCRIPTION  YEARBUDGETED  PERCENTCOMPLETED  \\\n",
       "0           1  Pavement Resurface/restoration          2004               100   \n",
       "1           3                   Regular Cover          1999               100   \n",
       "2           1  Pavement Resurface/restoration          2004               100   \n",
       "3           1  Pavement Resurface/restoration          2004               100   \n",
       "4           2  Pavement Resurface/restoration          2005               100   \n",
       "5           1  Pavement Resurface/restoration          2005               100   \n",
       "6           1  Pavement Resurface/restoration          2004               100   \n",
       "7           4  Pavement Resurface/restoration          2004               100   \n",
       "8           1  Pavement Resurface/restoration          2005               100   \n",
       "9          13                  Reconstruction          1999               100   \n",
       "\n",
       "      STATUS  MILES      ...             YCOORD   LATITUDE  LONGITUDE  \\\n",
       "0  Completed   0.07      ...       143205.11981  38.956747 -77.029694   \n",
       "1  Completed   0.33      ...       138468.90256  38.914085 -77.012411   \n",
       "2  Completed   0.09      ...       139574.10659  38.924041 -76.987221   \n",
       "3  Completed   0.07      ...       138132.90198  38.911046 -77.054077   \n",
       "4  Completed   0.16      ...       139657.25318  38.924790 -76.985068   \n",
       "5  Completed   0.20      ...       130948.25958  38.846337 -76.998463   \n",
       "6  Completed   0.07      ...       144260.95520  38.966246 -77.061675   \n",
       "7  Completed   0.35      ...       143680.41824  38.961016 -77.062994   \n",
       "8  Completed   0.04      ...       144332.34858  38.966889 -77.061126   \n",
       "9  Completed   0.97      ...       145993.53492  38.981864 -77.036344   \n",
       "\n",
       "                                         PROJECTNOTE  \\\n",
       "0                                                NaN   \n",
       "1                                                NaN   \n",
       "2                                                NaN   \n",
       "3                                POKA-2003-B-0048-JJ   \n",
       "4                                                NaN   \n",
       "5                                                NaN   \n",
       "6                                                NaN   \n",
       "7                                                NaN   \n",
       "8                                                NaN   \n",
       "9  Reconstruction of 16th St. from Alaska to Prim...   \n",
       "\n",
       "                                         PROJECTNAME         PROJECTMGR  \\\n",
       "0                                             FedAid    Paul Stephenson   \n",
       "1                                                NaN                NaN   \n",
       "2           Fedral Aid Citywide Pavement Restoration  Mohamed Abdullahi   \n",
       "3  Citywide Pavement Restoration Contract (Local ...    Maduabuchi Udeh   \n",
       "4                                                NaN                NaN   \n",
       "5                                      CIP_2004-2009              FY-05   \n",
       "6                      Citywide Pavement Restoration    Paul Stephenson   \n",
       "7                                     FedAid_6YR_CIP    Paul Stephenson   \n",
       "8                       Citywide Pavement Restoratin    paul Stephenson   \n",
       "9  Recons of 16TH St. from Alaska to Prime Rose  ...   Eskender  Konjit   \n",
       "\n",
       "   PROJECTID                TEAMREP                 EMAIL  CONTACTPHONE  \n",
       "0       5834                O. Hill                   NaN  202-671-4591  \n",
       "1       2467                    NaN                   NaN           NaN  \n",
       "2       5486           Said Cherifi   said.cherifi@dc.gov  202-671-4611  \n",
       "3       5796          Michael Jelen  Michael.Jelen@dc.gov  202-671-4542  \n",
       "4       8237                    NaN                   NaN           NaN  \n",
       "5       4175                    NaN                   NaN           NaN  \n",
       "6       5296  M. Howard and O. hill                   NaN  202-671-4591  \n",
       "7       4762                O. Hill                   NaN  202-671-4591  \n",
       "8       7867  M. Howard and O. Hill                   NaN  202-671-4591  \n",
       "9       2349          Porter Curtis  Porter.Curtis@Dc.gov  202-671-4581  \n",
       "\n",
       "[10 rows x 27 columns]"
      ]
     },
     "execution_count": 1,
     "metadata": {},
     "output_type": "execute_result"
    }
   ],
   "source": [
    "import pandas as pd\n",
    "import numpy as np\n",
    "\n",
    "ccpdata = pd.read_csv(\"./data/ccp_current_csv.csv\")\n",
    "ccpdata.head(10) #first 10 records, to give a preview of the data"
   ]
  },
  {
   "cell_type": "markdown",
   "metadata": {},
   "source": [
    "### 3.1.a  what is its shape and what does that mean?"
   ]
  },
  {
   "cell_type": "code",
   "execution_count": 2,
   "metadata": {},
   "outputs": [
    {
     "name": "stdout",
     "output_type": "stream",
     "text": [
      "(465, 27)\n",
      "(465, 27)\n",
      "\n",
      "('No.of Rows: ', 465)\n",
      "('No. of Columns: ', 27)\n"
     ]
    }
   ],
   "source": [
    "print(ccpdata.shape)\n",
    "#we could aternatively use the numpy.shape() function\n",
    "print(np.shape(ccpdata))\n",
    "\n",
    "print\n",
    "print(\"No.of Rows: \", len(ccpdata)) #prints the number of rows)\n",
    "print(\"No. of Columns: \", len(ccpdata.columns)) #prints the number of columns)"
   ]
  },
  {
   "cell_type": "markdown",
   "metadata": {},
   "source": [
    "Shape of a dataset means the dimensionality of the dataset. The dimensions of a dataset refers to the number of rows and the number of columns, which gives us an idea of the size of the dataset and how the data are arranged.\n",
    "\n",
    "The shape of ccpdata given by the statment ccpdata.shape gives a tuple (No. of rows, No. of Columns).\n",
    "From the above ouput, we can understand that the dataset has 465 rows and 27 columns. Or, there are 465 records in the data and each record has 27 columns.\n",
    "\n",
    "\n",
    "We can also describe a shape of a dataset using statistical values such as standard deviation, mean, median, and mode."
   ]
  },
  {
   "cell_type": "markdown",
   "metadata": {},
   "source": [
    "## Homework 3.2\n",
    " What are the number of rows in each 'QUADRANT' ?"
   ]
  },
  {
   "cell_type": "code",
   "execution_count": 3,
   "metadata": {},
   "outputs": [
    {
     "name": "stdout",
     "output_type": "stream",
     "text": [
      "QUAD. No. of Rows\n",
      "NW    195\n",
      "NE    163\n",
      "SE     84\n",
      "BN     12\n",
      "SW     11\n",
      "Name: QUADRANT, dtype: int64\n",
      "\n",
      "{'BN': 12L, 'SW': 11L, 'NE': 163L, 'SE': 84L, 'NW': 195L}\n"
     ]
    }
   ],
   "source": [
    "#We can use the value_counts() method to calculate the frequency of values in a column\n",
    "print (\"QUAD. No. of Rows\")\n",
    "print (ccpdata['QUADRANT'].value_counts())\n",
    "\n",
    "\n",
    "print\n",
    "#We could also get the counts and store into a dictionary as follows:\n",
    "rowcount = ccpdata['QUADRANT'].value_counts().to_dict()\n",
    "print (rowcount)"
   ]
  },
  {
   "cell_type": "markdown",
   "metadata": {},
   "source": [
    "## Homework 3.3 - Array math demonstration \n",
    "For two arrarys  \n",
    "\n",
    "a= [1,2,3,4]  type=float\n",
    "\n",
    "b= [5,6,7,8]  type=float\n",
    "\n",
    "Peform the following array operations using numpy   \n",
    "( show both operational use of numpy and functional (example addition operation => + vs addition function => numbpy.add() )\n",
    "\n",
    "### 3.3.1 addition a+b "
   ]
  },
  {
   "cell_type": "code",
   "execution_count": 4,
   "metadata": {},
   "outputs": [
    {
     "name": "stdout",
     "output_type": "stream",
     "text": [
      "<type 'numpy.ndarray'>\n",
      "<type 'numpy.ndarray'>\n",
      "[ 6.  8. 10. 12.]\n",
      "[ 6.  8. 10. 12.]\n",
      "('Datatype of 1st element of a is ', <type 'numpy.int32'>)\n",
      "[1 2 3 4]\n",
      "('Datatype of 1st element of a is ', <type 'numpy.float64'>)\n",
      "[1. 2. 3. 4.]\n"
     ]
    }
   ],
   "source": [
    "import numpy as np\n",
    "a = np.array([1.,2.,3.,4.])\n",
    "b = np.array([5.0,6.0,7.0,8.0])\n",
    "print(type(a))\n",
    "print(type(b))\n",
    "\n",
    "\n",
    "#adding a and b using numpy.add() function\n",
    "print(np.add(a,b))\n",
    "\n",
    "#adding a and b using the operator +\n",
    "print(a+b)\n",
    "\n",
    "#We can also use the astype() function to change the datatype of an array. \n",
    "#For instance, we can declare a as an integer type array and convert it to a float type array\n",
    "a = np.array([1,2,3,4])\n",
    "print(\"Datatype of 1st element of a is \", type(a[0]))\n",
    "print(a)\n",
    "a = a.astype(float)\n",
    "print(\"Datatype of 1st element of a is \", type(a[0]))\n",
    "print(a)"
   ]
  },
  {
   "cell_type": "markdown",
   "metadata": {},
   "source": [
    "### 3.3.2 subtraction a-b"
   ]
  },
  {
   "cell_type": "code",
   "execution_count": 5,
   "metadata": {},
   "outputs": [
    {
     "name": "stdout",
     "output_type": "stream",
     "text": [
      "[-4. -4. -4. -4.]\n",
      "[4. 4. 4. 4.]\n",
      "[-4. -4. -4. -4.]\n",
      "[4. 4. 4. 4.]\n"
     ]
    }
   ],
   "source": [
    "import numpy as np\n",
    "a = np.array([1.,2.,3.,4.])\n",
    "b = np.array([5.0,6.0,7.0,8.0])\n",
    "\n",
    "#adding a and b using numpy.add() function\n",
    "print(np.subtract(a,b))\n",
    "print(np.subtract(b,a))\n",
    "\n",
    "#adding a and b using the operator +\n",
    "print(a - b)\n",
    "print(b - a)"
   ]
  },
  {
   "cell_type": "markdown",
   "metadata": {},
   "source": [
    "### 3.3.3 multiplication a*b"
   ]
  },
  {
   "cell_type": "code",
   "execution_count": 6,
   "metadata": {},
   "outputs": [
    {
     "name": "stdout",
     "output_type": "stream",
     "text": [
      "[ 5. 12. 21. 32.]\n",
      "[ 5. 12. 21. 32.]\n"
     ]
    }
   ],
   "source": [
    "import numpy as np\n",
    "a = np.array([1.,2.,3.,4.])\n",
    "b = np.array([5.0,6.0,7.0,8.0])\n",
    "\n",
    "#multiplying elements of a by elements of b using numpy.multiply() function\n",
    "print(np.multiply(a,b))\n",
    "\n",
    "#diving elements of a by elements of b using the operator *\n",
    "print(a * b)"
   ]
  },
  {
   "cell_type": "markdown",
   "metadata": {},
   "source": [
    "### 3.3.4 divsion a/b"
   ]
  },
  {
   "cell_type": "code",
   "execution_count": 7,
   "metadata": {},
   "outputs": [
    {
     "name": "stdout",
     "output_type": "stream",
     "text": [
      "[0.2        0.33333333 0.42857143 0.5       ]\n",
      "[0.2        0.33333333 0.42857143 0.5       ]\n"
     ]
    }
   ],
   "source": [
    "import numpy as np\n",
    "a = np.array([1.,2.,3.,4.])\n",
    "b = np.array([5.0,6.0,7.0,8.0])\n",
    "\n",
    "#diving elements of a by elements of b using numpy.divide() function\n",
    "print(np.divide(a,b))\n",
    "\n",
    "#diving elements of a by elements of b using the operator /\n",
    "print(a / b)"
   ]
  },
  {
   "cell_type": "markdown",
   "metadata": {},
   "source": [
    "### 3.3.5 modulo  a%b"
   ]
  },
  {
   "cell_type": "code",
   "execution_count": 8,
   "metadata": {},
   "outputs": [
    {
     "name": "stdout",
     "output_type": "stream",
     "text": [
      "[1. 2. 3. 4.]\n",
      "[1. 2. 3. 4.]\n"
     ]
    }
   ],
   "source": [
    "import numpy as np\n",
    "a = np.array([1.,2.,3.,4.])\n",
    "b = np.array([5.0,6.0,7.0,8.0])\n",
    "\n",
    "#adding a and b using numpy.add() function\n",
    "print(np.mod(a,b))\n",
    "\n",
    "#adding a and b using the operator +\n",
    "print(a % b)"
   ]
  },
  {
   "cell_type": "markdown",
   "metadata": {},
   "source": [
    "### 3.3.6 power  a^b"
   ]
  },
  {
   "cell_type": "code",
   "execution_count": 9,
   "metadata": {},
   "outputs": [
    {
     "name": "stdout",
     "output_type": "stream",
     "text": [
      "[1.0000e+00 6.4000e+01 2.1870e+03 6.5536e+04]\n",
      "[1.0000e+00 6.4000e+01 2.1870e+03 6.5536e+04]\n"
     ]
    },
    {
     "ename": "TypeError",
     "evalue": "ufunc 'bitwise_xor' not supported for the input types, and the inputs could not be safely coerced to any supported types according to the casting rule ''safe''",
     "output_type": "error",
     "traceback": [
      "\u001b[1;31m\u001b[0m",
      "\u001b[1;31mTypeError\u001b[0mTraceback (most recent call last)",
      "\u001b[1;32m<ipython-input-9-54f4a23fef87>\u001b[0m in \u001b[0;36m<module>\u001b[1;34m()\u001b[0m\n\u001b[0;32m      8\u001b[0m \u001b[1;31m#adding a and b using the operator +\u001b[0m\u001b[1;33m\u001b[0m\u001b[1;33m\u001b[0m\u001b[0m\n\u001b[0;32m      9\u001b[0m \u001b[1;32mprint\u001b[0m\u001b[1;33m(\u001b[0m\u001b[0ma\u001b[0m \u001b[1;33m**\u001b[0m \u001b[0mb\u001b[0m\u001b[1;33m)\u001b[0m\u001b[1;33m\u001b[0m\u001b[0m\n\u001b[1;32m---> 10\u001b[1;33m \u001b[1;32mprint\u001b[0m\u001b[1;33m(\u001b[0m\u001b[0ma\u001b[0m \u001b[1;33m^\u001b[0m \u001b[0mb\u001b[0m\u001b[1;33m)\u001b[0m \u001b[1;31m#the caret symbol is not used for power in pythong. It represents xor operation\u001b[0m\u001b[1;33m\u001b[0m\u001b[0m\n\u001b[0m",
      "\u001b[1;31mTypeError\u001b[0m: ufunc 'bitwise_xor' not supported for the input types, and the inputs could not be safely coerced to any supported types according to the casting rule ''safe''"
     ]
    }
   ],
   "source": [
    "import numpy as np\n",
    "a = np.array([1.,2.,3.,4.])\n",
    "b = np.array([5.0,6.0,7.0,8.0])\n",
    "\n",
    "#adding a and b using numpy.add() function\n",
    "print(np.power(a,b))\n",
    "\n",
    "#adding a and b using the operator +\n",
    "print(a ** b)\n",
    "print(a ^ b) #the caret symbol is not used for power in pythong. It represents xor operation\n"
   ]
  },
  {
   "cell_type": "markdown",
   "metadata": {},
   "source": [
    "## Homework 3.4\n",
    "Find your own data and load it into a dataframe"
   ]
  },
  {
   "cell_type": "code",
   "execution_count": 1,
   "metadata": {},
   "outputs": [
    {
     "ename": "NameError",
     "evalue": "name 'pd' is not defined",
     "output_type": "error",
     "traceback": [
      "\u001b[1;31m\u001b[0m",
      "\u001b[1;31mNameError\u001b[0mTraceback (most recent call last)",
      "\u001b[1;32m<ipython-input-1-829f5be7adce>\u001b[0m in \u001b[0;36m<module>\u001b[1;34m()\u001b[0m\n\u001b[1;32m----> 1\u001b[1;33m \u001b[0mmkl_data\u001b[0m \u001b[1;33m=\u001b[0m \u001b[0mpd\u001b[0m\u001b[1;33m.\u001b[0m\u001b[0mread_csv\u001b[0m\u001b[1;33m(\u001b[0m\u001b[1;34m\"./data/mkl_us.csv\"\u001b[0m\u001b[1;33m)\u001b[0m\u001b[1;33m\u001b[0m\u001b[0m\n\u001b[0m\u001b[0;32m      2\u001b[0m \u001b[1;31m#data retrieved from https://www.kaggle.com/borismarjanovic/price-volume-data-for-all-us-stocks-etfs\u001b[0m\u001b[1;33m\u001b[0m\u001b[1;33m\u001b[0m\u001b[0m\n\u001b[0;32m      3\u001b[0m \u001b[1;33m\u001b[0m\u001b[0m\n\u001b[0;32m      4\u001b[0m \u001b[0mmkl_data\u001b[0m\u001b[1;33m.\u001b[0m\u001b[0mhead\u001b[0m\u001b[1;33m(\u001b[0m\u001b[1;33m)\u001b[0m \u001b[1;31m#preview of the data\u001b[0m\u001b[1;33m\u001b[0m\u001b[0m\n\u001b[0;32m      5\u001b[0m \u001b[1;31m#Stock prices from 2005 to 2017 for Markel Corp\u001b[0m\u001b[1;33m\u001b[0m\u001b[1;33m\u001b[0m\u001b[0m\n",
      "\u001b[1;31mNameError\u001b[0m: name 'pd' is not defined"
     ]
    }
   ],
   "source": [
    "mkl_data = pd.read_csv(\"./data/mkl_us.csv\") \n",
    "#data retrieved from https://www.kaggle.com/borismarjanovic/price-volume-data-for-all-us-stocks-etfs\n",
    "\n",
    "mkl_data.head() #preview of the data\n",
    "#Stock prices from 2005 to 2017 for Markel Corp"
   ]
  },
  {
   "cell_type": "markdown",
   "metadata": {},
   "source": [
    "## Homework 3.5\n",
    "Provide an interesting analysis of the data columns ( frequency or averages )"
   ]
  },
  {
   "cell_type": "code",
   "execution_count": 11,
   "metadata": {},
   "outputs": [
    {
     "data": {
      "text/plain": [
       "(3201, 7)"
      ]
     },
     "execution_count": 11,
     "metadata": {},
     "output_type": "execute_result"
    }
   ],
   "source": [
    "np.shape(mkl_data)"
   ]
  },
  {
   "cell_type": "markdown",
   "metadata": {
    "collapsed": true
   },
   "source": [
    "The imported dataset has 3201 records, each of which has 7 columns. This implies that the stock price of Markel Corp, USA  for 3201 days are present in the data.\n",
    "\n",
    "\n",
    "\n",
    "Let's get the list of the columns."
   ]
  },
  {
   "cell_type": "code",
   "execution_count": 25,
   "metadata": {},
   "outputs": [
    {
     "name": "stdout",
     "output_type": "stream",
     "text": [
      "['Date' 'Open' 'High' 'Low' 'Close' 'Volume' 'OpenInt']\n",
      "<type 'numpy.ndarray'>\n",
      "\n",
      "            Date     Open     High      Low    Close  Volume  OpenInt\n",
      "0      2/25/2005   365.70   365.70   359.50   360.10   14800        0\n",
      "1      2/28/2005   361.00   361.00   356.25   357.50   11200        0\n",
      "2       3/1/2005   358.00   362.00   358.00   359.26   20600        0\n",
      "3       3/2/2005   360.25   361.50   358.00   358.00   22600        0\n",
      "4       3/3/2005   357.00   364.00   356.50   357.51   17300        0\n",
      "5       3/4/2005   358.50   359.50   358.00   358.35    8700        0\n",
      "6       3/7/2005   359.35   360.50   358.17   359.00   15000        0\n",
      "7       3/8/2005   360.00   360.99   358.50   360.00   25500        0\n",
      "8       3/9/2005   360.00   360.00   357.05   357.05    8800        0\n",
      "9      3/10/2005   357.20   359.00   357.00   358.99    5400        0\n",
      "10     3/11/2005   359.50   362.55   357.50   357.75   43300        0\n",
      "11     3/14/2005   358.75   368.00   358.60   367.91   40900        0\n",
      "12     3/15/2005   367.91   373.00   367.00   367.50   26500        0\n",
      "13     3/16/2005   367.50   367.50   365.00   365.75   10500        0\n",
      "14     3/17/2005   365.00   371.00   364.96   365.10   40200        0\n",
      "15     3/18/2005   366.10   366.10   360.60   362.00   14600        0\n",
      "16     3/21/2005   362.00   362.00   357.49   358.25    6500        0\n",
      "17     3/22/2005   357.25   357.25   350.05   352.00   30100        0\n",
      "18     3/23/2005   352.00   352.00   346.07   347.00   23800        0\n",
      "19     3/24/2005   348.00   348.50   341.00   345.00   39900        0\n",
      "20     3/28/2005   346.00   348.50   340.01   342.65   13500        0\n",
      "21     3/29/2005   343.65   345.00   342.00   343.50   12100        0\n",
      "22     3/30/2005   342.50   343.75   339.00   342.71   28700        0\n",
      "23     3/31/2005   343.71   346.30   340.30   345.21   15400        0\n",
      "24      4/1/2005   346.00   348.50   344.00   347.90   15200        0\n",
      "25      4/4/2005   347.00   347.49   345.50   347.49    6600        0\n",
      "26      4/5/2005   346.50   349.50   346.50   349.50   10500        0\n",
      "27      4/6/2005   347.75   349.45   347.75   348.01    4400        0\n",
      "28      4/7/2005   347.10   355.20   346.51   349.65   45200        0\n",
      "29      4/8/2005   350.00   350.50   343.50   345.80   65200        0\n",
      "...          ...      ...      ...      ...      ...     ...      ...\n",
      "3171   10/2/2017  1070.08  1079.74  1060.47  1079.74   13982        0\n",
      "3172   10/3/2017  1079.74  1085.00  1070.01  1077.45   27309        0\n",
      "3173   10/4/2017  1080.15  1086.99  1075.75  1078.16   17683        0\n",
      "3174   10/5/2017  1077.22  1084.39  1070.23  1073.55   27324        0\n",
      "3175   10/6/2017  1076.90  1084.94  1071.06  1076.53   18707        0\n",
      "3176   10/9/2017  1074.22  1078.36  1073.68  1077.13   10584        0\n",
      "3177  10/10/2017  1083.16  1094.99  1081.83  1090.70   34420        0\n",
      "3178  10/11/2017  1078.00  1105.23  1078.00  1093.89   27916        0\n",
      "3179  10/12/2017  1093.00  1099.66  1069.71  1069.79   37609        0\n",
      "3180  10/13/2017  1069.17  1079.98  1068.88  1070.98   18936        0\n",
      "3181  10/16/2017  1076.22  1077.15  1061.83  1073.25   24738        0\n",
      "3182  10/17/2017  1073.42  1077.92  1064.41  1068.44   15045        0\n",
      "3183  10/18/2017  1070.81  1087.20  1061.50  1061.92   26015        0\n",
      "3184  10/19/2017  1060.00  1071.87  1056.53  1063.35   17835        0\n",
      "3185  10/20/2017  1065.19  1079.91  1063.63  1078.23   21568        0\n",
      "3186  10/23/2017  1075.80  1081.61  1071.19  1077.42   19850        0\n",
      "3187  10/24/2017  1080.00  1084.12  1060.89  1063.57   25418        0\n",
      "3188  10/25/2017  1065.89  1071.55  1054.20  1067.81   30720        0\n",
      "3189  10/26/2017  1057.13  1092.75  1054.76  1090.61   39158        0\n",
      "3190  10/27/2017  1090.11  1096.73  1085.40  1094.08   30301        0\n",
      "3191  10/30/2017  1093.45  1104.58  1090.41  1097.02   24248        0\n",
      "3192  10/31/2017  1096.00  1096.00  1082.12  1084.30   40308        0\n",
      "3193   11/1/2017  1086.77  1090.96  1076.68  1080.07   29658        0\n",
      "3194   11/2/2017  1084.15  1097.87  1074.99  1090.39   15901        0\n",
      "3195   11/3/2017  1091.20  1099.22  1072.23  1073.00   46032        0\n",
      "3196   11/6/2017  1070.44  1088.53  1070.44  1084.32   19723        0\n",
      "3197   11/7/2017  1076.32  1091.73  1076.07  1082.48   18262        0\n",
      "3198   11/8/2017  1080.80  1088.96  1072.30  1073.60   24107        0\n",
      "3199   11/9/2017  1073.00  1082.19  1064.66  1076.52   21603        0\n",
      "3200  11/10/2017  1075.54  1081.66  1060.15  1063.41   24759        0\n",
      "\n",
      "[3201 rows x 7 columns]\n"
     ]
    }
   ],
   "source": [
    "columns = mkl_data.columns.values #returns a numpy.ndarray object with the column names of the dataset\n",
    "print (columns)\n",
    "print(type(columns))\n",
    "print\n",
    "print (mkl_data)\n"
   ]
  },
  {
   "cell_type": "markdown",
   "metadata": {},
   "source": [
    "The dataframe lists the opening price, closing price, volume of units sold and highest and lowest prices per day."
   ]
  },
  {
   "cell_type": "code",
   "execution_count": 13,
   "metadata": {},
   "outputs": [
    {
     "name": "stdout",
     "output_type": "stream",
     "text": [
      "The mean of opening prices of Markel Corp -  529.084975008\n",
      "The mean of closing prices of Markel Corp -  529.306919713\n",
      "The mean volume of units sold per day -  32944.4667291\n",
      "\n"
     ]
    },
    {
     "data": {
      "text/plain": [
       "Open         529.084975\n",
       "High         533.681481\n",
       "Low          524.592642\n",
       "Close        529.306920\n",
       "Volume     32944.466729\n",
       "OpenInt        0.000000\n",
       "dtype: float64"
      ]
     },
     "execution_count": 13,
     "metadata": {},
     "output_type": "execute_result"
    }
   ],
   "source": [
    "print \"The mean of opening prices of Markel Corp - \", np.mean(mkl_data['Open'])\n",
    "print \"The mean of closing prices of Markel Corp - \", np.mean(mkl_data['Close']) \n",
    "print \"The mean volume of units sold per day - \", (np.mean(mkl_data['Volume']))\n",
    "print\n",
    "mkl_data.mean() #we can simly get the mean of all columns with numerical values"
   ]
  },
  {
   "cell_type": "markdown",
   "metadata": {},
   "source": [
    "The mean price of the stock is probably not a good parameter to judge a stock. However the MEAN volume of units sold in a single day, which here is almost 33000 is a good number to look at of how many people are interested in the stock. "
   ]
  },
  {
   "cell_type": "code",
   "execution_count": 36,
   "metadata": {},
   "outputs": [
    {
     "name": "stdout",
     "output_type": "stream",
     "text": [
      " The highest price which the stock of Markel Corp was bought/sold at is:  1105.23\n",
      "The lowest price which the stock of Markel Corp was bought/sold at is:  208.77\n",
      "\n",
      "The highest number of units sold in a single day : 593000\n",
      "The lowest number of units sold in a single day : 1117\n"
     ]
    }
   ],
   "source": [
    "print \"The highest price which the stock of Markel Corp was bought/sold at is: \", mkl_data['High'].max()\n",
    "print \"The lowest price which the stock of Markel Corp was bought/sold at is: \", mkl_data['Low'].min()\n",
    "print\n",
    "print \"The highest number of units sold in a single day :\", mkl_data['Volume'].max()\n",
    "print \"The lowest number of units sold in a single day :\", mkl_data['Volume'].min()"
   ]
  },
  {
   "cell_type": "code",
   "execution_count": 66,
   "metadata": {},
   "outputs": [
    {
     "name": "stdout",
     "output_type": "stream",
     "text": [
      "221.99735196\n",
      "49282.8242771\n"
     ]
    }
   ],
   "source": [
    "print mkl_data['Close'].std() #Standard Deviation of Closing Price\n",
    "print mkl_data['Close'].var() #Variance of Closing Price"
   ]
  },
  {
   "cell_type": "markdown",
   "metadata": {},
   "source": [
    "High STANDARD DEVIATION refers to volatile stock prices. This is great for aggressive investors while conservative investors would opt for a company with less volatile stocks. Variance describes the same thing basically.\n"
   ]
  },
  {
   "cell_type": "code",
   "execution_count": 30,
   "metadata": {},
   "outputs": [
    {
     "data": {
      "image/png": "[encoded data removed]",
      "text/plain": [
       "<Figure size 432x288 with 1 Axes>"
      ]
     },
     "metadata": {},
     "output_type": "display_data"
    }
   ],
   "source": [
    "import matplotlib.pyplot as plt\n",
    "mkl_data.iloc[2800:3201].plot(x='Date',y='Close')\n",
    "plt.show()"
   ]
  },
  {
   "cell_type": "markdown",
   "metadata": {},
   "source": [
    "Plotting the last 1200 closing prices of the Markel Corp show a generally increasing trend. The price has also dropped considerably at the times. Seems like a volatile stock! If you are an aggressive investor, you should go for it!"
   ]
  },
  {
   "cell_type": "code",
   "execution_count": 39,
   "metadata": {},
   "outputs": [
    {
     "data": {
      "text/html": [
       "<div>\n",
       "<style scoped>\n",
       "    .dataframe tbody tr th:only-of-type {\n",
       "        vertical-align: middle;\n",
       "    }\n",
       "\n",
       "    .dataframe tbody tr th {\n",
       "        vertical-align: top;\n",
       "    }\n",
       "\n",
       "    .dataframe thead th {\n",
       "        text-align: right;\n",
       "    }\n",
       "</style>\n",
       "<table border=\"1\" class=\"dataframe\">\n",
       "  <thead>\n",
       "    <tr style=\"text-align: right;\">\n",
       "      <th></th>\n",
       "      <th>Open</th>\n",
       "      <th>High</th>\n",
       "      <th>Low</th>\n",
       "      <th>Close</th>\n",
       "      <th>Volume</th>\n",
       "      <th>OpenInt</th>\n",
       "    </tr>\n",
       "  </thead>\n",
       "  <tbody>\n",
       "    <tr>\n",
       "      <th>Open</th>\n",
       "      <td>1.000000</td>\n",
       "      <td>0.999731</td>\n",
       "      <td>0.999706</td>\n",
       "      <td>0.999447</td>\n",
       "      <td>0.172553</td>\n",
       "      <td>NaN</td>\n",
       "    </tr>\n",
       "    <tr>\n",
       "      <th>High</th>\n",
       "      <td>0.999731</td>\n",
       "      <td>1.000000</td>\n",
       "      <td>0.999551</td>\n",
       "      <td>0.999725</td>\n",
       "      <td>0.178029</td>\n",
       "      <td>NaN</td>\n",
       "    </tr>\n",
       "    <tr>\n",
       "      <th>Low</th>\n",
       "      <td>0.999706</td>\n",
       "      <td>0.999551</td>\n",
       "      <td>1.000000</td>\n",
       "      <td>0.999694</td>\n",
       "      <td>0.165892</td>\n",
       "      <td>NaN</td>\n",
       "    </tr>\n",
       "    <tr>\n",
       "      <th>Close</th>\n",
       "      <td>0.999447</td>\n",
       "      <td>0.999725</td>\n",
       "      <td>0.999694</td>\n",
       "      <td>1.000000</td>\n",
       "      <td>0.172094</td>\n",
       "      <td>NaN</td>\n",
       "    </tr>\n",
       "    <tr>\n",
       "      <th>Volume</th>\n",
       "      <td>0.172553</td>\n",
       "      <td>0.178029</td>\n",
       "      <td>0.165892</td>\n",
       "      <td>0.172094</td>\n",
       "      <td>1.000000</td>\n",
       "      <td>NaN</td>\n",
       "    </tr>\n",
       "    <tr>\n",
       "      <th>OpenInt</th>\n",
       "      <td>NaN</td>\n",
       "      <td>NaN</td>\n",
       "      <td>NaN</td>\n",
       "      <td>NaN</td>\n",
       "      <td>NaN</td>\n",
       "      <td>NaN</td>\n",
       "    </tr>\n",
       "  </tbody>\n",
       "</table>\n",
       "</div>"
      ],
      "text/plain": [
       "             Open      High       Low     Close    Volume  OpenInt\n",
       "Open     1.000000  0.999731  0.999706  0.999447  0.172553      NaN\n",
       "High     0.999731  1.000000  0.999551  0.999725  0.178029      NaN\n",
       "Low      0.999706  0.999551  1.000000  0.999694  0.165892      NaN\n",
       "Close    0.999447  0.999725  0.999694  1.000000  0.172094      NaN\n",
       "Volume   0.172553  0.178029  0.165892  0.172094  1.000000      NaN\n",
       "OpenInt       NaN       NaN       NaN       NaN       NaN      NaN"
      ]
     },
     "execution_count": 39,
     "metadata": {},
     "output_type": "execute_result"
    }
   ],
   "source": [
    "mkl_data.corr()"
   ]
  },
  {
   "cell_type": "markdown",
   "metadata": {},
   "source": [
    "This shows the correlation between the columns of the dataframe.\n",
    "\n",
    "From this we can see a strong correlation between the the prices. For example, we can see how the opening prices affects the high price, low price or the closing price. We can also see that there is a very low correlation between the price of the stock and the daily volume of units."
   ]
  },
  {
   "cell_type": "code",
   "execution_count": 42,
   "metadata": {},
   "outputs": [
    {
     "data": {
      "text/html": [
       "<div>\n",
       "<style scoped>\n",
       "    .dataframe tbody tr th:only-of-type {\n",
       "        vertical-align: middle;\n",
       "    }\n",
       "\n",
       "    .dataframe tbody tr th {\n",
       "        vertical-align: top;\n",
       "    }\n",
       "\n",
       "    .dataframe thead th {\n",
       "        text-align: right;\n",
       "    }\n",
       "</style>\n",
       "<table border=\"1\" class=\"dataframe\">\n",
       "  <thead>\n",
       "    <tr style=\"text-align: right;\">\n",
       "      <th></th>\n",
       "      <th>Open</th>\n",
       "      <th>High</th>\n",
       "      <th>Low</th>\n",
       "      <th>Close</th>\n",
       "      <th>Volume</th>\n",
       "      <th>OpenInt</th>\n",
       "    </tr>\n",
       "  </thead>\n",
       "  <tbody>\n",
       "    <tr>\n",
       "      <th>count</th>\n",
       "      <td>3201.000000</td>\n",
       "      <td>3201.000000</td>\n",
       "      <td>3201.000000</td>\n",
       "      <td>3201.000000</td>\n",
       "      <td>3201.000000</td>\n",
       "      <td>3201.0</td>\n",
       "    </tr>\n",
       "    <tr>\n",
       "      <th>mean</th>\n",
       "      <td>529.084975</td>\n",
       "      <td>533.681481</td>\n",
       "      <td>524.592642</td>\n",
       "      <td>529.306920</td>\n",
       "      <td>32944.466729</td>\n",
       "      <td>0.0</td>\n",
       "    </tr>\n",
       "    <tr>\n",
       "      <th>std</th>\n",
       "      <td>221.802516</td>\n",
       "      <td>222.936429</td>\n",
       "      <td>220.894447</td>\n",
       "      <td>221.997352</td>\n",
       "      <td>27408.738754</td>\n",
       "      <td>0.0</td>\n",
       "    </tr>\n",
       "    <tr>\n",
       "      <th>min</th>\n",
       "      <td>215.610000</td>\n",
       "      <td>220.050000</td>\n",
       "      <td>208.770000</td>\n",
       "      <td>211.000000</td>\n",
       "      <td>1117.000000</td>\n",
       "      <td>0.0</td>\n",
       "    </tr>\n",
       "    <tr>\n",
       "      <th>25%</th>\n",
       "      <td>351.900000</td>\n",
       "      <td>356.000000</td>\n",
       "      <td>347.550000</td>\n",
       "      <td>351.340000</td>\n",
       "      <td>17369.000000</td>\n",
       "      <td>0.0</td>\n",
       "    </tr>\n",
       "    <tr>\n",
       "      <th>50%</th>\n",
       "      <td>448.100000</td>\n",
       "      <td>451.850000</td>\n",
       "      <td>443.000000</td>\n",
       "      <td>447.750000</td>\n",
       "      <td>26500.000000</td>\n",
       "      <td>0.0</td>\n",
       "    </tr>\n",
       "    <tr>\n",
       "      <th>75%</th>\n",
       "      <td>648.820000</td>\n",
       "      <td>651.970000</td>\n",
       "      <td>645.660000</td>\n",
       "      <td>649.250000</td>\n",
       "      <td>40549.000000</td>\n",
       "      <td>0.0</td>\n",
       "    </tr>\n",
       "    <tr>\n",
       "      <th>max</th>\n",
       "      <td>1096.000000</td>\n",
       "      <td>1105.230000</td>\n",
       "      <td>1090.410000</td>\n",
       "      <td>1097.020000</td>\n",
       "      <td>593000.000000</td>\n",
       "      <td>0.0</td>\n",
       "    </tr>\n",
       "  </tbody>\n",
       "</table>\n",
       "</div>"
      ],
      "text/plain": [
       "              Open         High          Low        Close         Volume  \\\n",
       "count  3201.000000  3201.000000  3201.000000  3201.000000    3201.000000   \n",
       "mean    529.084975   533.681481   524.592642   529.306920   32944.466729   \n",
       "std     221.802516   222.936429   220.894447   221.997352   27408.738754   \n",
       "min     215.610000   220.050000   208.770000   211.000000    1117.000000   \n",
       "25%     351.900000   356.000000   347.550000   351.340000   17369.000000   \n",
       "50%     448.100000   451.850000   443.000000   447.750000   26500.000000   \n",
       "75%     648.820000   651.970000   645.660000   649.250000   40549.000000   \n",
       "max    1096.000000  1105.230000  1090.410000  1097.020000  593000.000000   \n",
       "\n",
       "       OpenInt  \n",
       "count   3201.0  \n",
       "mean       0.0  \n",
       "std        0.0  \n",
       "min        0.0  \n",
       "25%        0.0  \n",
       "50%        0.0  \n",
       "75%        0.0  \n",
       "max        0.0  "
      ]
     },
     "execution_count": 42,
     "metadata": {},
     "output_type": "execute_result"
    }
   ],
   "source": [
    "mkl_data.describe()\n",
    "#We can simply summarize the various statistical values using the describe() method"
   ]
  }
 ],
 "metadata": {
  "kernelspec": {
   "display_name": "Python 2",
   "language": "python",
   "name": "python2"
  },
  "language_info": {
   "codemirror_mode": {
    "name": "ipython",
    "version": 2
   },
   "file_extension": ".py",
   "mimetype": "text/x-python",
   "name": "python",
   "nbconvert_exporter": "python",
   "pygments_lexer": "ipython2",
   "version": "2.7.15"
  }
 },
 "nbformat": 4,
 "nbformat_minor": 1
}
