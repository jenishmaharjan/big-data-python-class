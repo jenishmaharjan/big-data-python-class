{
 "cells": [
  {
   "cell_type": "markdown",
   "metadata": {},
   "source": [
    "# HW 6 Statistics and probability homework\n",
    "\n",
    "Complete homework notebook in a homework directory with your name and zip up the homework directory and submit it to our class blackboard/elearn site.\n",
    "Complete all the parts 6.1 to 6.5 for score of 3.  \n",
    "\n",
    "Investigate plotting, linearegression, or complex matrix manipulation to get a score of 4 or cover two additional investigations for a score of 5. \n",
    "\n",
    "## 6.1 Coin flipping "
   ]
  },
  {
   "cell_type": "markdown",
   "metadata": {},
   "source": [
    "\n",
    "## 6.1.1\n",
    "Write a function, flip_sum,  which generates $n$ random coin flips from a fair coin and then returns the number of heads. \n",
    "\n",
    "A fair coin is defined to be a coin where $P($heads$)=\\frac{1}{2}$\n",
    "\n",
    "The output type should be a numpy integer, hint: use random.rand()\n"
   ]
  },
  {
   "cell_type": "code",
   "execution_count": 4,
   "metadata": {},
   "outputs": [
    {
     "data": {
      "text/plain": [
       "1"
      ]
     },
     "execution_count": 4,
     "metadata": {},
     "output_type": "execute_result"
    }
   ],
   "source": [
    "import numpy as np\n",
    "import random\n",
    "\n",
    "\"\"\"def random_flip():\n",
    "    return random.choice([\"H\", \"T\"])    \n",
    "    \n",
    "def flip_sum(n):\n",
    "    heads_count = 0\n",
    "    tails_count = 0\n",
    "    i = 0\n",
    "    while i < n:\n",
    "        random_result = random_flip()\n",
    "        if random_result == \"H\":\n",
    "            print \"H\",\n",
    "            heads_count += 1\n",
    "        else:\n",
    "            print \"T\",\n",
    "            tails_count +=1\n",
    "        i += 1\n",
    "    print \n",
    "    print \"The count of heads = \", heads_count\n",
    "    return heads_count\"\"\"\n",
    "\n",
    "\n",
    "def flip_sum(N):\n",
    "    T = 0\n",
    "    H = 0\n",
    "    i = 0\n",
    "    while i < N:\n",
    "        c = np.random.rand()\n",
    "        if c > 0.5:\n",
    "            T = T+1 ;\n",
    "            #print('Tails '),\n",
    "        else:\n",
    "            H = H+1 ;\n",
    "            #print('Heads '),\n",
    "        i += 1\n",
    "    #print \n",
    "    #print 'In', N , ' tosses, number of Heads = ', H,' and number of Tails = ',T\n",
    "    return H\n",
    "flip_sum(5)\n",
    "\n"
   ]
  },
  {
   "cell_type": "markdown",
   "metadata": {},
   "source": [
    "## 6.1.2 Test it \n",
    "Check it by showing the results of 100 coins being flipped"
   ]
  },
  {
   "cell_type": "code",
   "execution_count": 5,
   "metadata": {},
   "outputs": [
    {
     "data": {
      "text/plain": [
       "51"
      ]
     },
     "execution_count": 5,
     "metadata": {},
     "output_type": "execute_result"
    }
   ],
   "source": [
    "flip_sum(100)"
   ]
  },
  {
   "cell_type": "markdown",
   "metadata": {},
   "source": [
    "## 6.1.3 Create and display a histogram of 200 experiments of flipping 5 coins."
   ]
  },
  {
   "cell_type": "code",
   "execution_count": 5,
   "metadata": {},
   "outputs": [
    {
     "data": {
      "image/png": "[encoded data removed]",
      "text/plain": [
       "<Figure size 432x288 with 1 Axes>"
      ]
     },
     "metadata": {},
     "output_type": "display_data"
    }
   ],
   "source": [
    "%matplotlib inline\n",
    "import matplotlib.pyplot as plt\n",
    "\n",
    "x = [flip_sum(200),flip_sum(200),flip_sum(200),flip_sum(200),flip_sum(200)]\n",
    "\n",
    "\n",
    "plt.bar(range(1,6), x)\n",
    "plt.ylabel('frequency of heads')\n",
    "plt.xlabel('Coins')\n",
    "plt.show()"
   ]
  },
  {
   "cell_type": "markdown",
   "metadata": {},
   "source": [
    "## 6.1.4\n",
    "Write a function, estimate_prob, that uses flip_sum to estimate the following probability:\n",
    "\n",
    "$P(  k_1 <= $ number of heads in $n$ flips $< k_2 ) $\n",
    "\n",
    "The function should estimate the probability by running $m$ different trials of flip_sum(n), probably using a for loop.\n",
    "\n",
    "In order to receive full credit estimate_prob call flip_sum (aka: flip_sum is located inside the estimate_prob function)"
   ]
  },
  {
   "cell_type": "code",
   "execution_count": 6,
   "metadata": {},
   "outputs": [],
   "source": [
    "def estimate_prob(n,k1,k2,m):\n",
    "    \"\"\"Estimate the probability that n flips of a fair coin result in k1 to k2 heads\n",
    "         n: the number of coin flips (length of the sequence)\n",
    "         k1,k2: the trial is successful if the number of heads is \n",
    "                between k1 and k2-1\n",
    "         m: the number of trials (number of sequences of length n)\n",
    "         \n",
    "         output: the estimated probability \n",
    "         \"\"\"\n",
    "    i = 0\n",
    "    success = 0\n",
    "    while i<m:\n",
    "        h = float(flip_sum(n))\n",
    "        if (h >= k1 and h<k2):\n",
    "            success = success +1\n",
    "        i+=1\n",
    "    return float(success)/float(m)    \n"
   ]
  },
  {
   "cell_type": "code",
   "execution_count": 7,
   "metadata": {},
   "outputs": [
    {
     "name": "stdout",
     "output_type": "stream",
     "text": [
      "0.686\n"
     ]
    }
   ],
   "source": [
    "# this is a small sanity check\n",
    "\n",
    "x = estimate_prob(100,45,55,1000)\n",
    "print x\n",
    "#assert 'float' in str(type(x))\n",
    "#print \"does x==0.687?\""
   ]
  },
  {
   "cell_type": "markdown",
   "metadata": {},
   "source": [
    "## 6.2.2  Calculate the actual probablities and compare it to your estimates for:\n",
    "n= number of coins\n",
    "k1 = min number of heads\n",
    "k2 = upper limit of number of heads\n",
    "m = the number of experiments\n",
    "### 6.2.2.a n=100, k1 = 40, k2=60 m=100\n"
   ]
  },
  {
   "cell_type": "code",
   "execution_count": 11,
   "metadata": {},
   "outputs": [
    {
     "name": "stdout",
     "output_type": "stream",
     "text": [
      "Estimate : 0.93\n",
      "Actual :  0.4927\n"
     ]
    }
   ],
   "source": [
    "x = estimate_prob(100, 40, 60, 100)\n",
    "\n",
    "def actual_prob(n, m):\n",
    "    trial = 0\n",
    "    heads = 0.0\n",
    "    while trial < m:\n",
    "        heads += float(flip_sum(n))\n",
    "        trial += 1\n",
    "    return heads/float(m*n)\n",
    "\n",
    "y = actual_prob(100, 100)\n",
    "\n",
    "print \"Estimated :\", x\n",
    "print \"Actual : \", y"
   ]
  },
  {
   "cell_type": "markdown",
   "metadata": {},
   "source": [
    "### 6.2.2.b n=100, k1 = 40, k2=60 m=1000"
   ]
  },
  {
   "cell_type": "code",
   "execution_count": 13,
   "metadata": {},
   "outputs": [
    {
     "name": "stdout",
     "output_type": "stream",
     "text": [
      "Estimate : 0.945\n",
      "Actual :  0.50346\n"
     ]
    }
   ],
   "source": [
    "x = estimate_prob(100, 40, 60, 1000)\n",
    "y = actual_prob(100, 1000)\n",
    "print \"Estimate :\", x\n",
    "print \"Actual : \", y"
   ]
  },
  {
   "cell_type": "markdown",
   "metadata": {},
   "source": [
    "# 6.3 Conditional probablity"
   ]
  },
  {
   "cell_type": "markdown",
   "metadata": {},
   "source": [
    "In a recent study, the following data were obtained in response to the question\"\n",
    "    \"Do you favor the proposal of the school’s combining the elementary and middle school students in one building?\"\n",
    "    \n",
    "Answers = [Yes, No, No opinion]\n",
    "Males = [75, 89, 10]\n",
    "Females = [105, 56, 6]\n",
    "\n",
    "If a person is selected at random, find these probabilities solving using python.\n",
    "1. The person has no opinion\n",
    "2. The person is a male or is against the issue.\n",
    "3. The person is a female, given that the person opposes the issue."
   ]
  },
  {
   "cell_type": "code",
   "execution_count": 15,
   "metadata": {},
   "outputs": [
    {
     "name": "stdout",
     "output_type": "stream",
     "text": [
      "Probability that the person has no opinion:  0.0469208211144\n",
      "Probability that the person is a male or is against the issue. 0.674486803519\n",
      "Probability that the person is a female, given that the person opposes the issue. 0.189139447871\n"
     ]
    }
   ],
   "source": [
    "def cross(A, B):\n",
    "    \"\"\"The set of ways of concatenating one item from collection A with one from B.\"\"\"\n",
    "    return {a + b \n",
    "            for a in A for b in B}\n",
    "def prob(e, s):\n",
    "    return float(e)/float(s)\n",
    "\n",
    "def bayes(A, B, BgivenA):\n",
    "    AgivenB = (A * BgivenA)/B\n",
    "    return AgivenB\n",
    "\n",
    "possible_events = cross('M', '123') | cross('F','123')  #Using 1 to represent Opion YES, 2 for NO and 3 for No Opinion\n",
    "\n",
    "\n",
    "F1 = 105\n",
    "F2 = 56\n",
    "F3 = 6\n",
    "M1 = 75\n",
    "M2 = 89\n",
    "M3 = 10\n",
    "Total = F1 +F2 +F3 + M1 + M2 +M3\n",
    "\n",
    "print \"Probability that the person has no opinion: \", prob(M3+F3, Total)\n",
    "\n",
    "print \"Probability that the person is a male or is against the issue.\", prob(M1 + M2 + M3, Total) + prob (F2, Total)\n",
    "\n",
    "pF = float(F1+F2+F3)/float(Total)\n",
    "p2 = float(M2+F2)/float(Total)\n",
    "p2F = float(F2)/float(Total)\n",
    "print \"Probability that the person is a female, given that the person opposes the issue.\" , bayes(pF,p2, p2F)\n",
    "    "
   ]
  },
  {
   "cell_type": "markdown",
   "metadata": {},
   "source": [
    "## 6.4 Matrix creation\n",
    "Write a 12 by 12 times table matrix shown below.\n",
    "Do this\n",
    "6.4.1 using nested for loops\n",
    "6.4.2 using numpy fromfunction array constructor\n",
    "6.4.3 using numpy broadcasting"
   ]
  },
  {
   "cell_type": "code",
   "execution_count": 16,
   "metadata": {},
   "outputs": [
    {
     "data": {
      "text/plain": [
       "array([[  1,   2,   3,   4,   5,   6,   7,   8,   9,  10,  11,  12],\n",
       "       [  2,   4,   6,   8,  10,  12,  14,  16,  18,  20,  22,  24],\n",
       "       [  3,   6,   9,  12,  15,  18,  21,  24,  27,  30,  33,  36],\n",
       "       [  4,   8,  12,  16,  20,  24,  28,  32,  36,  40,  44,  48],\n",
       "       [  5,  10,  15,  20,  25,  30,  35,  40,  45,  50,  55,  60],\n",
       "       [  6,  12,  18,  24,  30,  36,  42,  48,  54,  60,  66,  72],\n",
       "       [  7,  14,  21,  28,  35,  42,  49,  56,  63,  70,  77,  84],\n",
       "       [  8,  16,  24,  32,  40,  48,  56,  64,  72,  80,  88,  96],\n",
       "       [  9,  18,  27,  36,  45,  54,  63,  72,  81,  90,  99, 108],\n",
       "       [ 10,  20,  30,  40,  50,  60,  70,  80,  90, 100, 110, 120],\n",
       "       [ 11,  22,  33,  44,  55,  66,  77,  88,  99, 110, 121, 132],\n",
       "       [ 12,  24,  36,  48,  60,  72,  84,  96, 108, 120, 132, 144]])"
      ]
     },
     "execution_count": 16,
     "metadata": {},
     "output_type": "execute_result"
    }
   ],
   "source": [
    "from numpy import array\n",
    "import numpy as np\n",
    "\n",
    "array([[  1,   2,   3,   4,   5,   6,   7,   8,   9,  10,  11,  12],\n",
    "   [  2,   4,   6,   8,  10,  12,  14,  16,  18,  20,  22,  24],\n",
    "   [  3,   6,   9,  12,  15,  18,  21,  24,  27,  30,  33,  36],\n",
    "   [  4,   8,  12,  16,  20,  24,  28,  32,  36,  40,  44,  48],\n",
    "   [  5,  10,  15,  20,  25,  30,  35,  40,  45,  50,  55,  60],\n",
    "   [  6,  12,  18,  24,  30,  36,  42,  48,  54,  60,  66,  72],\n",
    "   [  7,  14,  21,  28,  35,  42,  49,  56,  63,  70,  77,  84],\n",
    "   [  8,  16,  24,  32,  40,  48,  56,  64,  72,  80,  88,  96],\n",
    "   [  9,  18,  27,  36,  45,  54,  63,  72,  81,  90,  99, 108],\n",
    "   [ 10,  20,  30,  40,  50,  60,  70,  80,  90, 100, 110, 120],\n",
    "   [ 11,  22,  33,  44,  55,  66,  77,  88,  99, 110, 121, 132],\n",
    "   [ 12,  24,  36,  48,  60,  72,  84,  96, 108, 120, 132, 144]])"
   ]
  },
  {
   "cell_type": "markdown",
   "metadata": {},
   "source": [
    "#### 6.4.1 Using For Loop"
   ]
  },
  {
   "cell_type": "code",
   "execution_count": 17,
   "metadata": {},
   "outputs": [
    {
     "data": {
      "text/plain": [
       "array([[  1,   2,   3,   4,   5,   6,   7,   8,   9,  10,  11,  12],\n",
       "       [  2,   4,   6,   8,  10,  12,  14,  16,  18,  20,  22,  24],\n",
       "       [  3,   6,   9,  12,  15,  18,  21,  24,  27,  30,  33,  36],\n",
       "       [  4,   8,  12,  16,  20,  24,  28,  32,  36,  40,  44,  48],\n",
       "       [  5,  10,  15,  20,  25,  30,  35,  40,  45,  50,  55,  60],\n",
       "       [  6,  12,  18,  24,  30,  36,  42,  48,  54,  60,  66,  72],\n",
       "       [  7,  14,  21,  28,  35,  42,  49,  56,  63,  70,  77,  84],\n",
       "       [  8,  16,  24,  32,  40,  48,  56,  64,  72,  80,  88,  96],\n",
       "       [  9,  18,  27,  36,  45,  54,  63,  72,  81,  90,  99, 108],\n",
       "       [ 10,  20,  30,  40,  50,  60,  70,  80,  90, 100, 110, 120],\n",
       "       [ 11,  22,  33,  44,  55,  66,  77,  88,  99, 110, 121, 132],\n",
       "       [ 12,  24,  36,  48,  60,  72,  84,  96, 108, 120, 132, 144]])"
      ]
     },
     "execution_count": 17,
     "metadata": {},
     "output_type": "execute_result"
    }
   ],
   "source": [
    "array( [ [ (i+1)*(j+1) for j in xrange(12)] for i in xrange(12)] )"
   ]
  },
  {
   "cell_type": "markdown",
   "metadata": {},
   "source": [
    "#### 6.4.2 Using fromfunction"
   ]
  },
  {
   "cell_type": "code",
   "execution_count": 18,
   "metadata": {},
   "outputs": [
    {
     "data": {
      "text/plain": [
       "array([[  1,   2,   3,   4,   5,   6,   7,   8,   9,  10,  11,  12],\n",
       "       [  2,   4,   6,   8,  10,  12,  14,  16,  18,  20,  22,  24],\n",
       "       [  3,   6,   9,  12,  15,  18,  21,  24,  27,  30,  33,  36],\n",
       "       [  4,   8,  12,  16,  20,  24,  28,  32,  36,  40,  44,  48],\n",
       "       [  5,  10,  15,  20,  25,  30,  35,  40,  45,  50,  55,  60],\n",
       "       [  6,  12,  18,  24,  30,  36,  42,  48,  54,  60,  66,  72],\n",
       "       [  7,  14,  21,  28,  35,  42,  49,  56,  63,  70,  77,  84],\n",
       "       [  8,  16,  24,  32,  40,  48,  56,  64,  72,  80,  88,  96],\n",
       "       [  9,  18,  27,  36,  45,  54,  63,  72,  81,  90,  99, 108],\n",
       "       [ 10,  20,  30,  40,  50,  60,  70,  80,  90, 100, 110, 120],\n",
       "       [ 11,  22,  33,  44,  55,  66,  77,  88,  99, 110, 121, 132],\n",
       "       [ 12,  24,  36,  48,  60,  72,  84,  96, 108, 120, 132, 144]])"
      ]
     },
     "execution_count": 18,
     "metadata": {},
     "output_type": "execute_result"
    }
   ],
   "source": [
    "np.fromfunction(lambda i, j: np.int32((i+1)*(j+1)), (12,12))"
   ]
  },
  {
   "cell_type": "markdown",
   "metadata": {},
   "source": [
    "#### 6.4.3 Using Numpy Broadcasting"
   ]
  },
  {
   "cell_type": "code",
   "execution_count": 20,
   "metadata": {},
   "outputs": [
    {
     "data": {
      "text/plain": [
       "array([[  1,   2,   3,   4,   5,   6,   7,   8,   9,  10,  11,  12],\n",
       "       [  2,   4,   6,   8,  10,  12,  14,  16,  18,  20,  22,  24],\n",
       "       [  3,   6,   9,  12,  15,  18,  21,  24,  27,  30,  33,  36],\n",
       "       [  4,   8,  12,  16,  20,  24,  28,  32,  36,  40,  44,  48],\n",
       "       [  5,  10,  15,  20,  25,  30,  35,  40,  45,  50,  55,  60],\n",
       "       [  6,  12,  18,  24,  30,  36,  42,  48,  54,  60,  66,  72],\n",
       "       [  7,  14,  21,  28,  35,  42,  49,  56,  63,  70,  77,  84],\n",
       "       [  8,  16,  24,  32,  40,  48,  56,  64,  72,  80,  88,  96],\n",
       "       [  9,  18,  27,  36,  45,  54,  63,  72,  81,  90,  99, 108],\n",
       "       [ 10,  20,  30,  40,  50,  60,  70,  80,  90, 100, 110, 120],\n",
       "       [ 11,  22,  33,  44,  55,  66,  77,  88,  99, 110, 121, 132],\n",
       "       [ 12,  24,  36,  48,  60,  72,  84,  96, 108, 120, 132, 144]])"
      ]
     },
     "execution_count": 20,
     "metadata": {},
     "output_type": "execute_result"
    }
   ],
   "source": [
    "a = np.indices((12,12))\n",
    "b = (a[0]+1) * (a[1]+1)\n",
    "b"
   ]
  },
  {
   "cell_type": "markdown",
   "metadata": {
    "collapsed": true
   },
   "source": [
    "## 6.5 \n",
    "Answer the following questions with respect to the\n",
    "https://data.cdc.gov/NCHS/NCHS-Leading-Causes-of-Death-United-States/bi63-dtpu\n",
    "    \n",
    "    \n",
    "How many patients were censored?\n",
    "What is the correlation coefficient between state and Suicide for deaths above 100 ?\n",
    "What is the average deaths for each state and type of cause ?\n",
    "What is the year that was the most deadly for each cause name ?"
   ]
  },
  {
   "cell_type": "code",
   "execution_count": 9,
   "metadata": {},
   "outputs": [
    {
     "data": {
      "text/html": [
       "<div>\n",
       "<style scoped>\n",
       "    .dataframe tbody tr th:only-of-type {\n",
       "        vertical-align: middle;\n",
       "    }\n",
       "\n",
       "    .dataframe tbody tr th {\n",
       "        vertical-align: top;\n",
       "    }\n",
       "\n",
       "    .dataframe thead th {\n",
       "        text-align: right;\n",
       "    }\n",
       "</style>\n",
       "<table border=\"1\" class=\"dataframe\">\n",
       "  <thead>\n",
       "    <tr style=\"text-align: right;\">\n",
       "      <th></th>\n",
       "      <th>Year</th>\n",
       "      <th>113 Cause Name</th>\n",
       "      <th>Cause Name</th>\n",
       "      <th>State</th>\n",
       "      <th>Deaths</th>\n",
       "      <th>Age-adjusted Death Rate</th>\n",
       "    </tr>\n",
       "  </thead>\n",
       "  <tbody>\n",
       "    <tr>\n",
       "      <th>0</th>\n",
       "      <td>2016</td>\n",
       "      <td>Accidents (unintentional injuries) (V01-X59,Y8...</td>\n",
       "      <td>Unintentional injuries</td>\n",
       "      <td>Alabama</td>\n",
       "      <td>2755</td>\n",
       "      <td>55.5</td>\n",
       "    </tr>\n",
       "    <tr>\n",
       "      <th>1</th>\n",
       "      <td>2016</td>\n",
       "      <td>Accidents (unintentional injuries) (V01-X59,Y8...</td>\n",
       "      <td>Unintentional injuries</td>\n",
       "      <td>Alaska</td>\n",
       "      <td>439</td>\n",
       "      <td>63.1</td>\n",
       "    </tr>\n",
       "    <tr>\n",
       "      <th>2</th>\n",
       "      <td>2016</td>\n",
       "      <td>Accidents (unintentional injuries) (V01-X59,Y8...</td>\n",
       "      <td>Unintentional injuries</td>\n",
       "      <td>Arizona</td>\n",
       "      <td>4010</td>\n",
       "      <td>54.2</td>\n",
       "    </tr>\n",
       "    <tr>\n",
       "      <th>3</th>\n",
       "      <td>2016</td>\n",
       "      <td>Accidents (unintentional injuries) (V01-X59,Y8...</td>\n",
       "      <td>Unintentional injuries</td>\n",
       "      <td>Arkansas</td>\n",
       "      <td>1604</td>\n",
       "      <td>51.8</td>\n",
       "    </tr>\n",
       "    <tr>\n",
       "      <th>4</th>\n",
       "      <td>2016</td>\n",
       "      <td>Accidents (unintentional injuries) (V01-X59,Y8...</td>\n",
       "      <td>Unintentional injuries</td>\n",
       "      <td>California</td>\n",
       "      <td>13213</td>\n",
       "      <td>32.0</td>\n",
       "    </tr>\n",
       "  </tbody>\n",
       "</table>\n",
       "</div>"
      ],
      "text/plain": [
       "   Year                                     113 Cause Name  \\\n",
       "0  2016  Accidents (unintentional injuries) (V01-X59,Y8...   \n",
       "1  2016  Accidents (unintentional injuries) (V01-X59,Y8...   \n",
       "2  2016  Accidents (unintentional injuries) (V01-X59,Y8...   \n",
       "3  2016  Accidents (unintentional injuries) (V01-X59,Y8...   \n",
       "4  2016  Accidents (unintentional injuries) (V01-X59,Y8...   \n",
       "\n",
       "               Cause Name       State  Deaths  Age-adjusted Death Rate  \n",
       "0  Unintentional injuries     Alabama    2755                     55.5  \n",
       "1  Unintentional injuries      Alaska     439                     63.1  \n",
       "2  Unintentional injuries     Arizona    4010                     54.2  \n",
       "3  Unintentional injuries    Arkansas    1604                     51.8  \n",
       "4  Unintentional injuries  California   13213                     32.0  "
      ]
     },
     "execution_count": 9,
     "metadata": {},
     "output_type": "execute_result"
    }
   ],
   "source": [
    "import pandas as pd\n",
    "dfh = pd.read_csv(\".\\data\\NCHS_-_Leading_Causes_of_Death__United_States.csv\")\n",
    "dfh.head()"
   ]
  },
  {
   "cell_type": "markdown",
   "metadata": {},
   "source": [
    "#### How many patients were censored?"
   ]
  },
  {
   "cell_type": "code",
   "execution_count": 11,
   "metadata": {},
   "outputs": [
    {
     "name": "stdout",
     "output_type": "stream",
     "text": [
      "The number of censored_patients =  157803463\n"
     ]
    }
   ],
   "source": [
    "censored_patients = sum(dfh['Deaths'])\n",
    "print \"The number of censored_patients = \", censored_patients"
   ]
  },
  {
   "cell_type": "markdown",
   "metadata": {},
   "source": [
    "#### What is the correlation coefficient between state and Suicide for deaths above 100 ?"
   ]
  },
  {
   "cell_type": "code",
   "execution_count": 43,
   "metadata": {},
   "outputs": [
    {
     "data": {
      "text/html": [
       "<div>\n",
       "<style scoped>\n",
       "    .dataframe tbody tr th:only-of-type {\n",
       "        vertical-align: middle;\n",
       "    }\n",
       "\n",
       "    .dataframe tbody tr th {\n",
       "        vertical-align: top;\n",
       "    }\n",
       "\n",
       "    .dataframe thead th {\n",
       "        text-align: right;\n",
       "    }\n",
       "</style>\n",
       "<table border=\"1\" class=\"dataframe\">\n",
       "  <thead>\n",
       "    <tr style=\"text-align: right;\">\n",
       "      <th></th>\n",
       "      <th>Year</th>\n",
       "      <th>113 Cause Name</th>\n",
       "      <th>Cause Name</th>\n",
       "      <th>State</th>\n",
       "      <th>Deaths</th>\n",
       "      <th>Age-adjusted Death Rate</th>\n",
       "    </tr>\n",
       "  </thead>\n",
       "  <tbody>\n",
       "    <tr>\n",
       "      <th>8475</th>\n",
       "      <td>2016</td>\n",
       "      <td>Intentional self-harm (suicide) (*U03,X60-X84,...</td>\n",
       "      <td>Suicide</td>\n",
       "      <td>Alabama</td>\n",
       "      <td>788</td>\n",
       "      <td>15.7</td>\n",
       "    </tr>\n",
       "    <tr>\n",
       "      <th>8476</th>\n",
       "      <td>2015</td>\n",
       "      <td>Intentional self-harm (suicide) (*U03,X60-X84,...</td>\n",
       "      <td>Suicide</td>\n",
       "      <td>Alabama</td>\n",
       "      <td>750</td>\n",
       "      <td>14.9</td>\n",
       "    </tr>\n",
       "    <tr>\n",
       "      <th>8477</th>\n",
       "      <td>2014</td>\n",
       "      <td>Intentional self-harm (suicide) (*U03,X60-X84,...</td>\n",
       "      <td>Suicide</td>\n",
       "      <td>Alabama</td>\n",
       "      <td>715</td>\n",
       "      <td>14.5</td>\n",
       "    </tr>\n",
       "    <tr>\n",
       "      <th>8478</th>\n",
       "      <td>2013</td>\n",
       "      <td>Intentional self-harm (suicide) (*U03,X60-X84,...</td>\n",
       "      <td>Suicide</td>\n",
       "      <td>Alabama</td>\n",
       "      <td>721</td>\n",
       "      <td>14.4</td>\n",
       "    </tr>\n",
       "    <tr>\n",
       "      <th>8479</th>\n",
       "      <td>2012</td>\n",
       "      <td>Intentional self-harm (suicide) (*U03,X60-X84,...</td>\n",
       "      <td>Suicide</td>\n",
       "      <td>Alabama</td>\n",
       "      <td>724</td>\n",
       "      <td>14.7</td>\n",
       "    </tr>\n",
       "  </tbody>\n",
       "</table>\n",
       "</div>"
      ],
      "text/plain": [
       "      Year                                     113 Cause Name Cause Name  \\\n",
       "8475  2016  Intentional self-harm (suicide) (*U03,X60-X84,...    Suicide   \n",
       "8476  2015  Intentional self-harm (suicide) (*U03,X60-X84,...    Suicide   \n",
       "8477  2014  Intentional self-harm (suicide) (*U03,X60-X84,...    Suicide   \n",
       "8478  2013  Intentional self-harm (suicide) (*U03,X60-X84,...    Suicide   \n",
       "8479  2012  Intentional self-harm (suicide) (*U03,X60-X84,...    Suicide   \n",
       "\n",
       "        State  Deaths  Age-adjusted Death Rate  \n",
       "8475  Alabama     788                     15.7  \n",
       "8476  Alabama     750                     14.9  \n",
       "8477  Alabama     715                     14.5  \n",
       "8478  Alabama     721                     14.4  \n",
       "8479  Alabama     724                     14.7  "
      ]
     },
     "execution_count": 43,
     "metadata": {},
     "output_type": "execute_result"
    }
   ],
   "source": [
    "dfhsuicides = dfh.loc[dfh['Cause Name']=='Suicide']\n",
    "dfhsuicides100 = dfhsuicides.loc[dfhsuicides['Deaths']>100]\n",
    "dfhsuicides100.head()\n"
   ]
  },
  {
   "cell_type": "code",
   "execution_count": 45,
   "metadata": {},
   "outputs": [
    {
     "data": {
      "text/html": [
       "<div>\n",
       "<style scoped>\n",
       "    .dataframe tbody tr th:only-of-type {\n",
       "        vertical-align: middle;\n",
       "    }\n",
       "\n",
       "    .dataframe tbody tr th {\n",
       "        vertical-align: top;\n",
       "    }\n",
       "\n",
       "    .dataframe thead th {\n",
       "        text-align: right;\n",
       "    }\n",
       "</style>\n",
       "<table border=\"1\" class=\"dataframe\">\n",
       "  <thead>\n",
       "    <tr style=\"text-align: right;\">\n",
       "      <th></th>\n",
       "      <th></th>\n",
       "      <th>Deaths</th>\n",
       "    </tr>\n",
       "    <tr>\n",
       "      <th>State</th>\n",
       "      <th>Year</th>\n",
       "      <th></th>\n",
       "    </tr>\n",
       "  </thead>\n",
       "  <tbody>\n",
       "    <tr>\n",
       "      <th rowspan=\"5\" valign=\"top\">Alabama</th>\n",
       "      <th>1999</th>\n",
       "      <td>80246</td>\n",
       "    </tr>\n",
       "    <tr>\n",
       "      <th>2000</th>\n",
       "      <td>80484</td>\n",
       "    </tr>\n",
       "    <tr>\n",
       "      <th>2001</th>\n",
       "      <td>80775</td>\n",
       "    </tr>\n",
       "    <tr>\n",
       "      <th>2002</th>\n",
       "      <td>82160</td>\n",
       "    </tr>\n",
       "    <tr>\n",
       "      <th>2003</th>\n",
       "      <td>82741</td>\n",
       "    </tr>\n",
       "  </tbody>\n",
       "</table>\n",
       "</div>"
      ],
      "text/plain": [
       "              Deaths\n",
       "State   Year        \n",
       "Alabama 1999   80246\n",
       "        2000   80484\n",
       "        2001   80775\n",
       "        2002   82160\n",
       "        2003   82741"
      ]
     },
     "execution_count": 45,
     "metadata": {},
     "output_type": "execute_result"
    }
   ],
   "source": [
    "g = dfh.groupby(['State','Year']).Deaths.sum()\n",
    "g1 = pd.Series.to_frame(g)\n",
    "g1.head()"
   ]
  },
  {
   "cell_type": "markdown",
   "metadata": {},
   "source": [
    "#### What is the average deaths for each state and type of cause ?"
   ]
  },
  {
   "cell_type": "code",
   "execution_count": 76,
   "metadata": {},
   "outputs": [
    {
     "data": {
      "text/plain": [
       "State          Cause Name             \n",
       "Alabama        All causes                 47823.833333\n",
       "               Alzheimer's disease         1479.833333\n",
       "               CLRD                        2654.333333\n",
       "               Cancer                     10043.333333\n",
       "               Diabetes                    1341.277778\n",
       "               Heart disease              12635.166667\n",
       "               Influenza and pneumonia     1028.666667\n",
       "               Kidney disease              1049.944444\n",
       "               Stroke                      2861.500000\n",
       "               Suicide                      624.500000\n",
       "               Unintentional injuries      2398.222222\n",
       "Alaska         All causes                  3521.000000\n",
       "               Alzheimer's disease           66.888889\n",
       "               CLRD                         171.833333\n",
       "               Cancer                       835.111111\n",
       "               Diabetes                      99.444444\n",
       "               Heart disease                672.611111\n",
       "               Influenza and pneumonia       51.833333\n",
       "               Kidney disease                40.500000\n",
       "               Stroke                       172.611111\n",
       "               Suicide                      148.888889\n",
       "               Unintentional injuries       350.444444\n",
       "Arizona        All causes                 46561.500000\n",
       "               Alzheimer's disease         1988.833333\n",
       "               CLRD                        2929.444444\n",
       "               Cancer                     10275.444444\n",
       "               Diabetes                    1401.944444\n",
       "               Heart disease              10725.722222\n",
       "               Influenza and pneumonia     1011.555556\n",
       "               Kidney disease               520.055556\n",
       "                                              ...     \n",
       "West Virginia  Cancer                      4706.333333\n",
       "               Diabetes                     789.222222\n",
       "               Heart disease               5421.944444\n",
       "               Influenza and pneumonia      462.833333\n",
       "               Kidney disease               456.166667\n",
       "               Stroke                      1146.666667\n",
       "               Suicide                      290.000000\n",
       "               Unintentional injuries      1172.500000\n",
       "Wisconsin      All causes                 47646.222222\n",
       "               Alzheimer's disease         1607.055556\n",
       "               CLRD                        2494.500000\n",
       "               Cancer                     11070.388889\n",
       "               Diabetes                    1272.333333\n",
       "               Heart disease              11862.611111\n",
       "               Influenza and pneumonia     1103.777778\n",
       "               Kidney disease               936.611111\n",
       "               Stroke                      2910.333333\n",
       "               Suicide                      716.111111\n",
       "               Unintentional injuries      2583.166667\n",
       "Wyoming        All causes                  4303.666667\n",
       "               Alzheimer's disease          126.666667\n",
       "               CLRD                         320.611111\n",
       "               Cancer                       922.111111\n",
       "               Diabetes                     119.222222\n",
       "               Heart disease                981.555556\n",
       "               Influenza and pneumonia      117.222222\n",
       "               Kidney disease                61.666667\n",
       "               Stroke                       225.500000\n",
       "               Suicide                      116.222222\n",
       "               Unintentional injuries       309.166667\n",
       "Name: Deaths, Length: 572, dtype: float64"
      ]
     },
     "execution_count": 76,
     "metadata": {},
     "output_type": "execute_result"
    }
   ],
   "source": [
    "dfh.groupby(['State','Cause Name']).Deaths.mean()"
   ]
  },
  {
   "cell_type": "markdown",
   "metadata": {},
   "source": [
    "####  What is the year that was the most deadly for each cause name ?"
   ]
  },
  {
   "cell_type": "code",
   "execution_count": 158,
   "metadata": {},
   "outputs": [
    {
     "data": {
      "text/html": [
       "<div>\n",
       "<style scoped>\n",
       "    .dataframe tbody tr th:only-of-type {\n",
       "        vertical-align: middle;\n",
       "    }\n",
       "\n",
       "    .dataframe tbody tr th {\n",
       "        vertical-align: top;\n",
       "    }\n",
       "\n",
       "    .dataframe thead th {\n",
       "        text-align: right;\n",
       "    }\n",
       "</style>\n",
       "<table border=\"1\" class=\"dataframe\">\n",
       "  <thead>\n",
       "    <tr style=\"text-align: right;\">\n",
       "      <th></th>\n",
       "      <th>Cause Name</th>\n",
       "      <th>Year</th>\n",
       "      <th>Deaths</th>\n",
       "    </tr>\n",
       "  </thead>\n",
       "  <tbody>\n",
       "    <tr>\n",
       "      <th>844</th>\n",
       "      <td>All causes</td>\n",
       "      <td>2015</td>\n",
       "      <td>2712630</td>\n",
       "    </tr>\n",
       "    <tr>\n",
       "      <th>5542</th>\n",
       "      <td>Heart disease</td>\n",
       "      <td>1999</td>\n",
       "      <td>725192</td>\n",
       "    </tr>\n",
       "    <tr>\n",
       "      <th>2715</th>\n",
       "      <td>Cancer</td>\n",
       "      <td>2016</td>\n",
       "      <td>598038</td>\n",
       "    </tr>\n",
       "    <tr>\n",
       "      <th>8347</th>\n",
       "      <td>Stroke</td>\n",
       "      <td>2000</td>\n",
       "      <td>167661</td>\n",
       "    </tr>\n",
       "    <tr>\n",
       "      <th>10159</th>\n",
       "      <td>Unintentional injuries</td>\n",
       "      <td>2016</td>\n",
       "      <td>161374</td>\n",
       "    </tr>\n",
       "    <tr>\n",
       "      <th>3652</th>\n",
       "      <td>CLRD</td>\n",
       "      <td>2015</td>\n",
       "      <td>155041</td>\n",
       "    </tr>\n",
       "    <tr>\n",
       "      <th>1779</th>\n",
       "      <td>Alzheimer's disease</td>\n",
       "      <td>2016</td>\n",
       "      <td>116103</td>\n",
       "    </tr>\n",
       "    <tr>\n",
       "      <th>4587</th>\n",
       "      <td>Diabetes</td>\n",
       "      <td>2016</td>\n",
       "      <td>80058</td>\n",
       "    </tr>\n",
       "    <tr>\n",
       "      <th>6473</th>\n",
       "      <td>Influenza and pneumonia</td>\n",
       "      <td>2002</td>\n",
       "      <td>65681</td>\n",
       "    </tr>\n",
       "    <tr>\n",
       "      <th>7402</th>\n",
       "      <td>Kidney disease</td>\n",
       "      <td>2010</td>\n",
       "      <td>50476</td>\n",
       "    </tr>\n",
       "    <tr>\n",
       "      <th>9267</th>\n",
       "      <td>Suicide</td>\n",
       "      <td>2016</td>\n",
       "      <td>44965</td>\n",
       "    </tr>\n",
       "  </tbody>\n",
       "</table>\n",
       "</div>"
      ],
      "text/plain": [
       "                    Cause Name  Year   Deaths\n",
       "844                 All causes  2015  2712630\n",
       "5542             Heart disease  1999   725192\n",
       "2715                    Cancer  2016   598038\n",
       "8347                    Stroke  2000   167661\n",
       "10159   Unintentional injuries  2016   161374\n",
       "3652                      CLRD  2015   155041\n",
       "1779       Alzheimer's disease  2016   116103\n",
       "4587                  Diabetes  2016    80058\n",
       "6473   Influenza and pneumonia  2002    65681\n",
       "7402            Kidney disease  2010    50476\n",
       "9267                   Suicide  2016    44965"
      ]
     },
     "execution_count": 158,
     "metadata": {},
     "output_type": "execute_result"
    }
   ],
   "source": [
    "maxdeath_years = dfh.sort_values('Deaths', ascending=False).drop_duplicates(['Cause Name'])\n",
    "maxdeath_years[['Cause Name','Year','Deaths']]"
   ]
  },
  {
   "cell_type": "markdown",
   "metadata": {},
   "source": [
    "# Investigate plotting, linearegression, or complex matrix manipulation to get a score of 4 or cover two additional investigations for a score of 5."
   ]
  },
  {
   "cell_type": "markdown",
   "metadata": {},
   "source": [
    "## Linear Regression\n",
    "\n",
    "http://scikit-learn.org/stable/auto_examples/linear_model/plot_ols.html\n",
    "https://www.geeksforgeeks.org/linear-regression-python-implementation/"
   ]
  },
  {
   "cell_type": "code",
   "execution_count": 162,
   "metadata": {},
   "outputs": [
    {
     "name": "stdout",
     "output_type": "stream",
     "text": [
      "('Coefficients: \\n', array([938.23786125]))\n",
      "Mean squared error: 2548.07\n",
      "Variance score: 0.47\n"
     ]
    },
    {
     "data": {
      "image/png": "[encoded data removed]",
      "text/plain": [
       "<Figure size 432x288 with 1 Axes>"
      ]
     },
     "metadata": {},
     "output_type": "display_data"
    }
   ],
   "source": [
    "import matplotlib.pyplot as plt\n",
    "import numpy as np\n",
    "from sklearn import datasets, linear_model\n",
    "from sklearn.metrics import mean_squared_error, r2_score\n",
    "\n",
    "# Load the diabetes dataset\n",
    "diabetes = datasets.load_diabetes()\n",
    "\n",
    "\n",
    "# Use only one feature\n",
    "diabetes_X = diabetes.data[:, np.newaxis, 2]\n",
    "\n",
    "# Split the data into training/testing sets\n",
    "diabetes_X_train = diabetes_X[:-20]\n",
    "diabetes_X_test = diabetes_X[-20:]\n",
    "\n",
    "# Split the targets into training/testing sets\n",
    "diabetes_y_train = diabetes.target[:-20]\n",
    "diabetes_y_test = diabetes.target[-20:]\n",
    "\n",
    "# Create linear regression object\n",
    "regr = linear_model.LinearRegression()\n",
    "\n",
    "# Train the model using the training sets\n",
    "regr.fit(diabetes_X_train, diabetes_y_train)\n",
    "\n",
    "# Make predictions using the testing set\n",
    "diabetes_y_pred = regr.predict(diabetes_X_test)\n",
    "\n",
    "# The coefficients\n",
    "print('Coefficients: \\n', regr.coef_)\n",
    "# The mean squared error\n",
    "print(\"Mean squared error: %.2f\"\n",
    "      % mean_squared_error(diabetes_y_test, diabetes_y_pred))\n",
    "# Explained variance score: 1 is perfect prediction\n",
    "print('Variance score: %.2f' % r2_score(diabetes_y_test, diabetes_y_pred))\n",
    "\n",
    "# Plot outputs\n",
    "plt.scatter(diabetes_X_test, diabetes_y_test,  color='black')\n",
    "plt.plot(diabetes_X_test, diabetes_y_pred, color='blue', linewidth=3)\n",
    "\n",
    "plt.xticks(())\n",
    "plt.yticks(())\n",
    "\n",
    "plt.show()"
   ]
  },
  {
   "cell_type": "code",
   "execution_count": 164,
   "metadata": {},
   "outputs": [
    {
     "name": "stdout",
     "output_type": "stream",
     "text": [
      "Estimated coefficients:\n",
      "b_0 = -0.0586206896552 \\ \n",
      "b_1 = 1.45747126437\n"
     ]
    },
    {
     "data": {
      "image/png": "[encoded data removed]",
      "text/plain": [
       "<Figure size 432x288 with 1 Axes>"
      ]
     },
     "metadata": {},
     "output_type": "display_data"
    }
   ],
   "source": [
    "import numpy as np \n",
    "import matplotlib.pyplot as plt \n",
    "\n",
    "def estimate_coef(x, y): \n",
    "    # number of observations/points \n",
    "    n = np.size(x) \n",
    "\n",
    "    # mean of x and y vector \n",
    "    m_x, m_y = np.mean(x), np.mean(y) \n",
    "\n",
    "    # calculating cross-deviation and deviation about x \n",
    "    SS_xy = np.sum(y*x - n*m_y*m_x) \n",
    "    SS_xx = np.sum(x*x - n*m_x*m_x) \n",
    "\n",
    "    # calculating regression coefficients \n",
    "    b_1 = SS_xy / SS_xx \n",
    "    b_0 = m_y - b_1*m_x \n",
    "\n",
    "    return(b_0, b_1) \n",
    "\n",
    "def plot_regression_line(x, y, b): \n",
    "    # plotting the actual points as scatter plot \n",
    "    plt.scatter(x, y, color = \"m\", \n",
    "    marker = \"o\", s = 30) \n",
    "\n",
    "    # predicted response vector \n",
    "    y_pred = b[0] + b[1]*x \n",
    "    \n",
    "    # plotting the regression line \n",
    "    plt.plot(x, y_pred, color = \"g\") \n",
    "\n",
    "    # putting labels \n",
    "    plt.xlabel('x') \n",
    "    plt.ylabel('y') \n",
    "\n",
    "    # function to show plot \n",
    "    plt.show() \n",
    "\n",
    "def main(): \n",
    "    # observations \n",
    "    x = np.array([0, 1, 2, 3, 4, 5, 6, 7, 8, 9]) \n",
    "    y = np.array([1, 3, 2, 5, 7, 8, 8, 9, 10, 12]) \n",
    "\n",
    "    # estimating coefficients \n",
    "    b = estimate_coef(x, y) \n",
    "    print(\"Estimated coefficients:\\nb_0 = {} \\ \\nb_1 = {}\".format(b[0], b[1])) \n",
    "\n",
    "    # plotting regression line \n",
    "    plot_regression_line(x, y, b) \n",
    "\n",
    "if __name__ == \"__main__\": \n",
    "    main() \n"
   ]
  }
 ],
 "metadata": {
  "kernelspec": {
   "display_name": "Python 2",
   "language": "python",
   "name": "python2"
  },
  "language_info": {
   "codemirror_mode": {
    "name": "ipython",
    "version": 2
   },
   "file_extension": ".py",
   "mimetype": "text/x-python",
   "name": "python",
   "nbconvert_exporter": "python",
   "pygments_lexer": "ipython2",
   "version": "2.7.15"
  }
 },
 "nbformat": 4,
 "nbformat_minor": 2
}
