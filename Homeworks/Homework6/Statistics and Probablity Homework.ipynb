{
 "cells": [
  {
   "cell_type": "markdown",
   "metadata": {},
   "source": [
    "# HW 6 Statistics and probability homework\n",
    "\n",
    "Complete homework notebook in a homework directory with your name and zip up the homework directory and submit it to our class blackboard/elearn site.\n",
    "Complete all the parts 6.1 to 6.5 for score of 3.  \n",
    "\n",
    "Investigate plotting, linearegression, or complex matrix manipulation to get a score of 4 or cover two additional investigations for a score of 5. \n",
    "\n",
    "## 6.1 Coin flipping "
   ]
  },
  {
   "cell_type": "code",
   "execution_count": null,
   "metadata": {
    "collapsed": true
   },
   "outputs": [],
   "source": []
  },
  {
   "cell_type": "markdown",
   "metadata": {},
   "source": [
    "\n",
    "## 6.1.1\n",
    "Write a function, flip_sum,  which generates $n$ random coin flips from a fair coin and then returns the number of heads. \n",
    "\n",
    "A fair coin is defined to be a coin where $P($heads$)=\\frac{1}{2}$\n",
    "\n",
    "The output type should be a numpy integer, hint: use random.rand()\n"
   ]
  },
  {
   "cell_type": "code",
   "execution_count": null,
   "metadata": {
    "collapsed": true
   },
   "outputs": [],
   "source": []
  },
  {
   "cell_type": "markdown",
   "metadata": {},
   "source": [
    "## 6.1.2 Test it \n",
    "Check it by showing the results of 100 coins being flipped"
   ]
  },
  {
   "cell_type": "code",
   "execution_count": null,
   "metadata": {
    "collapsed": true
   },
   "outputs": [],
   "source": []
  },
  {
   "cell_type": "markdown",
   "metadata": {},
   "source": [
    "## 6.1.3 Create and display a histogram of 200 experiments of flipping 5 coins."
   ]
  },
  {
   "cell_type": "code",
   "execution_count": null,
   "metadata": {
    "collapsed": true
   },
   "outputs": [],
   "source": []
  },
  {
   "cell_type": "markdown",
   "metadata": {},
   "source": [
    "## 6.1.4\n",
    "Write a function, estimate_prob, that uses flip_sum to estimate the following probability:\n",
    "\n",
    "$P(  k_1 <= $ number of heads in $n$ flips $< k_2 ) $\n",
    "\n",
    "The function should estimate the probability by running $m$ different trials of flip_sum(n), probably using a for loop.\n",
    "\n",
    "In order to receive full credit estimate_prob call flip_sum (aka: flip_sum is located inside the estimate_prob function)"
   ]
  },
  {
   "cell_type": "code",
   "execution_count": 1,
   "metadata": {
    "collapsed": true
   },
   "outputs": [],
   "source": [
    "def estimate_prob(n,k1,k2,m):\n",
    "    \"\"\"Estimate the probability that n flips of a fair coin result in k1 to k2 heads\n",
    "         n: the number of coin flips (length of the sequence)\n",
    "         k1,k2: the trial is successful if the number of heads is \n",
    "                between k1 and k2-1\n",
    "         m: the number of trials (number of sequences of length n)\n",
    "         \n",
    "         output: the estimated probability \n",
    "         \"\"\"\n"
   ]
  },
  {
   "cell_type": "code",
   "execution_count": 4,
   "metadata": {},
   "outputs": [
    {
     "name": "stdout",
     "output_type": "stream",
     "text": [
      "does x==0.687?\n"
     ]
    }
   ],
   "source": [
    "# this is a small sanity check\n",
    "\n",
    "\n",
    "x = estimate_prob(100,45,55,1000)\n",
    "print x\n",
    "assert 'float' in str(type(x))\n",
    "print \"does x==0.687?\""
   ]
  },
  {
   "cell_type": "markdown",
   "metadata": {},
   "source": [
    "## 6.2.2  Calculate the actual probablities and compare it to your estimates for:\n",
    "n= number of coins\n",
    "k1 = min number of heads\n",
    "k2 = upper limit of number of heads\n",
    "m = the number of experiments\n",
    "### 6.2.2.a n=100, k1 = 40, k2=60 m=100\n"
   ]
  },
  {
   "cell_type": "code",
   "execution_count": null,
   "metadata": {
    "collapsed": true
   },
   "outputs": [],
   "source": []
  },
  {
   "cell_type": "markdown",
   "metadata": {},
   "source": [
    "### 6.2.2.b n=100, k1 = 40, k2=60 m=1000"
   ]
  },
  {
   "cell_type": "code",
   "execution_count": null,
   "metadata": {
    "collapsed": true
   },
   "outputs": [],
   "source": []
  },
  {
   "cell_type": "markdown",
   "metadata": {},
   "source": [
    "# 6.3 Conditional probablity"
   ]
  },
  {
   "cell_type": "markdown",
   "metadata": {},
   "source": [
    "In a recent study, the following data were obtained in response to the question\"\n",
    "    \"Do you favor the proposal of the school’s combining the elementary and middle school students in one building?\"\n",
    "    \n",
    "Answers = [Yes, No, No opinion]\n",
    "Males = [75, 89, 10]\n",
    "Females = [105, 56, 6]\n",
    "\n",
    "If a person is selected at random, find these probabilities solving using python.\n",
    "1. The person has no opinion\n",
    "2. The person is a male or is against the issue.\n",
    "3. The person is a female, given that the person opposes the issue."
   ]
  },
  {
   "cell_type": "markdown",
   "metadata": {},
   "source": [
    "## 6.4 Matrix creation\n",
    "Write a 12 by 12 times table matrix shown below.\n",
    "Do this\n",
    "6.4.1 using nested for loops\n",
    "6.4.2 using numpy fromfunction array constructor\n",
    "6.4.3 using numpy broadcasting"
   ]
  },
  {
   "cell_type": "code",
   "execution_count": 7,
   "metadata": {},
   "outputs": [
    {
     "data": {
      "text/plain": [
       "array([[  1,   2,   3,   4,   5,   6,   7,   8,   9,  10,  11,  12],\n",
       "       [  2,   4,   6,   8,  10,  12,  14,  16,  18,  20,  22,  24],\n",
       "       [  3,   6,   9,  12,  15,  18,  21,  24,  27,  30,  33,  36],\n",
       "       [  4,   8,  12,  16,  20,  24,  28,  32,  36,  40,  44,  48],\n",
       "       [  5,  10,  15,  20,  25,  30,  35,  40,  45,  50,  55,  60],\n",
       "       [  6,  12,  18,  24,  30,  36,  42,  48,  54,  60,  66,  72],\n",
       "       [  7,  14,  21,  28,  35,  42,  49,  56,  63,  70,  77,  84],\n",
       "       [  8,  16,  24,  32,  40,  48,  56,  64,  72,  80,  88,  96],\n",
       "       [  9,  18,  27,  36,  45,  54,  63,  72,  81,  90,  99, 108],\n",
       "       [ 10,  20,  30,  40,  50,  60,  70,  80,  90, 100, 110, 120],\n",
       "       [ 11,  22,  33,  44,  55,  66,  77,  88,  99, 110, 121, 132],\n",
       "       [ 12,  24,  36,  48,  60,  72,  84,  96, 108, 120, 132, 144]])"
      ]
     },
     "execution_count": 7,
     "metadata": {},
     "output_type": "execute_result"
    }
   ],
   "source": [
    "from numpy import array \n",
    "array([[  1,   2,   3,   4,   5,   6,   7,   8,   9,  10,  11,  12],\n",
    "   [  2,   4,   6,   8,  10,  12,  14,  16,  18,  20,  22,  24],\n",
    "   [  3,   6,   9,  12,  15,  18,  21,  24,  27,  30,  33,  36],\n",
    "   [  4,   8,  12,  16,  20,  24,  28,  32,  36,  40,  44,  48],\n",
    "   [  5,  10,  15,  20,  25,  30,  35,  40,  45,  50,  55,  60],\n",
    "   [  6,  12,  18,  24,  30,  36,  42,  48,  54,  60,  66,  72],\n",
    "   [  7,  14,  21,  28,  35,  42,  49,  56,  63,  70,  77,  84],\n",
    "   [  8,  16,  24,  32,  40,  48,  56,  64,  72,  80,  88,  96],\n",
    "   [  9,  18,  27,  36,  45,  54,  63,  72,  81,  90,  99, 108],\n",
    "   [ 10,  20,  30,  40,  50,  60,  70,  80,  90, 100, 110, 120],\n",
    "   [ 11,  22,  33,  44,  55,  66,  77,  88,  99, 110, 121, 132],\n",
    "   [ 12,  24,  36,  48,  60,  72,  84,  96, 108, 120, 132, 144]])"
   ]
  },
  {
   "cell_type": "markdown",
   "metadata": {
    "collapsed": true
   },
   "source": [
    "## 6.5 \n",
    "Answer the following questions with respect to the\n",
    "https://data.cdc.gov/NCHS/NCHS-Leading-Causes-of-Death-United-States/bi63-dtpu\n",
    "    \n",
    "    \n",
    "How many patients were censored?\n",
    "What is the correlation coefficient between state and Suicide for deaths above 100 ?\n",
    "What is the average deaths for each state and type of cause ?\n",
    "What is the year that was the most deadly for each cause name ?"
   ]
  },
  {
   "cell_type": "code",
   "execution_count": 15,
   "metadata": {},
   "outputs": [
    {
     "data": {
      "text/html": [
       "<div>\n",
       "<table border=\"1\" class=\"dataframe\">\n",
       "  <thead>\n",
       "    <tr style=\"text-align: right;\">\n",
       "      <th></th>\n",
       "      <th>Year</th>\n",
       "      <th>113 Cause Name</th>\n",
       "      <th>Cause Name</th>\n",
       "      <th>State</th>\n",
       "      <th>Deaths</th>\n",
       "      <th>Age-adjusted Death Rate</th>\n",
       "    </tr>\n",
       "  </thead>\n",
       "  <tbody>\n",
       "    <tr>\n",
       "      <th>0</th>\n",
       "      <td>2016</td>\n",
       "      <td>Accidents (unintentional injuries) (V01-X59,Y8...</td>\n",
       "      <td>Unintentional injuries</td>\n",
       "      <td>Alabama</td>\n",
       "      <td>2755</td>\n",
       "      <td>55.5</td>\n",
       "    </tr>\n",
       "    <tr>\n",
       "      <th>1</th>\n",
       "      <td>2016</td>\n",
       "      <td>Accidents (unintentional injuries) (V01-X59,Y8...</td>\n",
       "      <td>Unintentional injuries</td>\n",
       "      <td>Alaska</td>\n",
       "      <td>439</td>\n",
       "      <td>63.1</td>\n",
       "    </tr>\n",
       "    <tr>\n",
       "      <th>2</th>\n",
       "      <td>2016</td>\n",
       "      <td>Accidents (unintentional injuries) (V01-X59,Y8...</td>\n",
       "      <td>Unintentional injuries</td>\n",
       "      <td>Arizona</td>\n",
       "      <td>4010</td>\n",
       "      <td>54.2</td>\n",
       "    </tr>\n",
       "    <tr>\n",
       "      <th>3</th>\n",
       "      <td>2016</td>\n",
       "      <td>Accidents (unintentional injuries) (V01-X59,Y8...</td>\n",
       "      <td>Unintentional injuries</td>\n",
       "      <td>Arkansas</td>\n",
       "      <td>1604</td>\n",
       "      <td>51.8</td>\n",
       "    </tr>\n",
       "    <tr>\n",
       "      <th>4</th>\n",
       "      <td>2016</td>\n",
       "      <td>Accidents (unintentional injuries) (V01-X59,Y8...</td>\n",
       "      <td>Unintentional injuries</td>\n",
       "      <td>California</td>\n",
       "      <td>13213</td>\n",
       "      <td>32.0</td>\n",
       "    </tr>\n",
       "  </tbody>\n",
       "</table>\n",
       "</div>"
      ],
      "text/plain": [
       "   Year                                     113 Cause Name  \\\n",
       "0  2016  Accidents (unintentional injuries) (V01-X59,Y8...   \n",
       "1  2016  Accidents (unintentional injuries) (V01-X59,Y8...   \n",
       "2  2016  Accidents (unintentional injuries) (V01-X59,Y8...   \n",
       "3  2016  Accidents (unintentional injuries) (V01-X59,Y8...   \n",
       "4  2016  Accidents (unintentional injuries) (V01-X59,Y8...   \n",
       "\n",
       "               Cause Name       State  Deaths  Age-adjusted Death Rate  \n",
       "0  Unintentional injuries     Alabama    2755                     55.5  \n",
       "1  Unintentional injuries      Alaska     439                     63.1  \n",
       "2  Unintentional injuries     Arizona    4010                     54.2  \n",
       "3  Unintentional injuries    Arkansas    1604                     51.8  \n",
       "4  Unintentional injuries  California   13213                     32.0  "
      ]
     },
     "execution_count": 15,
     "metadata": {},
     "output_type": "execute_result"
    }
   ],
   "source": [
    "import pandas as pd\n",
    "dfh = pd.read_csv(\".\\data\\NCHS_-_Leading_Causes_of_Death__United_States.csv\")\n",
    "dfh.head()"
   ]
  },
  {
   "cell_type": "code",
   "execution_count": null,
   "metadata": {
    "collapsed": true
   },
   "outputs": [],
   "source": []
  }
 ],
 "metadata": {
  "kernelspec": {
   "display_name": "Python 2",
   "language": "python",
   "name": "python2"
  },
  "language_info": {
   "codemirror_mode": {
    "name": "ipython",
    "version": 2
   },
   "file_extension": ".py",
   "mimetype": "text/x-python",
   "name": "python",
   "nbconvert_exporter": "python",
   "pygments_lexer": "ipython2",
   "version": "2.7.10"
  }
 },
 "nbformat": 4,
 "nbformat_minor": 2
}
