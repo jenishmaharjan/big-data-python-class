{
 "cells": [
  {
   "cell_type": "markdown",
   "metadata": {},
   "source": [
    "# More on Python Basics\n",
    "\n",
    "The content and the code excerpts have been derived from the following sources:\n",
    "\n",
    "1. 7 Python Random Module Functions You Should Know. https://www.techbeamers.com/using-python-random/\n",
    "2. What's the difference between Randrange and Randint functions. https://www.codecademy.com/en/forum_questions/521bcf2b548c359b28000367\n",
    "3. Python Regular Expressions https://www.tutorialspoint.com/python/python_reg_expressions.htm\n",
    "4. Python Regular Expression Tutorial https://www.datacamp.com/community/tutorials/python-regular-expression-tutorial\n",
    "5. Regular Expressions https://developers.google.com/edu/python/regular-expressions\n",
    "6. Map Filter and Reduce http://book.pythontips.com/en/latest/map_filter.html\n",
    "7. Python File Handling https://www.pythonforbeginners.com/cheatsheet/python-file-handling"
   ]
  },
  {
   "cell_type": "markdown",
   "metadata": {},
   "source": [
    "## Random Functions (from the Random Module)"
   ]
  },
  {
   "cell_type": "markdown",
   "metadata": {},
   "source": [
    "Random values can be generate using the following functions of the Random module in Python.\n",
    "\n",
    "#### 1. Randrange() Function.\n",
    "Syntax:\n",
    "    Randrange(stop)\n",
    "    or, Randrange (start, stop[,step])\n",
    "The stop value sets the boundary of the range."
   ]
  },
  {
   "cell_type": "code",
   "execution_count": 3,
   "metadata": {},
   "outputs": [
    {
     "name": "stdout",
     "output_type": "stream",
     "text": [
      "476\n"
     ]
    }
   ],
   "source": [
    "import random\n",
    "print(random.randrange(999))"
   ]
  },
  {
   "cell_type": "code",
   "execution_count": 6,
   "metadata": {},
   "outputs": [
    {
     "name": "stdout",
     "output_type": "stream",
     "text": [
      "40\n"
     ]
    }
   ],
   "source": [
    "print(random.randrange(0,1000,20)) #generate a random value in the intervals of 20 between 0 and 1000"
   ]
  },
  {
   "cell_type": "code",
   "execution_count": 10,
   "metadata": {},
   "outputs": [
    {
     "name": "stdout",
     "output_type": "stream",
     "text": [
      "24\n"
     ]
    }
   ],
   "source": [
    "print (random.randrange(20,25)) #generates a number between 20 and 25"
   ]
  },
  {
   "cell_type": "code",
   "execution_count": 50,
   "metadata": {},
   "outputs": [
    {
     "ename": "NameError",
     "evalue": "name 'random' is not defined",
     "output_type": "error",
     "traceback": [
      "\u001b[1;31m\u001b[0m",
      "\u001b[1;31mNameError\u001b[0mTraceback (most recent call last)",
      "\u001b[1;32m<ipython-input-50-bc44f1bc2056>\u001b[0m in \u001b[0;36m<module>\u001b[1;34m()\u001b[0m\n\u001b[1;32m----> 1\u001b[1;33m \u001b[1;32mprint\u001b[0m\u001b[1;33m(\u001b[0m\u001b[0mrandom\u001b[0m\u001b[1;33m.\u001b[0m\u001b[0mrandrange\u001b[0m\u001b[1;33m(\u001b[0m\u001b[1;36m0.2\u001b[0m\u001b[1;33m,\u001b[0m \u001b[1;36m0.5\u001b[0m\u001b[1;33m)\u001b[0m\u001b[1;33m)\u001b[0m \u001b[1;31m#randrange takes only integer arguments... hence the ERROR\u001b[0m\u001b[1;33m\u001b[0m\u001b[0m\n\u001b[0m",
      "\u001b[1;31mNameError\u001b[0m: name 'random' is not defined"
     ]
    }
   ],
   "source": [
    "print(random.randrange(0.2, 0.5)) #randrange takes only integer arguments... hence the ERROR"
   ]
  },
  {
   "cell_type": "markdown",
   "metadata": {},
   "source": [
    "#### 2. Random.Randint(Low, High)  Function.\n",
    "\n",
    "The randint() function is one of many functions which handle random numbers. It has two parameters low and high and generates an integer between low and high, inclusive."
   ]
  },
  {
   "cell_type": "code",
   "execution_count": 16,
   "metadata": {},
   "outputs": [
    {
     "name": "stdout",
     "output_type": "stream",
     "text": [
      "9\n",
      "0\n",
      "6\n",
      "1\n",
      "7\n"
     ]
    }
   ],
   "source": [
    "i = 0\n",
    "while i < 5:\n",
    "    # Get random number in range 0 through 9.\n",
    "     r = random.randint(0, 9)\n",
    "     print(r)\n",
    "     i += 1"
   ]
  },
  {
   "cell_type": "markdown",
   "metadata": {},
   "source": [
    "There is one slight difference between randrange and randint when used with just two parameters. randint(x,y) will return a value >= x and <= y, while randrange(x,y) will return a value >=x and < y (n.b. not less than or equal to y)\n",
    "\n",
    "When using 3 parameters, randint can take only 2 parameters."
   ]
  },
  {
   "cell_type": "markdown",
   "metadata": {},
   "source": [
    "#### 3. Random.Choice(Seq) Function.\n",
    "\n",
    "The choice() function arbitrarily determines an element from the given sequence."
   ]
  },
  {
   "cell_type": "code",
   "execution_count": 18,
   "metadata": {},
   "outputs": [
    {
     "name": "stdout",
     "output_type": "stream",
     "text": [
      "Ball\n",
      "1\n",
      "7\n",
      "B\n"
     ]
    }
   ],
   "source": [
    "# Generates a random string from the list of strings\n",
    "print(random.choice( ['Apple', 'Ball', 'Cat'] ))\n",
    "\n",
    "# Generates a random number from a list\n",
    "print(random.choice([-1, 1, 3.5, 9, 15]))\n",
    "\n",
    "# Generates a random number from a tuple\n",
    "print(random.choice((1.1, -5, 6, 4, 7)))\n",
    "\n",
    "# Generate as random char from a string\n",
    "print(random.choice('Life is Beautiful'))"
   ]
  },
  {
   "cell_type": "markdown",
   "metadata": {},
   "source": [
    "#### 4. Random.Shuffle(List) Function.\n",
    "Purpose- The shuffle() function rearranges the items of a list in place so that they occur in a random order.\n",
    "\n",
    "For shuffling, it uses the Fisher-Yates algorithm which has O(n) complexity. It starts by iterating the last element in the array to the first entry, then swap each entry with an entry at a random index below it."
   ]
  },
  {
   "cell_type": "code",
   "execution_count": 20,
   "metadata": {},
   "outputs": [
    {
     "name": "stdout",
     "output_type": "stream",
     "text": [
      "[41, 51, 31, 11, 21]\n"
     ]
    }
   ],
   "source": [
    "from random import shuffle\n",
    "\n",
    "mylist = [11,21,31,41,51]\n",
    "shuffle(mylist)\n",
    "\n",
    "print(mylist)"
   ]
  },
  {
   "cell_type": "markdown",
   "metadata": {},
   "source": [
    "#### 5. Random.Sample(Collection, Random List Length) Function.\n",
    "\n",
    "The sample() function randomly selects N items from a given collection (list, tuple, string, dictionary, set) and returns them as a list. It works by sampling the items without replacement. It means a single element from the sequence can appear in the resultant list at most once."
   ]
  },
  {
   "cell_type": "code",
   "execution_count": 22,
   "metadata": {},
   "outputs": [
    {
     "name": "stdout",
     "output_type": "stream",
     "text": [
      "['a', 'p', 'N']\n",
      "[21, 24, -31]\n",
      "[-12, -14, 11]\n",
      "[140, 120, 130]\n",
      "['EFG', 'ABC', 'CDE']\n"
     ]
    }
   ],
   "source": [
    "from random import sample\n",
    "\n",
    "print(sample('Nepal',3)) # Selects any 2 chars from a string\n",
    "print(sample((21, 12, -31, 24, 65, 16.3), 3)) # Creates a tuple of any three elements from a base tuple\n",
    "print(sample([11, 12, 13, 14, -11, -12, -13, -14], 3)) # Randomly selects a list of three elements from a base list\n",
    "print(sample({110, 120, 130, 140}, 3)) # Randomly selects a subset of size three from a given set of numbers\n",
    "print(sample({'ABC', 'BCD', 'CDE', 'EFG'}, 3)) # Randomly selects a subset of size three from a given set of strings"
   ]
  },
  {
   "cell_type": "markdown",
   "metadata": {},
   "source": [
    "#### 6. Random.Random() Function.\n",
    "\n",
    "It selects the next random floating point number from the range [0.0, 1.0]. It is a semi-open range as the random function will always return a decimal no. less than its upper bound. However, it may return 0.\n"
   ]
  },
  {
   "cell_type": "code",
   "execution_count": 26,
   "metadata": {},
   "outputs": [
    {
     "name": "stdout",
     "output_type": "stream",
     "text": [
      "0.261579937049\n",
      "0.608479898102\n",
      "0.657566887448\n"
     ]
    }
   ],
   "source": [
    "from random import random\n",
    "print(random())\n",
    "print(random())\n",
    "print(random())"
   ]
  },
  {
   "cell_type": "markdown",
   "metadata": {},
   "source": [
    "#### 7.Random.Uniform(Lower, Upper) Function.\n",
    "It is an extension of the random() function. In this, you can specify the lower and upper bounds to generate a random number other than the ones between 0 and 1."
   ]
  },
  {
   "cell_type": "code",
   "execution_count": 31,
   "metadata": {},
   "outputs": [
    {
     "name": "stdout",
     "output_type": "stream",
     "text": [
      "506.356121176\n",
      "733.243790287\n",
      "729.920066651\n"
     ]
    }
   ],
   "source": [
    "import random\n",
    "print(random.uniform(500, 900))\n",
    "print(random.uniform(500, 900))\n",
    "print(random.uniform(500, 900))"
   ]
  },
  {
   "cell_type": "code",
   "execution_count": 34,
   "metadata": {},
   "outputs": [
    {
     "name": "stdout",
     "output_type": "stream",
     "text": [
      "1.32\n"
     ]
    }
   ],
   "source": [
    "# Generate a floating-point random number with fixed precision\n",
    "import random\n",
    "\n",
    "lower = 1.0; upper = 2.0; fixed_precision = 2\n",
    "random_float = random.uniform(lower, upper)\n",
    "print(round(random_float, fixed_precision)) \n",
    "#USING THE ROUND function to roundup to the fixed precision which is 2 in this case"
   ]
  },
  {
   "cell_type": "markdown",
   "metadata": {},
   "source": [
    "## REGEX - REGular EXpressions in Python"
   ]
  },
  {
   "cell_type": "markdown",
   "metadata": {},
   "source": [
    "A regular expression is a special sequence of characters that helps you match or find other strings or sets of strings, using a specialized syntax held in a pattern. The module re provides full support for Perl-like regular expressions in Python. The re module raises the exception re.error if an error occurs while compiling or using a regular expression."
   ]
  },
  {
   "cell_type": "markdown",
   "metadata": {},
   "source": [
    "#### Match() Function\n",
    "This function attempts to match RE pattern to string with optional flags.\n",
    "\n",
    "Syntax: re.match(pattern, string, flags=0)"
   ]
  },
  {
   "cell_type": "code",
   "execution_count": 8,
   "metadata": {},
   "outputs": [
    {
     "name": "stdout",
     "output_type": "stream",
     "text": [
      "matchObj.group() :  Maths is easier than Literature\n",
      "matchObj.group(1) :  Maths\n",
      "matchObj.group(2) :  easier\n"
     ]
    }
   ],
   "source": [
    "import re\n",
    "\n",
    "line = \"Maths is easier than Literature\"\n",
    "\n",
    "matchObj = re.match( r'(.*) is (.*?) .*', line, re.M|re.I)\n",
    "\n",
    "if matchObj:\n",
    "    print \"matchObj.group() : \", matchObj.group()\n",
    "    print \"matchObj.group(1) : \", matchObj.group(1)\n",
    "    print \"matchObj.group(2) : \", matchObj.group(2)\n",
    "else:\n",
    "    print \"No match!!\""
   ]
  },
  {
   "cell_type": "markdown",
   "metadata": {},
   "source": [
    "#### Search() Function\n",
    "This function searches for first occurrence of RE pattern within string with optional flags.\n",
    "\n",
    "Syntax: re.search(pattern, string, flags=0)"
   ]
  },
  {
   "cell_type": "code",
   "execution_count": 10,
   "metadata": {},
   "outputs": [
    {
     "name": "stdout",
     "output_type": "stream",
     "text": [
      "searchObj.group() :  Maths is easier than Literature\n",
      "searchObj.group(1) :  Maths\n",
      "searchObj.group(2) :  easier\n"
     ]
    }
   ],
   "source": [
    "import re\n",
    "\n",
    "line = \"Maths is easier than Literature\";\n",
    "\n",
    "searchObj = re.search( r'(.*) is (.*?) .*', line, re.M|re.I)\n",
    "\n",
    "if searchObj:\n",
    "    print \"searchObj.group() : \", searchObj.group()\n",
    "    print \"searchObj.group(1) : \", searchObj.group(1)\n",
    "    print \"searchObj.group(2) : \", searchObj.group(2)\n",
    "else:\n",
    "    print \"Nothing found!!\""
   ]
  },
  {
   "cell_type": "markdown",
   "metadata": {},
   "source": [
    "Match() checks for a match only at the beginning of the string, while Search() checks for a match anywhere in the string"
   ]
  },
  {
   "cell_type": "code",
   "execution_count": 11,
   "metadata": {},
   "outputs": [
    {
     "name": "stdout",
     "output_type": "stream",
     "text": [
      "No match!!\n",
      "search --> searchObj.group() :  bicycles\n"
     ]
    }
   ],
   "source": [
    "import re\n",
    "\n",
    "line = \"Cars are faster than bicycles\";\n",
    "\n",
    "matchObj = re.match( r'bicycles', line, re.M|re.I)\n",
    "if matchObj:\n",
    "    print \"match --> matchObj.group() : \", matchObj.group()\n",
    "else:\n",
    "    print \"No match!!\"\n",
    "\n",
    "searchObj = re.search( r'bicycles', line, re.M|re.I)\n",
    "if searchObj:\n",
    "    print \"search --> searchObj.group() : \", searchObj.group()\n",
    "else:\n",
    "    print \"Nothing found!!\""
   ]
  },
  {
   "cell_type": "markdown",
   "metadata": {},
   "source": [
    "#### Sub()\n",
    "This method replaces all occurrences of the RE pattern in string with repl, substituting all occurrences unless max provided. This method returns modified string.\n",
    "\n",
    "Syntax: re.sub(pattern, repl, string, max=0)"
   ]
  },
  {
   "cell_type": "code",
   "execution_count": 16,
   "metadata": {},
   "outputs": [
    {
     "name": "stdout",
     "output_type": "stream",
     "text": [
      "('Phone Num : ', '610-845-2975 ')\n",
      "('Phone Num : ', '6108452975')\n",
      "('Phone Num : ', '972-845-2975 # This is Phone Number')\n"
     ]
    }
   ],
   "source": [
    "import re\n",
    "\n",
    "phone = \"610-845-2975 # This is Phone Number\"\n",
    "\n",
    "num = re.sub(r'#.*$', \"\", phone) #Removing # by replacing it wih \"\"\n",
    "print (\"Phone Num : \", num)\n",
    "\n",
    "num = re.sub(r'\\D', \"\", phone) #Removing all characters except digits.   \n",
    "print (\"Phone Num : \", num)\n",
    "\n",
    "num = re.sub(r'610',\"972\", phone) #replacing the area code of the phone number\n",
    "print (\"Phone Num : \", num)"
   ]
  },
  {
   "cell_type": "markdown",
   "metadata": {},
   "source": [
    "#### Wild Card Characters: Special Characters\n",
    "Special characters are characters which do not match themselves as seen but actually have a special meaning when used in a regular expression.\n",
    "\n",
    "The most widely used special characters are:\n",
    "\n",
    ". - A period. Matches any single character except newline character."
   ]
  },
  {
   "cell_type": "code",
   "execution_count": 19,
   "metadata": {},
   "outputs": [
    {
     "data": {
      "text/plain": [
       "'Cookie'"
      ]
     },
     "execution_count": 19,
     "metadata": {},
     "output_type": "execute_result"
    }
   ],
   "source": [
    "re.search(r'Co.k.e', 'Cookie').group() #The group() function returns the string matched by the re."
   ]
  },
  {
   "cell_type": "markdown",
   "metadata": {},
   "source": [
    "\\w - Lowercase w. Matches any single letter, digit or underscore."
   ]
  },
  {
   "cell_type": "code",
   "execution_count": 20,
   "metadata": {},
   "outputs": [
    {
     "data": {
      "text/plain": [
       "'Cookie'"
      ]
     },
     "execution_count": 20,
     "metadata": {},
     "output_type": "execute_result"
    }
   ],
   "source": [
    "re.search(r'Co\\wk\\we', 'Cookie').group()"
   ]
  },
  {
   "cell_type": "markdown",
   "metadata": {},
   "source": [
    "\\W - Uppercase w. Matches any character not part of \\w (lowercase w)."
   ]
  },
  {
   "cell_type": "code",
   "execution_count": 22,
   "metadata": {},
   "outputs": [
    {
     "data": {
      "text/plain": [
       "'C@ke'"
      ]
     },
     "execution_count": 22,
     "metadata": {},
     "output_type": "execute_result"
    }
   ],
   "source": [
    "re.search(r'C\\Wke', 'C@ke').group()"
   ]
  },
  {
   "cell_type": "markdown",
   "metadata": {},
   "source": [
    "\\s - Lowercase s. Matches a single whitespace character like: space, newline, tab, return.\n",
    "\\S - Uppercase s. Matches any character not part of \\s (lowercase s)."
   ]
  },
  {
   "cell_type": "code",
   "execution_count": 25,
   "metadata": {},
   "outputs": [
    {
     "name": "stdout",
     "output_type": "stream",
     "text": [
      "Eat cake\n",
      "Cookie\n"
     ]
    }
   ],
   "source": [
    "print(re.search(r'Eat\\scake', 'Eat cake').group())\n",
    "print(re.search(r'Cook\\Se', 'Cookie').group())\n"
   ]
  },
  {
   "cell_type": "code",
   "execution_count": 32,
   "metadata": {},
   "outputs": [
    {
     "name": "stdout",
     "output_type": "stream",
     "text": [
      "c00kie\n",
      "Eat\n",
      "cake\n",
      "Number: 5\n",
      "Number: 0\n",
      "Cookie\n",
      "Cookie\n",
      "Back\\stail\n",
      "Back tail\n"
     ]
    }
   ],
   "source": [
    "#\\d - Lowercase d. Matches decimal digit 0-9.\n",
    "print(re.search(r'c\\d\\dkie', 'c00kie').group())\n",
    "\n",
    "#^ - Caret. Matches a pattern at the start of the string.\n",
    "print(re.search(r'^Eat', 'Eat cake').group())\n",
    "\n",
    "#$ - Matches a pattern at the end of string.\n",
    "print(re.search(r'cake$', 'Eat cake').group())\n",
    "\n",
    "#[abc] - Matches a or b or c.\n",
    "#[a-zA-Z0-9] - Matches any letter from (a to z) or (A to Z) or (0 to 9). Characters that are not within a range can be matched by complementing the set. If the first character of the set is ^, all the characters that are not in the set will be matched.\n",
    "print(re.search(r'Number: [0-6]', 'Number: 5').group())\n",
    "\n",
    "#Matches any character except 5\n",
    "print(re.search(r'Number: [^5]', 'Number: 0').group())\n",
    "#\\A - Uppercase a. Matches only at the start of the string. Works across multiple lines as well.\n",
    "print(re.search(r'\\A[A-E]ookie', 'Cookie').group())\n",
    "#\\b - Lowercase b. Matches only the beginning or end of the word.\n",
    "print(re.search(r'\\b[A-E]ookie', 'Cookie').group())\n",
    "\n",
    "#\\ - Backslash. If the character following the backslash is a recognized escape character, then the special meaning of the term is taken. For example, \\n is considered as newline. However, if the character following the \\ is not a recognized escape character, then the \\ is treated like any other character and passed through.\n",
    "\n",
    "# This checks for '\\' in the string instead of '\\t' due to the '\\' used \n",
    "print(re.search(r'Back\\\\stail', 'Back\\stail').group())\n",
    "\n",
    "# This treats '\\s' as an escape character because it lacks '\\' at the start of '\\s'\n",
    "print(re.search(r'Back\\stail', 'Back tail').group())"
   ]
  },
  {
   "cell_type": "markdown",
   "metadata": {},
   "source": [
    "#### Repetitions\n",
    "It becomes quite tedious if you are looking to find long patterns in a sequence. Fortunately, the re module handles repetitions using the following special characters:"
   ]
  },
  {
   "cell_type": "code",
   "execution_count": 33,
   "metadata": {},
   "outputs": [
    {
     "name": "stdout",
     "output_type": "stream",
     "text": [
      "Cooookie\n",
      "Caokie\n",
      "Color\n"
     ]
    }
   ],
   "source": [
    "# + - Checks for one or more characters to its left.\n",
    "print(re.search(r'Co+kie', 'Cooookie').group())\n",
    "\n",
    "# * - Checks for zero or more characters to its left.\n",
    "# Checks for any occurrence of a or o or both in the given sequence\n",
    "print(re.search(r'Ca*o*kie', 'Caokie').group())\n",
    "\n",
    "# ? - Checks for exactly zero or one character to its left.\n",
    "# Checks for exactly zero or one occurrence of a or o or both in the given sequence\n",
    "print(re.search(r'Colou?r', 'Color').group())"
   ]
  },
  {
   "cell_type": "markdown",
   "metadata": {},
   "source": [
    "But what if you want to check for exact number of sequence repetition?\n",
    "\n",
    "For example, checking the validity of a phone number in an application. re module handles this very gracefully as well using the following regular expressions:\n",
    "\n",
    "{x} - Repeat exactly x number of times.\n",
    "\n",
    "{x,} - Repeat at least x times or more.\n",
    "\n",
    "{x, y} - Repeat at least x times but no more than y times.\n",
    "\n",
    "The + and * qualifiers are said to be greedy."
   ]
  },
  {
   "cell_type": "code",
   "execution_count": 34,
   "metadata": {},
   "outputs": [
    {
     "data": {
      "text/plain": [
       "'0987654321'"
      ]
     },
     "execution_count": 34,
     "metadata": {},
     "output_type": "execute_result"
    }
   ],
   "source": [
    "re.search(r'\\d{9,10}', '0987654321').group()"
   ]
  },
  {
   "cell_type": "markdown",
   "metadata": {},
   "source": [
    "##### Here's a cheat sheet for the regular expressions: https://www.dataquest.io/blog/regex-cheatsheet/"
   ]
  },
  {
   "cell_type": "markdown",
   "metadata": {},
   "source": [
    "## Map, Filter and Reduce"
   ]
  },
  {
   "cell_type": "markdown",
   "metadata": {},
   "source": [
    "#### Map() \n",
    "Map() applies a function to all the items in an input_list.\n",
    "Syntax: map(function_to_apply, list_of_inputs)"
   ]
  },
  {
   "cell_type": "code",
   "execution_count": 36,
   "metadata": {},
   "outputs": [
    {
     "name": "stdout",
     "output_type": "stream",
     "text": [
      "[1, 4, 9, 16, 25]\n"
     ]
    }
   ],
   "source": [
    "#Without using Map()\n",
    "items = [1, 2, 3, 4, 5]\n",
    "squared = []\n",
    "for i in items:\n",
    "    squared.append(i**2)\n",
    "print(squared)"
   ]
  },
  {
   "cell_type": "code",
   "execution_count": 38,
   "metadata": {},
   "outputs": [
    {
     "name": "stdout",
     "output_type": "stream",
     "text": [
      "[1, 4, 9, 16, 25]\n"
     ]
    }
   ],
   "source": [
    "#Using Map()\n",
    "items = [1, 2, 3, 4, 5]\n",
    "squared = list(map(lambda x: x**2, items))\n",
    "print(squared)"
   ]
  },
  {
   "cell_type": "code",
   "execution_count": 39,
   "metadata": {},
   "outputs": [
    {
     "name": "stdout",
     "output_type": "stream",
     "text": [
      "[0, 0]\n",
      "[1, 2]\n",
      "[4, 4]\n",
      "[9, 6]\n",
      "[16, 8]\n"
     ]
    }
   ],
   "source": [
    "#We can also use a list of functions\n",
    "def multiply(x):\n",
    "    return (x*x)\n",
    "def add(x):\n",
    "    return (x+x)\n",
    "\n",
    "funcs = [multiply, add]\n",
    "for i in range(5):\n",
    "    value = list(map(lambda x: x(i), funcs))\n",
    "    print(value)"
   ]
  },
  {
   "cell_type": "markdown",
   "metadata": {},
   "source": [
    "#### Filter()\n",
    "Filter creates a list of elements for which a function returns true."
   ]
  },
  {
   "cell_type": "code",
   "execution_count": 40,
   "metadata": {},
   "outputs": [
    {
     "name": "stdout",
     "output_type": "stream",
     "text": [
      "[-5, -4, -3, -2, -1]\n"
     ]
    }
   ],
   "source": [
    "number_list = range(-5, 5)\n",
    "less_than_zero = list(filter(lambda x: x < 0, number_list))\n",
    "print(less_than_zero)"
   ]
  },
  {
   "cell_type": "markdown",
   "metadata": {},
   "source": [
    "#### Reduce()\n",
    "Reduce is a really useful function for performing some computation on a list and returning the result. It applies a rolling computation to sequential pairs of values in a list."
   ]
  },
  {
   "cell_type": "code",
   "execution_count": 43,
   "metadata": {},
   "outputs": [
    {
     "name": "stdout",
     "output_type": "stream",
     "text": [
      "24\n"
     ]
    }
   ],
   "source": [
    "product = reduce((lambda x, y: x * y), [1, 2, 3, 4])\n",
    "print (product) # prints the product of the integerst in the list [1,2,3,4]"
   ]
  },
  {
   "cell_type": "markdown",
   "metadata": {},
   "source": [
    "## File Handling in Python\n",
    "File handling in Python requires no importing of modules. Instead we can use the built-in object \"file\". That object provides basic functions and methods necessary to manipulate files by default. "
   ]
  },
  {
   "cell_type": "markdown",
   "metadata": {},
   "source": [
    "### Open()\n",
    "The open() function is used to open files in our system, the filename is the name of the file to be opened. \n",
    "The mode indicates, how the file is going to be opened \"r\" for reading, \"w\" for writing and \"a\" for a appending. \n"
   ]
  },
  {
   "cell_type": "code",
   "execution_count": 45,
   "metadata": {},
   "outputs": [
    {
     "name": "stdout",
     "output_type": "stream",
     "text": [
      "This is a hello.txt.\n",
      "Using this for file handling.\n"
     ]
    }
   ],
   "source": [
    "filename = \"hello.txt\"\n",
    "file = open(filename, \"r\")\n",
    "for line in file:\n",
    "    print line,"
   ]
  },
  {
   "cell_type": "markdown",
   "metadata": {},
   "source": [
    "#### Read ()\n",
    "The read functions contains different methods, read(),readline() and readlines()\n",
    "read() -- return one big string\n",
    "readline -- #return one line at a time\n",
    "readlines -- returns a list of lines\n",
    "\n",
    "#### Write ()\n",
    "This method writes a sequence of strings to the file.\n",
    "\n",
    "write() -- Used to write a fixed sequence of characters to a file\n",
    "writelines() -- writelines can write a list of strings.\n",
    "\n",
    "#### Append ()\n",
    "The append function is used to append to the file instead of overwriting it.\n",
    "To append to an existing file, simply open the file in append mode (\"a\"):\n",
    "\n",
    "#### Close()\n",
    "When you’re done with a file, use close() to close it and free up any system\n",
    "resources taken up by the open file"
   ]
  },
  {
   "cell_type": "code",
   "execution_count": 49,
   "metadata": {},
   "outputs": [
    {
     "name": "stdout",
     "output_type": "stream",
     "text": [
      "a line of textanother line of texta third line\n",
      "a line of textanother line of texta third line\n",
      "['a line of textanother line of texta third line']\n",
      "a line of textanother line of texta third lineHello World again\n"
     ]
    }
   ],
   "source": [
    "#To open a text file, use:\n",
    "fh = open(\"hello.txt\", \"r\")\n",
    "\n",
    "#To read a text file, use:\n",
    "fh = open(\"hello.txt\",\"r\")\n",
    "print fh.read()\n",
    "\n",
    "#To read one line at a time, use:\n",
    "fh = open(\"hello.txt\", \"r\")\n",
    "print fh.readline()\n",
    "\n",
    "#To read a list of lines use:\n",
    "fh = open(\"hello.txt.\", \"r\")\n",
    "print fh.readlines()\n",
    "\n",
    "#To write to a file, use:\n",
    "fh = open(\"hello.txt\",\"w\")\n",
    "fh.write(\"Hello World\")\n",
    "fh.close()\n",
    "\n",
    "#To write to a file, use:\n",
    "fh = open(\"hello.txt\", \"w\")\n",
    "lines_of_text = [\"a line of text\", \"another line of text\", \"a third line\"]\n",
    "fh.writelines(lines_of_text)\n",
    "fh.close()\n",
    "\n",
    "#To append to file, use:\n",
    "fh = open(\"Hello.txt\", \"a\")\n",
    "fh.write(\"Hello World again\")\n",
    "fh.close\n",
    "\n",
    "#To close a file, use\n",
    "fh = open(\"hello.txt\", \"r\")\n",
    "print fh.read()\n",
    "fh.close()"
   ]
  },
  {
   "cell_type": "markdown",
   "metadata": {},
   "source": [
    "## List Comprehensions\n",
    "List comprehensions provide a concise way to create lists. It consists of brackets containing an expression followed by a for clause, then zero or more for or if clauses. The expressions can be anything, meaning you can put in all kinds of objects in lists. The result will be a new list resulting from evaluating the expression in the context of the for and if clauses which follow it. \n",
    "\n",
    "The list comprehension always returns a result list.\n",
    "\n",
    "Syntax: [expression for item in list if conditional]"
   ]
  },
  {
   "cell_type": "code",
   "execution_count": 53,
   "metadata": {},
   "outputs": [
    {
     "name": "stdout",
     "output_type": "stream",
     "text": [
      "[0, 1, 2, 3, 4, 5, 6, 7, 8, 9]\n"
     ]
    }
   ],
   "source": [
    "x = [i for i in range(10)]\n",
    "print x"
   ]
  },
  {
   "cell_type": "code",
   "execution_count": 55,
   "metadata": {},
   "outputs": [
    {
     "name": "stdout",
     "output_type": "stream",
     "text": [
      "[0, 1, 4, 9, 16, 25, 36, 49, 64, 81]\n",
      "[0, 1, 4, 9, 16, 25, 36, 49, 64, 81]\n"
     ]
    }
   ],
   "source": [
    "squares = []\n",
    "for x in range(10):\n",
    "    squares.append(x**2)\n",
    "print squares\n",
    "\n",
    "# Or you can use list comprehensions to get the same result:\n",
    "squares = [x**2 for x in range(10)]\n",
    "print squares"
   ]
  },
  {
   "cell_type": "code",
   "execution_count": 56,
   "metadata": {},
   "outputs": [
    {
     "name": "stdout",
     "output_type": "stream",
     "text": [
      "['t', 'i', 'a', 'l', 'o', 'w']\n"
     ]
    }
   ],
   "source": [
    "listOfWords = [\"this\",\"is\",\"a\",\"list\",\"of\",\"words\"]\n",
    "items = [ word[0] for word in listOfWords ]\n",
    "print items"
   ]
  },
  {
   "cell_type": "code",
   "execution_count": 57,
   "metadata": {},
   "outputs": [
    {
     "data": {
      "text/plain": [
       "['a', 'b', 'c']"
      ]
     },
     "execution_count": 57,
     "metadata": {},
     "output_type": "execute_result"
    }
   ],
   "source": [
    "[x.lower() for x in [\"A\",\"B\",\"C\"]]"
   ]
  },
  {
   "cell_type": "code",
   "execution_count": 65,
   "metadata": {},
   "outputs": [
    {
     "name": "stdout",
     "output_type": "stream",
     "text": [
      "['1', '2', '3', '4', '5']\n"
     ]
    }
   ],
   "source": [
    "string = \"Hello 12345 World\"\n",
    "numbers = [x for x in string if x.isdigit()]\n",
    "print numbers"
   ]
  }
 ],
 "metadata": {
  "kernelspec": {
   "display_name": "Python 2",
   "language": "python",
   "name": "python2"
  },
  "language_info": {
   "codemirror_mode": {
    "name": "ipython",
    "version": 2
   },
   "file_extension": ".py",
   "mimetype": "text/x-python",
   "name": "python",
   "nbconvert_exporter": "python",
   "pygments_lexer": "ipython2",
   "version": "2.7.15"
  }
 },
 "nbformat": 4,
 "nbformat_minor": 2
}
