{
 "cells": [
  {
   "cell_type": "markdown",
   "metadata": {},
   "source": [
    "# Dictionaries"
   ]
  },
  {
   "cell_type": "markdown",
   "metadata": {},
   "source": [
    "The following content and the code excerpts have been derived from the following sources:\n",
    "\n",
    "1. Dictionaries, LearnPython.org. https://www.learnpython.org/en/Dictionaries\n",
    "2. Merging two Dictionaries. https://www.geeksforgeeks.org/python-merging-two-dictionaries/\n",
    "3. How to Loop a Dictionary. https://www.mkyong.com/python/python-how-to-loop-a-dictionary/\n",
    "4. Dictionary methods in Python. https://www.geeksforgeeks.org/dictionary-methods-in-python-set-1-cmp-len-items/\n",
    "\n",
    "##### \"A dictionary is a data type similar to arrays, but works with keys and values instead of indexes. Each value stored in a dictionary can be accessed using a key, which is any type of object (a string, a number, a list, etc.) instead of using its index to address it.\"\n",
    "\n",
    "A dictionary can be identified using curly braces."
   ]
  },
  {
   "cell_type": "markdown",
   "metadata": {},
   "source": [
    "## Creating Dictionaries"
   ]
  },
  {
   "cell_type": "code",
   "execution_count": 7,
   "metadata": {},
   "outputs": [
    {
     "name": "stdout",
     "output_type": "stream",
     "text": [
      "{'Jill': 947662781, 'John': 938477566, 'Jack': 938377264}\n",
      "<type 'dict'>\n"
     ]
    }
   ],
   "source": [
    "phonebook = {} #empty dictionary is defined\n",
    "\n",
    "#adding elements using keys and values\n",
    "phonebook[\"John\"] = 938477566\n",
    "phonebook[\"Jack\"] = 938377264\n",
    "phonebook[\"Jill\"] = 947662781\n",
    "print(phonebook)\n",
    "print(type(phonebook))\n"
   ]
  },
  {
   "cell_type": "code",
   "execution_count": 6,
   "metadata": {},
   "outputs": [
    {
     "name": "stdout",
     "output_type": "stream",
     "text": [
      "{'Jill': 947662781, 'John': 938477566, 'Jack': 938377264}\n",
      "<type 'dict'>\n"
     ]
    }
   ],
   "source": [
    "#dictionary can be defined as follows too\n",
    "phonebook = {\n",
    "    \"John\" : 938477566,\n",
    "    \"Jack\" : 938377264,\n",
    "    \"Jill\" : 947662781\n",
    "}\n",
    "print(phonebook)\n",
    "print(type(phonebook))"
   ]
  },
  {
   "cell_type": "markdown",
   "metadata": {},
   "source": [
    "## Accessing, Modifying and Deleting items in a Dictionary"
   ]
  },
  {
   "cell_type": "markdown",
   "metadata": {},
   "source": [
    "### Accessing items in a Dictionary"
   ]
  },
  {
   "cell_type": "markdown",
   "metadata": {},
   "source": [
    "Dictionaries use the keys in the key-value pairs to access its elements. We can use the functions items() to access the items in a ditionary. \n",
    "\n",
    "Syntax: dictionary.items() "
   ]
  },
  {
   "cell_type": "code",
   "execution_count": 9,
   "metadata": {},
   "outputs": [
    {
     "name": "stdout",
     "output_type": "stream",
     "text": [
      "938477566\n"
     ]
    }
   ],
   "source": [
    "print(phonebook['John']) #prints the value associated with the key 'John' in the dictionary phonebook"
   ]
  },
  {
   "cell_type": "code",
   "execution_count": 20,
   "metadata": {},
   "outputs": [
    {
     "name": "stdout",
     "output_type": "stream",
     "text": [
      "Phone number of Jill is 938118406\n",
      "Phone number of John is 938477566\n",
      "Phone number of Jack is 938377264\n",
      "[('Jill', 938118406), ('John', 938477566), ('Jack', 938377264)]\n"
     ]
    }
   ],
   "source": [
    "#We can iterate over the items in a dictionary using loops\n",
    "for name, number in phonebook.items():\n",
    "    print(\"Phone number of %s is %d\" % (name, number))\n",
    "    \n",
    "print (phonebook.items()) #gives the list of key-value pairs"
   ]
  },
  {
   "cell_type": "markdown",
   "metadata": {},
   "source": [
    "### Modifying items in a Dictionary"
   ]
  },
  {
   "cell_type": "markdown",
   "metadata": {},
   "source": [
    "We can use the update() function to modify an item in the dictionary or simply use the = operator."
   ]
  },
  {
   "cell_type": "code",
   "execution_count": 25,
   "metadata": {},
   "outputs": [
    {
     "name": "stdout",
     "output_type": "stream",
     "text": [
      "Phone number of Jill is 938118406\n",
      "Phone number of John is 938477566\n",
      "Phone number of Jack is 938377264\n"
     ]
    }
   ],
   "source": [
    "phonebook.update({'Jill': 938118406}) #assigns new value to the item with the key 'Jill' using update() function\n",
    "for name, number in phonebook.items():\n",
    "    print(\"Phone number of %s is %d\" % (name, number))"
   ]
  },
  {
   "cell_type": "code",
   "execution_count": 24,
   "metadata": {},
   "outputs": [
    {
     "name": "stdout",
     "output_type": "stream",
     "text": [
      "Phone number of Jill is 845126794\n",
      "Phone number of John is 938477566\n",
      "Phone number of Jack is 938377264\n"
     ]
    }
   ],
   "source": [
    "phonebook['Jill'] = 845126794 #assigns new value to the item with the key 'Jill' using = operator\n",
    "for name, number in phonebook.items():\n",
    "    print(\"Phone number of %s is %d\" % (name, number))"
   ]
  },
  {
   "cell_type": "markdown",
   "metadata": {},
   "source": [
    "### Deleting Items in a Dictionary"
   ]
  },
  {
   "cell_type": "markdown",
   "metadata": {},
   "source": [
    "We can use the del() function or the pop() function to delete items from a Dictionary"
   ]
  },
  {
   "cell_type": "code",
   "execution_count": 26,
   "metadata": {},
   "outputs": [
    {
     "name": "stdout",
     "output_type": "stream",
     "text": [
      "{'Jill': 938118406, 'Jack': 938377264}\n"
     ]
    }
   ],
   "source": [
    "del phonebook[\"John\"]\n",
    "print(phonebook)"
   ]
  },
  {
   "cell_type": "code",
   "execution_count": 27,
   "metadata": {},
   "outputs": [
    {
     "ename": "KeyError",
     "evalue": "'John'",
     "output_type": "error",
     "traceback": [
      "\u001b[1;31m\u001b[0m",
      "\u001b[1;31mKeyError\u001b[0mTraceback (most recent call last)",
      "\u001b[1;32m<ipython-input-27-57c34b29c14f>\u001b[0m in \u001b[0;36m<module>\u001b[1;34m()\u001b[0m\n\u001b[1;32m----> 1\u001b[1;33m \u001b[0mphonebook\u001b[0m\u001b[1;33m.\u001b[0m\u001b[0mpop\u001b[0m\u001b[1;33m(\u001b[0m\u001b[1;34m\"John\"\u001b[0m\u001b[1;33m)\u001b[0m\u001b[1;33m\u001b[0m\u001b[0m\n\u001b[0m\u001b[0;32m      2\u001b[0m \u001b[1;32mprint\u001b[0m\u001b[1;33m(\u001b[0m\u001b[0mphonebook\u001b[0m\u001b[1;33m)\u001b[0m\u001b[1;33m\u001b[0m\u001b[0m\n",
      "\u001b[1;31mKeyError\u001b[0m: 'John'"
     ]
    }
   ],
   "source": [
    "phonebook.pop(\"John\") #throws error because the key 'John' does not exist in the dictionary object phonebook anymore\n",
    "print(phonebook)"
   ]
  },
  {
   "cell_type": "code",
   "execution_count": 28,
   "metadata": {},
   "outputs": [
    {
     "name": "stdout",
     "output_type": "stream",
     "text": [
      "{'Jack': 938377264}\n"
     ]
    }
   ],
   "source": [
    "phonebook.pop(\"Jill\")\n",
    "print(phonebook)"
   ]
  },
  {
   "cell_type": "markdown",
   "metadata": {},
   "source": [
    "## Merging two dictionaries"
   ]
  },
  {
   "cell_type": "markdown",
   "metadata": {},
   "source": [
    "There are various ways in which Dictionaries can be merged by the use of various functions and constructors in Python. In this article, we will discuss few ways of merging dictionaries.\n",
    "\n",
    "### Using the method update()\n",
    "By using the method update() in Python, one list can be merged into another. But in this, the second list is merged into the first list and no new list is created. It returns None."
   ]
  },
  {
   "cell_type": "code",
   "execution_count": 58,
   "metadata": {},
   "outputs": [
    {
     "name": "stdout",
     "output_type": "stream",
     "text": [
      "{'a': 10, 'c': 4, 'b': 8, 'd': 6}\n",
      "{'a': 10, 'c': 4, 'b': 8, 'e': 2, 'd': 6, 'f': 0}\n"
     ]
    }
   ],
   "source": [
    "def Merge(dict1, dict2): \n",
    "    return(dict2.update(dict1)) \n",
    "     \n",
    "# Driver code \n",
    "dict1 = {'a': 10, 'b': 8} \n",
    "dict2 = {'d': 6, 'c': 4}\n",
    "dict3 = {'e': 2, 'f': 0}\n",
    "  \n",
    "Merge(dict1, dict2)\n",
    "  \n",
    "# changes made in dict2 \n",
    "print(dict2) "
   ]
  },
  {
   "cell_type": "markdown",
   "metadata": {},
   "source": [
    "### Using ** in Python (WORKS in python 3.5 or higher)\n",
    "This is generally considered a trick in Python where a single expression is used to merge two dictionaries and stored in a third dictionary. The single expression is ** . This does not affect the other two dictionaries. ** implies that the argument is a dictionary. Using ** [double star] is a shortcut that allows you to pass multiple arguments to a function directly using a dictionary. For more information refer ** kwargs in Python. Using this we first pass all the elements of the first dictionary into the third one and then pass the second dictionary into the third. This will replace the duplicate keys of the first dictionary."
   ]
  },
  {
   "cell_type": "code",
   "execution_count": 31,
   "metadata": {},
   "outputs": [
    {
     "ename": "SyntaxError",
     "evalue": "invalid syntax (<ipython-input-31-30f023967657>, line 2)",
     "output_type": "error",
     "traceback": [
      "\u001b[1;36m  File \u001b[1;32m\"<ipython-input-31-30f023967657>\"\u001b[1;36m, line \u001b[1;32m2\u001b[0m\n\u001b[1;33m    res = {** dict1, ** dict2}\u001b[0m\n\u001b[1;37m            ^\u001b[0m\n\u001b[1;31mSyntaxError\u001b[0m\u001b[1;31m:\u001b[0m invalid syntax\n"
     ]
    }
   ],
   "source": [
    "def Merge(dict1, dict2): \n",
    "    res = {** dict1, ** dict2} \n",
    "    return res \n",
    "      \n",
    "# Driver code \n",
    "dict1 = {'a': 10, 'b': 8} \n",
    "dict2 = {'d': 6, 'c': 4} \n",
    "dict3 = Merge(dict1, dict2) \n",
    "print(dict3) "
   ]
  },
  {
   "cell_type": "markdown",
   "metadata": {},
   "source": [
    "## Dictionary and Looping\n",
    "\n",
    "### Looping over Keys and Values using items"
   ]
  },
  {
   "cell_type": "code",
   "execution_count": 35,
   "metadata": {},
   "outputs": [
    {
     "name": "stdout",
     "output_type": "stream",
     "text": [
      "CSCO\n",
      "IBM\n",
      "MSFT\n"
     ]
    }
   ],
   "source": [
    "stocks = {\n",
    "        'IBM': 146.48,\n",
    "        'MSFT':44.11,\n",
    "        'CSCO':25.54\n",
    "    }\n",
    "    \n",
    "#looping over the keys (when only one variable is used, here c, it can be understood as refering to the keys)\n",
    "for c in stocks:\n",
    "    print(c)"
   ]
  },
  {
   "cell_type": "code",
   "execution_count": 36,
   "metadata": {},
   "outputs": [
    {
     "name": "stdout",
     "output_type": "stream",
     "text": [
      "('CSCO', 25.54)\n",
      "('IBM', 146.48)\n",
      "('MSFT', 44.11)\n"
     ]
    }
   ],
   "source": [
    "for k, v in stocks.items(): #when 2 varaibles are used the first one identifies keys and the second identifies values\n",
    "    print(k,v)"
   ]
  },
  {
   "cell_type": "code",
   "execution_count": 43,
   "metadata": {},
   "outputs": [
    {
     "name": "stdout",
     "output_type": "stream",
     "text": [
      "Code : CSCO, Value : 25.54\n",
      "Code : IBM, Value : 146.48\n",
      "Code : MSFT, Value : 44.11\n",
      "Value : 25.54, Code : CSCO\n",
      "Value : 146.48, Code : IBM\n",
      "Value : 44.11, Code : MSFT\n",
      "Code : CSCO, Value : 25.54\n",
      "Code : IBM, Value : 146.48\n",
      "Code : MSFT, Value : 44.11\n"
     ]
    }
   ],
   "source": [
    "for k, v in stocks.items():\n",
    "    print(\"Code : {0}, Value : {1}\".format(k, v)) #Another Way to use the keys and values when printing\n",
    "    \n",
    "for k, v in stocks.items():\n",
    "    print(\"Value : {0}, Code : {1}\".format(v, k))\n",
    "    \n",
    "for k, v in stocks.items():\n",
    "    print(\"Code : {1}, Value : {0}\".format(v, k))\n",
    "    "
   ]
  },
  {
   "cell_type": "markdown",
   "metadata": {},
   "source": [
    "## Looping Over Key and values without using Items"
   ]
  },
  {
   "cell_type": "code",
   "execution_count": 47,
   "metadata": {},
   "outputs": [
    {
     "name": "stdout",
     "output_type": "stream",
     "text": [
      "first_name = Alfred\n",
      "last_name = Hitchcock\n"
     ]
    }
   ],
   "source": [
    "d = {\"first_name\": \"Alfred\", \"last_name\":\"Hitchcock\"}\n",
    "\n",
    "for k in d:\n",
    "    print(\"{} = {}\".format(k, d[k]))"
   ]
  }
 ],
 "metadata": {
  "kernelspec": {
   "display_name": "Python 2",
   "language": "python",
   "name": "python2"
  },
  "language_info": {
   "codemirror_mode": {
    "name": "ipython",
    "version": 2
   },
   "file_extension": ".py",
   "mimetype": "text/x-python",
   "name": "python",
   "nbconvert_exporter": "python",
   "pygments_lexer": "ipython2",
   "version": "2.7.15"
  }
 },
 "nbformat": 4,
 "nbformat_minor": 2
}
