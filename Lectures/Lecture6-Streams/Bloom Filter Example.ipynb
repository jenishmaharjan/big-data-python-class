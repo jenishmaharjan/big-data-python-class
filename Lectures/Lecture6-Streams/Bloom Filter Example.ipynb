{
 "cells": [
  {
   "cell_type": "markdown",
   "metadata": {},
   "source": [
    "A Bloom filter is a data structure that is used to check for membership of an element x in a set of m elements.\n",
    "\n",
    "http://prakhar.me/articles/bloom-filters-for-dummies/\n",
    "\n",
    "http://axiak.github.io/pybloomfiltermmap/\n",
    "\n",
    "Download from:\n",
    "https://pypi.python.org/pypi/pybloom/1.0.2\n",
    "pip install ez_setup\n",
    "python setup.py install"
   ]
  },
  {
   "cell_type": "code",
   "execution_count": 1,
   "metadata": {},
   "outputs": [
    {
     "name": "stdout",
     "output_type": "stream",
     "text": [
      "Collecting pybloom\n",
      "  Using cached https://files.pythonhosted.org/packages/1a/82/a1ad015bdc19bd7e10aa97070329b84b5e01c0c6b5de88df664a98413eed/pybloom-1.1.tar.gz\n",
      "Requirement already satisfied: bitarray>=0.3.4 in c:\\users\\sam\\anaconda2\\lib\\site-packages (from pybloom) (0.8.1)\n",
      "Building wheels for collected packages: pybloom\n",
      "  Running setup.py bdist_wheel for pybloom: started\n",
      "  Running setup.py bdist_wheel for pybloom: finished with status 'done'\n",
      "  Stored in directory: C:\\Users\\Sam\\AppData\\Local\\pip\\Cache\\wheels\\19\\1d\\a7\\51ab423bf9609665cfc365559c62c652d5b4e414a6faad5ed6\n",
      "Successfully built pybloom\n",
      "Installing collected packages: pybloom\n",
      "Successfully installed pybloom-1.1\n"
     ]
    },
    {
     "name": "stderr",
     "output_type": "stream",
     "text": [
      "distributed 1.21.8 requires msgpack, which is not installed.\n",
      "grin 1.2.1 requires argparse>=1.1, which is not installed.\n",
      "You are using pip version 10.0.1, however version 18.1 is available.\n",
      "You should consider upgrading via the 'python -m pip install --upgrade pip' command.\n"
     ]
    }
   ],
   "source": [
    "!pip install pybloom"
   ]
  },
  {
   "cell_type": "code",
   "execution_count": 2,
   "metadata": {},
   "outputs": [
    {
     "data": {
      "text/plain": [
       "True"
      ]
     },
     "execution_count": 2,
     "metadata": {},
     "output_type": "execute_result"
    }
   ],
   "source": [
    "from pybloom import BloomFilter\n",
    "f = BloomFilter(capacity=10000, error_rate=0.001)\n",
    "for i in xrange(0, f.capacity):\n",
    "    _ = f.add(i)\n",
    "0 in f"
   ]
  },
  {
   "cell_type": "code",
   "execution_count": 3,
   "metadata": {},
   "outputs": [
    {
     "data": {
      "text/plain": [
       "False"
      ]
     },
     "execution_count": 3,
     "metadata": {},
     "output_type": "execute_result"
    }
   ],
   "source": [
    "f.capacity in f"
   ]
  },
  {
   "cell_type": "code",
   "execution_count": 4,
   "metadata": {},
   "outputs": [
    {
     "data": {
      "text/plain": [
       "True"
      ]
     },
     "execution_count": 4,
     "metadata": {},
     "output_type": "execute_result"
    }
   ],
   "source": [
    "len(f) <= f.capacity"
   ]
  },
  {
   "cell_type": "code",
   "execution_count": 5,
   "metadata": {},
   "outputs": [
    {
     "data": {
      "text/plain": [
       "True"
      ]
     },
     "execution_count": 5,
     "metadata": {},
     "output_type": "execute_result"
    }
   ],
   "source": [
    " abs((len(f) / float(f.capacity)) - 1.0) <= f.error_rate"
   ]
  },
  {
   "cell_type": "code",
   "execution_count": 6,
   "metadata": {},
   "outputs": [
    {
     "data": {
      "text/plain": [
       "True"
      ]
     },
     "execution_count": 6,
     "metadata": {},
     "output_type": "execute_result"
    }
   ],
   "source": [
    "from pybloom import ScalableBloomFilter\n",
    "sbf = ScalableBloomFilter(mode=ScalableBloomFilter.SMALL_SET_GROWTH)\n",
    "count = 10000\n",
    "for i in xrange(0, count):\n",
    "     _ = sbf.add(i)\n",
    "sbf.capacity > count\n",
    "\n"
   ]
  },
  {
   "cell_type": "code",
   "execution_count": 7,
   "metadata": {},
   "outputs": [
    {
     "data": {
      "text/plain": [
       "True"
      ]
     },
     "execution_count": 7,
     "metadata": {},
     "output_type": "execute_result"
    }
   ],
   "source": [
    "\n",
    "len(sbf) <= count"
   ]
  },
  {
   "cell_type": "code",
   "execution_count": 8,
   "metadata": {},
   "outputs": [
    {
     "data": {
      "text/plain": [
       "True"
      ]
     },
     "execution_count": 8,
     "metadata": {},
     "output_type": "execute_result"
    }
   ],
   "source": [
    "abs((len(sbf) / float(count)) - 1.0) <= sbf.error_rate"
   ]
  },
  {
   "cell_type": "markdown",
   "metadata": {},
   "source": [
    "#Using a bloom filter on a set of posts\n",
    "\n",
    "http://www.stavros.io/posts/bloom-filter-search-engine/\n"
   ]
  },
  {
   "cell_type": "code",
   "execution_count": 9,
   "metadata": {},
   "outputs": [],
   "source": [
    "from pybloom import BloomFilter\n",
    "import os\n",
    "import re\n",
    "\n",
    "POST_DIR = 'data/posts/'\n",
    "# Read all my posts.\n",
    "posts = {post_name: open(POST_DIR + post_name).read() for post_name in os.listdir(POST_DIR)}\n",
    "# Create a dictionary of {\"post name\": \"lowercase word set\"}.\n",
    "split_posts = {name: set(re.split(\"\\W+\", contents.lower())) for name, contents in posts.items()}"
   ]
  },
  {
   "cell_type": "code",
   "execution_count": 10,
   "metadata": {},
   "outputs": [],
   "source": [
    "filters = {}\n",
    "for name, words in split_posts.items():\n",
    "    filters[name] = BloomFilter(capacity=len(words), error_rate=0.1)\n",
    "    for word in words:\n",
    "        filters[name].add(word)"
   ]
  },
  {
   "cell_type": "code",
   "execution_count": 11,
   "metadata": {},
   "outputs": [],
   "source": [
    "def search(search_string):\n",
    "    search_terms = re.split(\"\\W+\", search_string)\n",
    "    return [name for name, filter in filters.items() if all(term in filter for term in search_terms)]"
   ]
  },
  {
   "cell_type": "code",
   "execution_count": 12,
   "metadata": {},
   "outputs": [
    {
     "data": {
      "text/plain": [
       "['1.txt', '2.txt']"
      ]
     },
     "execution_count": 12,
     "metadata": {},
     "output_type": "execute_result"
    }
   ],
   "source": [
    "search(\"nothing\")"
   ]
  },
  {
   "cell_type": "code",
   "execution_count": 13,
   "metadata": {},
   "outputs": [
    {
     "data": {
      "text/plain": [
       "['3.txt', '4.txt']"
      ]
     },
     "execution_count": 13,
     "metadata": {},
     "output_type": "execute_result"
    }
   ],
   "source": [
    "search(\"ice\")"
   ]
  },
  {
   "cell_type": "code",
   "execution_count": 17,
   "metadata": {},
   "outputs": [
    {
     "ename": "SyntaxError",
     "evalue": "invalid syntax (<ipython-input-17-7b2b60e7aa12>, line 2)",
     "output_type": "error",
     "traceback": [
      "\u001b[1;36m  File \u001b[1;32m\"<ipython-input-17-7b2b60e7aa12>\"\u001b[1;36m, line \u001b[1;32m2\u001b[0m\n\u001b[1;33m    Vacation Time\u001b[0m\n\u001b[1;37m                ^\u001b[0m\n\u001b[1;31mSyntaxError\u001b[0m\u001b[1;31m:\u001b[0m invalid syntax\n"
     ]
    }
   ],
   "source": [
    "# %load data/posts/3.txt\n",
    "Vacation Time\n"
   ]
  },
  {
   "cell_type": "code",
   "execution_count": 15,
   "metadata": {},
   "outputs": [
    {
     "ename": "SyntaxError",
     "evalue": "invalid syntax (<ipython-input-15-6919083190f7>, line 2)",
     "output_type": "error",
     "traceback": [
      "\u001b[1;36m  File \u001b[1;32m\"<ipython-input-15-6919083190f7>\"\u001b[1;36m, line \u001b[1;32m2\u001b[0m\n\u001b[1;33m    Ice cream is always good\u001b[0m\n\u001b[1;37m            ^\u001b[0m\n\u001b[1;31mSyntaxError\u001b[0m\u001b[1;31m:\u001b[0m invalid syntax\n"
     ]
    }
   ],
   "source": [
    "# %load data\\posts\\4.txt\n",
    "Ice cream is always good"
   ]
  },
  {
   "cell_type": "code",
   "execution_count": 18,
   "metadata": {},
   "outputs": [
    {
     "data": {
      "text/plain": [
       "6"
      ]
     },
     "execution_count": 18,
     "metadata": {},
     "output_type": "execute_result"
    }
   ],
   "source": [
    " sum(len(filter.bitarray.tobytes()) for filter in filters.values()) / len(filters)"
   ]
  },
  {
   "cell_type": "code",
   "execution_count": null,
   "metadata": {
    "collapsed": true
   },
   "outputs": [],
   "source": []
  }
 ],
 "metadata": {
  "kernelspec": {
   "display_name": "Python 2",
   "language": "python",
   "name": "python2"
  },
  "language_info": {
   "codemirror_mode": {
    "name": "ipython",
    "version": 2
   },
   "file_extension": ".py",
   "mimetype": "text/x-python",
   "name": "python",
   "nbconvert_exporter": "python",
   "pygments_lexer": "ipython2",
   "version": "2.7.15"
  }
 },
 "nbformat": 4,
 "nbformat_minor": 1
}
