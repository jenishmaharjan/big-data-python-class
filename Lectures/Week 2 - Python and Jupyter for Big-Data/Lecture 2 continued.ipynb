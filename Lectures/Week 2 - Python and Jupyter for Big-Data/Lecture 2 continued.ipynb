{
 "cells": [
  {
   "cell_type": "markdown",
   "metadata": {},
   "source": [
    "# Lecture 2 continued"
   ]
  },
  {
   "cell_type": "markdown",
   "metadata": {},
   "source": [
    "### regular expressions\n",
    "Provides a way to search text.\n",
    "Looking for matching patterns"
   ]
  },
  {
   "cell_type": "code",
   "execution_count": 39,
   "metadata": {},
   "outputs": [
    {
     "name": "stdout",
     "output_type": "stream",
     "text": [
      "True\n"
     ]
    }
   ],
   "source": [
    "import re\n",
    "print all([\n",
    "    not re.match(\"a\",\"cat\"),\n",
    "    re.search(\"a\",\"cat\"),\n",
    "    not re.search(\"c\",\"dog\"),\n",
    "    3 == len(re.split(\"[ab]\",\"carbs\")),\n",
    "    \"R-D-\" == re.sub(\"[0-9]\",\"-\",\"R2D2\")\n",
    "])  # prints true if all are true"
   ]
  },
  {
   "cell_type": "markdown",
   "metadata": {},
   "source": [
    "### Object-oriented programming\n",
    "Creating classes of objects with data and methods(functions) that operate on the data."
   ]
  },
  {
   "cell_type": "code",
   "execution_count": 40,
   "metadata": {},
   "outputs": [],
   "source": [
    "class Set:\n",
    "    def __init__(self, values=None):\n",
    "        \"\"\"This is the constructor\"\"\"\n",
    "        self.dict={}\n",
    "        if values is not None:\n",
    "            for value in values:\n",
    "                self.add(value)\n",
    "    def __repr__(self):\n",
    "        \"\"\"Sting to represent object in class like a to_string function\"\"\"\n",
    "        return \"set:\"+str(self.dict.keys())\n",
    "    def add(self, value):\n",
    "        self.dict[value] = True\n",
    "    def contains(self, value):\n",
    "        return value in self.dict \n",
    "        \n",
    "    def remove(self,value):\n",
    "        del self.dict[value]\n",
    "\n",
    "\n",
    "\n",
    "    "
   ]
  },
  {
   "cell_type": "code",
   "execution_count": 41,
   "metadata": {},
   "outputs": [
    {
     "name": "stdout",
     "output_type": "stream",
     "text": [
      "False\n"
     ]
    }
   ],
   "source": [
    "#using the class\n",
    "s = Set([1,2,3])\n",
    "s.add(4)\n",
    "s.remove(3)\n",
    "print s.contains(3)"
   ]
  },
  {
   "cell_type": "code",
   "execution_count": 42,
   "metadata": {},
   "outputs": [
    {
     "name": "stdout",
     "output_type": "stream",
     "text": [
      "set:[1, 2, 4]\n"
     ]
    }
   ],
   "source": [
    "print s"
   ]
  },
  {
   "cell_type": "markdown",
   "metadata": {},
   "source": [
    "### Functional Tools\n",
    "sometimes you want to change behavior based on the passed value types"
   ]
  },
  {
   "cell_type": "code",
   "execution_count": 43,
   "metadata": {},
   "outputs": [
    {
     "name": "stdout",
     "output_type": "stream",
     "text": [
      "8\n"
     ]
    }
   ],
   "source": [
    "def exp(base,power):\n",
    "    return base**power\n",
    "\n",
    "#exp(2,power)\n",
    "def two_to_the(power):\n",
    "    return exp(2,power)\n",
    "\n",
    "print( two_to_the(3) )"
   ]
  },
  {
   "cell_type": "code",
   "execution_count": 19,
   "metadata": {},
   "outputs": [
    {
     "name": "stdout",
     "output_type": "stream",
     "text": [
      "[4, 10]\n"
     ]
    }
   ],
   "source": [
    "def multiply(x,y): return x*y\n",
    "\n",
    "products = map(multiply,[1,2],[4,5])\n",
    "print products"
   ]
  },
  {
   "cell_type": "code",
   "execution_count": null,
   "metadata": {},
   "outputs": [],
   "source": []
  },
  {
   "cell_type": "markdown",
   "metadata": {},
   "source": [
    "### enumerate\n",
    "enumerates creates a tuple (index,element)"
   ]
  },
  {
   "cell_type": "code",
   "execution_count": 25,
   "metadata": {},
   "outputs": [
    {
     "name": "stdout",
     "output_type": "stream",
     "text": [
      "index:0 Item:a\n",
      "index:1 Item:b\n"
     ]
    }
   ],
   "source": [
    "#example use\n",
    "documents = [\"a\",\"b\"]\n",
    "def do_something(index,item):\n",
    "    print \"index:\"+str(index)+\" Item:\"+item\n",
    "    \n",
    "for i, document in enumerate(documents):\n",
    "    do_something(i,document)\n",
    "    \n"
   ]
  },
  {
   "cell_type": "code",
   "execution_count": 29,
   "metadata": {},
   "outputs": [
    {
     "name": "stdout",
     "output_type": "stream",
     "text": [
      "index:0\n",
      "index:1\n"
     ]
    }
   ],
   "source": [
    "def do_something(index ):\n",
    "    print \"index:\"+str(index) \n",
    "    \n",
    "for i, _ in enumerate(documents): do_something(i)"
   ]
  },
  {
   "cell_type": "markdown",
   "metadata": {},
   "source": [
    "### Zip and argument unpacking\n",
    "zip forms two more more lists for other lists"
   ]
  },
  {
   "cell_type": "code",
   "execution_count": 30,
   "metadata": {},
   "outputs": [
    {
     "data": {
      "text/plain": [
       "[('a', 1), ('b', 2), ('c', 3)]"
      ]
     },
     "execution_count": 30,
     "metadata": {},
     "output_type": "execute_result"
    }
   ],
   "source": [
    "list1 = ['a','b','c']\n",
    "list2 = [1,2,3]\n",
    "zip(list1,list2)"
   ]
  },
  {
   "cell_type": "code",
   "execution_count": 34,
   "metadata": {},
   "outputs": [
    {
     "name": "stdout",
     "output_type": "stream",
     "text": [
      "('a', 'b', 'c')\n",
      "(1, 2, 3)\n"
     ]
    }
   ],
   "source": [
    "pairs = [('a', 1), ('b', 2), ('c', 3)]\n",
    "letters, numbers = zip(*pairs)  #  * performs argument unpacking\n",
    "print letters\n",
    "print numbers"
   ]
  },
  {
   "cell_type": "markdown",
   "metadata": {},
   "source": [
    "### args and kwargs\n",
    "higher order function support - functions on functions"
   ]
  },
  {
   "cell_type": "code",
   "execution_count": 35,
   "metadata": {},
   "outputs": [
    {
     "name": "stdout",
     "output_type": "stream",
     "text": [
      "8\n"
     ]
    }
   ],
   "source": [
    "def doubler(f):\n",
    "    def g(x):\n",
    "        return 2 * f(x)\n",
    "    return g\n",
    "\n",
    "def f1(x):\n",
    "    return x+1\n",
    "\n",
    "g= doubler(f1)\n",
    "\n",
    "print g(3)\n"
   ]
  },
  {
   "cell_type": "code",
   "execution_count": 38,
   "metadata": {},
   "outputs": [
    {
     "name": "stdout",
     "output_type": "stream",
     "text": [
      "unamed args (1, 2)\n",
      "Key word args {'key2': 'word2', 'key1': 'word1'}\n"
     ]
    }
   ],
   "source": [
    "def magic(*args, **kwargs):\n",
    "    print \"unamed args\", args\n",
    "    print \"Key word args\", kwargs\n",
    "    \n",
    "magic(1,2,key1=\"word1\",key2=\"word2\")"
   ]
  },
  {
   "cell_type": "code",
   "execution_count": null,
   "metadata": {},
   "outputs": [],
   "source": []
  }
 ],
 "metadata": {
  "kernelspec": {
   "display_name": "Python 2",
   "language": "python",
   "name": "python2"
  },
  "language_info": {
   "codemirror_mode": {
    "name": "ipython",
    "version": 2
   },
   "file_extension": ".py",
   "mimetype": "text/x-python",
   "name": "python",
   "nbconvert_exporter": "python",
   "pygments_lexer": "ipython2",
   "version": "2.7.15"
  }
 },
 "nbformat": 4,
 "nbformat_minor": 2
}
